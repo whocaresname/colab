{
  "nbformat": 4,
  "nbformat_minor": 0,
  "metadata": {
    "colab": {
      "name": "w3ressource - Basic - Part I.ipynb",
      "provenance": [],
      "collapsed_sections": [],
      "include_colab_link": true
    },
    "kernelspec": {
      "display_name": "Python 3",
      "name": "python3"
    }
  },
  "cells": [
    {
      "cell_type": "markdown",
      "metadata": {
        "id": "view-in-github",
        "colab_type": "text"
      },
      "source": [
        "<a href=\"https://colab.research.google.com/github/whocaresname/colab/blob/main/w3ressource_Basic_Part_I.ipynb\" target=\"_parent\"><img src=\"https://colab.research.google.com/assets/colab-badge.svg\" alt=\"Open In Colab\"/></a>"
      ]
    },
    {
      "cell_type": "markdown",
      "metadata": {
        "id": "DPNPU6mFZHAG"
      },
      "source": [
        "### Documentation\n",
        "\n",
        "https://docs.python.org/"
      ]
    },
    {
      "cell_type": "markdown",
      "metadata": {
        "id": "bXxZ0dGuWL_b"
      },
      "source": [
        "**1. Write a Python program to print the following string in a specific format (see the output).**\n",
        "\n",
        "Sample String : \"Twinkle, twinkle, little star, How I wonder what you are! Up above the world so high, Like a diamond in the sky. Twinkle, twinkle, little star, How I wonder what you are\"\n",
        "\n",
        "Output\n",
        "\n",
        "```\n",
        "Twinkle, twinkle, little star,\n",
        "\tHow I wonder what you are! \n",
        "\t\tUp above the world so high,   \t\t\n",
        "\t\tLike a diamond in the sky. \n",
        "Twinkle, twinkle, little star, \n",
        "\tHow I wonder what you are\n",
        "```"
      ]
    },
    {
      "cell_type": "code",
      "metadata": {
        "colab": {
          "base_uri": "https://localhost:8080/"
        },
        "id": "atQKyA4EWRn6",
        "outputId": "8da058b6-4e2e-45d4-a7fe-89ed71eafd4d"
      },
      "source": [
        "print(\"Twinkle, twinkle, little star, \\n\\tHow I wonder what you are! Up above the world so high, \\n\\t\\tUp above the world so high, \\n\\t\\tLike a diamond in the sky. \\nTwinkle, twinkle, little star, \\n\\t How I wonder what you are\")"
      ],
      "execution_count": null,
      "outputs": [
        {
          "output_type": "stream",
          "text": [
            "Twinkle, twinkle, little star, \n",
            "\tHow I wonder what you are! Up above the world so high, \n",
            "\t\tUp above the world so high, \n",
            "\t\tLike a diamond in the sky. \n",
            "Twinkle, twinkle, little star, \n",
            "\t How I wonder what you are\n"
          ],
          "name": "stdout"
        }
      ]
    },
    {
      "cell_type": "markdown",
      "metadata": {
        "id": "I9Or5dFeHzD4"
      },
      "source": [
        "**2. Write a Python program to get the Python version you are using.**"
      ]
    },
    {
      "cell_type": "code",
      "metadata": {
        "colab": {
          "base_uri": "https://localhost:8080/"
        },
        "id": "ttdvLk0XH37H",
        "outputId": "add28458-c9a7-47cf-99ce-3c60d08a9a48"
      },
      "source": [
        "import sys\n",
        "print(\"Python version:\", sys.version) \n",
        "print(\"Version info:\", sys.version_info)"
      ],
      "execution_count": null,
      "outputs": [
        {
          "output_type": "stream",
          "text": [
            "Python version: 3.6.9 (default, Oct  8 2020, 12:12:24) \n",
            "[GCC 8.4.0]\n",
            "Version info: sys.version_info(major=3, minor=6, micro=9, releaselevel='final', serial=0)\n"
          ],
          "name": "stdout"
        }
      ]
    },
    {
      "cell_type": "markdown",
      "metadata": {
        "id": "nFSt-nhpJI2t"
      },
      "source": [
        "**3. Write a Python program to display the current date and time.**\n",
        "\n",
        "Output\n",
        "\n",
        "```\n",
        "Current date and time :\n",
        "2014-07-05 14:34:14\n",
        "```"
      ]
    },
    {
      "cell_type": "code",
      "metadata": {
        "colab": {
          "base_uri": "https://localhost:8080/"
        },
        "id": "JF4f3A7dJPsH",
        "outputId": "9ad1ee21-432d-40b4-fe35-b6c71b30e2ae"
      },
      "source": [
        "import datetime\n",
        "now = datetime.datetime.now()\n",
        "print(\"Current date and time: \") \n",
        "print(now.strftime(\"%Y-%m-%d %H:%M:%S\"))\n",
        "\n"
      ],
      "execution_count": null,
      "outputs": [
        {
          "output_type": "stream",
          "text": [
            "Current date and time: \n",
            "2021-01-10 15:09:57\n"
          ],
          "name": "stdout"
        }
      ]
    },
    {
      "cell_type": "markdown",
      "metadata": {
        "id": "2q5Y_av2P7Uu"
      },
      "source": [
        "**4. Write a Python program which accepts the radius of a circle from the user and compute the area.**\n",
        "\n",
        "Output\n",
        "\n",
        "```\n",
        "r = 1.1\n",
        "Area = 3.8013271108436504\n",
        "```"
      ]
    },
    {
      "cell_type": "code",
      "metadata": {
        "colab": {
          "base_uri": "https://localhost:8080/"
        },
        "id": "TaQLpqzSP8VD",
        "outputId": "874cfd65-1aa3-470a-ad04-389a4590f0ee"
      },
      "source": [
        "\n",
        "#area of a circule = Пr2\n",
        "import math\n",
        "\n",
        "r = float(input(\"r = \"))\n",
        "area = math.pi * r**2\n",
        "print(\"Area =\", area)"
      ],
      "execution_count": null,
      "outputs": [
        {
          "output_type": "stream",
          "text": [
            "r = 2\n",
            "Area = 12.566370614359172\n"
          ],
          "name": "stdout"
        }
      ]
    },
    {
      "cell_type": "markdown",
      "metadata": {
        "id": "alcz0EeGomcN"
      },
      "source": [
        "**5. Write a Python program which accepts the user's first and last name and print them in reverse order with a space between them.**"
      ]
    },
    {
      "cell_type": "code",
      "metadata": {
        "colab": {
          "base_uri": "https://localhost:8080/"
        },
        "id": "plrVyZjeoxSv",
        "outputId": "af837c30-7f43-461c-9eea-5d5d5878c2ae"
      },
      "source": [
        "name = input(\"your name is:\")\n",
        "last_name = input(\"your last name is:\")\n",
        "print(last_name, name)"
      ],
      "execution_count": null,
      "outputs": [
        {
          "output_type": "stream",
          "text": [
            "your name is:k\n",
            "your last name is:l\n",
            "l k\n"
          ],
          "name": "stdout"
        }
      ]
    },
    {
      "cell_type": "markdown",
      "metadata": {
        "id": "Mo0OKwXrq5d4"
      },
      "source": [
        "**6.Write a Python program which accepts a sequence of comma-separated numbers from user and generate a list and a tuple with those numbers.** \n",
        "\n",
        "Sample data : 3, 5, 7, 23\n",
        "\n",
        "Output\n",
        "```\n",
        "List : ['3', ' 5', ' 7', ' 23']\n",
        "Tuple : ('3', ' 5', ' 7', ' 23')\n",
        "```"
      ]
    },
    {
      "cell_type": "code",
      "metadata": {
        "colab": {
          "base_uri": "https://localhost:8080/"
        },
        "id": "mhlyOyl1rTMw",
        "outputId": "d46dbd40-51f1-468d-e150-f9171fb1fabe"
      },
      "source": [
        "x = input(\"input a sequence of comma-separated numbers: \")\n",
        "list = x.split(\",\")\n",
        "print(\"List :\", list)\n",
        "y = tuple(list)\n",
        "print(\"Tuple :\", y)\n",
        "\n",
        "#I tried a lot, but failed with a f*cking tuple.\n",
        "#it works!\n",
        "# congrats) -> you just did what is called a cast (from list type to tuple)"
      ],
      "execution_count": null,
      "outputs": [
        {
          "output_type": "stream",
          "text": [
            "input a sequence of comma-separated numbers: 1,2,3,4\n",
            "List : ['1', '2', '3', '4']\n",
            "Tuple : ('1', '2', '3', '4')\n"
          ],
          "name": "stdout"
        }
      ]
    },
    {
      "cell_type": "markdown",
      "metadata": {
        "id": "c1OfdPTAv5k9"
      },
      "source": [
        "**7.Write a Python program to accept a filename from the user and print the extension of that.** \n",
        "\n",
        "Sample filename : abc.java\n",
        "\n",
        "Output\n",
        "```\n",
        "java\n",
        "\n",
        "```"
      ]
    },
    {
      "cell_type": "code",
      "metadata": {
        "colab": {
          "base_uri": "https://localhost:8080/"
        },
        "id": "KaSgqCcrAJSI",
        "outputId": "7ba91c3a-43e7-4a4e-8f67-ead561626a35"
      },
      "source": [
        "fn = input(\"Enter a filename: \")\n",
        "f_ext = fn.split(\".\")\n",
        "print(\"the extension is: \" + f_ext[-1])\n",
        "\n",
        "# TODO: this works but try to use file functions as a second option                             done\n",
        "\n",
        "import os\n",
        "file_name = input(\"Enter a filename: \")\n",
        "print(os.path.splitext(file_name)[-1])\n",
        "\n"
      ],
      "execution_count": null,
      "outputs": [
        {
          "output_type": "stream",
          "text": [
            "Enter a filename: abc.java\n",
            "the extension is: java\n",
            "Enter a filename: abc.python\n",
            ".python\n"
          ],
          "name": "stdout"
        }
      ]
    },
    {
      "cell_type": "markdown",
      "metadata": {
        "id": "WCOuacGHBjHL"
      },
      "source": [
        "**8.Write a Python program to display the first and last colors from the following list.**\n",
        "```\n",
        "color_list = [\"Red\",\"Green\",\"White\" ,\"Black\"]\n",
        "```\n"
      ]
    },
    {
      "cell_type": "code",
      "metadata": {
        "colab": {
          "base_uri": "https://localhost:8080/"
        },
        "id": "mj07xaIwBvfs",
        "outputId": "08e3ce25-98db-4103-a928-b83a9856c3a3"
      },
      "source": [
        "color_list = [\"Red\",\"Green\",\"White\" ,\"Black\"]\n",
        "print(color_list[0], color_list[-1])\n",
        "\n",
        "\n"
      ],
      "execution_count": null,
      "outputs": [
        {
          "output_type": "stream",
          "text": [
            "Red Black\n"
          ],
          "name": "stdout"
        }
      ]
    },
    {
      "cell_type": "markdown",
      "metadata": {
        "id": "ZZa59AG8EYb4"
      },
      "source": [
        "**9.Write a Python program to display the examination schedule. (extract the date from exam_st_date).**\n",
        "\n",
        "exam_st_date = (11, 12, 2014)\n",
        "\n",
        "Sample Output\n",
        "```\n",
        "The examination will start from : 11 / 12 / 2014\n",
        "```"
      ]
    },
    {
      "cell_type": "code",
      "metadata": {
        "colab": {
          "base_uri": "https://localhost:8080/"
        },
        "id": "P9j_qvMmF41K",
        "outputId": "8c67ffa2-6e52-4653-a714-0f5bf369a8ba"
      },
      "source": [
        "# https://docs.python.org/3.6/library/datetime.html\n",
        "\n",
        "exam_st_date = (11, 12, 2014)\n",
        "print(\"The examination will start from : {} / {} / {}\" .format(*exam_st_date))\n",
        "\n",
        "# TODO: try a second option by using a date object and date funtions               done\n",
        "# NB: you can paste the documentation link in a comment\n",
        "\n",
        "from datetime import date\n",
        "dt_obj = datetime(2014, 11, 12)\n",
        "date_str = dt_obj.strftime(\"%m / %d / %Y\")\n",
        "print(\"The examination will start from :\", date_str)\n",
        "\n"
      ],
      "execution_count": null,
      "outputs": [
        {
          "output_type": "stream",
          "text": [
            "The examination will start from : 11 / 12 / 2014\n",
            "The examination will start from : 11 / 12 / 2014\n"
          ],
          "name": "stdout"
        }
      ]
    },
    {
      "cell_type": "markdown",
      "metadata": {
        "id": "SmsdQpBaIE3k"
      },
      "source": [
        "**10.Write a Python program that accepts an integer (n) and computes the value of n+nn+nnn.**\n",
        "\n",
        "Sample value of n is 5.\n",
        "\n",
        "Expected Result\n",
        "```\n",
        "615\n",
        "```"
      ]
    },
    {
      "cell_type": "code",
      "metadata": {
        "colab": {
          "base_uri": "https://localhost:8080/"
        },
        "id": "7MqG9uOzIOyG",
        "outputId": "83fd2f48-cf18-4b33-b7e3-0afdaa698623"
      },
      "source": [
        "n = int(input(\"Input an integer: \"))\n",
        "\n",
        "# This is strange!?        \n",
        "#a = int('%s' % n*2)\n",
        "#b = int('%s' % n*3)\n",
        "\n",
        "# better\n",
        "a = n**2\n",
        "b = n**3\n",
        "\n",
        "print(n+a+b)\n",
        "\n",
        "# OR shorter\n",
        "print(n+n**2+n**3)"
      ],
      "execution_count": null,
      "outputs": [
        {
          "output_type": "stream",
          "text": [
            "Input an integer: 3\n",
            "39\n",
            "39\n"
          ],
          "name": "stdout"
        }
      ]
    },
    {
      "cell_type": "markdown",
      "metadata": {
        "id": "oirgtMUQd5mq"
      },
      "source": [
        "**11.Write a Python program to print the documents (syntax, description etc.) of Python built-in function(s).**\n",
        "\n",
        "Sample function: abs()\n",
        "\n",
        "Expected Result\n",
        "```\n",
        "abs(number) -> number\n",
        "Return the absolute value of the argument.\n",
        "```"
      ]
    },
    {
      "cell_type": "code",
      "metadata": {
        "colab": {
          "base_uri": "https://localhost:8080/"
        },
        "id": "HQ6GW-KLeLxf",
        "outputId": "b38b019e-dc63-419d-ed21-fc4bfab8db76"
      },
      "source": [
        "# TODO: to be completed (see exected output above)                                    done?\n",
        "print(\"abs(number) -> number\")\n",
        "print(abs.__doc__)\n"
      ],
      "execution_count": null,
      "outputs": [
        {
          "output_type": "stream",
          "text": [
            "abs(number) -> number\n",
            "Return the absolute value of the argument.\n"
          ],
          "name": "stdout"
        }
      ]
    },
    {
      "cell_type": "code",
      "metadata": {
        "colab": {
          "base_uri": "https://localhost:8080/"
        },
        "id": "G0pkvUWlIrKX",
        "outputId": "34ab9a8e-a16a-47aa-a418-9b09dc45f7db"
      },
      "source": [
        "print(abs.__doc__)"
      ],
      "execution_count": null,
      "outputs": [
        {
          "output_type": "stream",
          "text": [
            "None\n"
          ],
          "name": "stdout"
        }
      ]
    },
    {
      "cell_type": "markdown",
      "metadata": {
        "id": "ytJBslUhjGku"
      },
      "source": [
        "**12.Write a Python program to print the calendar of a given month and year.**\n",
        "```\n",
        "Note : Use 'calendar' module.\n",
        "```"
      ]
    },
    {
      "cell_type": "code",
      "metadata": {
        "colab": {
          "base_uri": "https://localhost:8080/"
        },
        "id": "Gypa7uEdjTQe",
        "outputId": "0a6f2704-b3ac-43c4-d8a1-4f9d4906158f"
      },
      "source": [
        "# https://docs.python.org/3.6/library/calendar.html#module-calendar\n",
        "\n",
        "import calendar\n",
        "m = int(input(\"Month: \"))\n",
        "y = int(input(\"Year: \"))\n",
        "print(calendar.month(y, m))\n",
        "\n",
        "# looks OK. You could paste the link to calendar documentation in a comment\n"
      ],
      "execution_count": null,
      "outputs": [
        {
          "output_type": "stream",
          "text": [
            "Month: 7\n",
            "Year: 1998\n",
            "     July 1998\n",
            "Mo Tu We Th Fr Sa Su\n",
            "       1  2  3  4  5\n",
            " 6  7  8  9 10 11 12\n",
            "13 14 15 16 17 18 19\n",
            "20 21 22 23 24 25 26\n",
            "27 28 29 30 31\n",
            "\n"
          ],
          "name": "stdout"
        }
      ]
    },
    {
      "cell_type": "markdown",
      "metadata": {
        "id": "DGXfBqRAkhRo"
      },
      "source": [
        "**13.Write a Python program to print the following here document.**\n",
        "\n",
        "Sample string \n",
        "```\n",
        "a string that you \"don't\" have to escape\n",
        "This\n",
        "is a ....... multi-line\n",
        "heredoc string --------> example\n",
        "```"
      ]
    },
    {
      "cell_type": "code",
      "metadata": {
        "colab": {
          "base_uri": "https://localhost:8080/"
        },
        "id": "oY8ud4CglHHW",
        "outputId": "ae90f246-2c5f-45e8-bbc3-ffa6b1b3983c"
      },
      "source": [
        "print( \"\"\"\n",
        "a string that you \"don't\" have to escape\n",
        "This\n",
        "is a ....... multi-line\n",
        "heredoc string --------> example\n",
        "\"\"\")"
      ],
      "execution_count": null,
      "outputs": [
        {
          "output_type": "stream",
          "text": [
            "\n",
            "a string that you \"don't\" have to escape\n",
            "This\n",
            "is a ....... multi-line\n",
            "heredoc string --------> example\n",
            "\n"
          ],
          "name": "stdout"
        }
      ]
    },
    {
      "cell_type": "markdown",
      "metadata": {
        "id": "B4cXG8CnlP3C"
      },
      "source": [
        "**14.Write a Python program to calculate number of days between two dates.**\n",
        "\n",
        "Sample dates : (2014, 7, 2), (2014, 7, 11)\n",
        "\n",
        "Expected output\n",
        "```\n",
        "9 days\n",
        "```"
      ]
    },
    {
      "cell_type": "code",
      "metadata": {
        "colab": {
          "base_uri": "https://localhost:8080/"
        },
        "id": "OJ0vE7jClaDE",
        "outputId": "a66aeeb2-a1f2-4635-e600-4dfebc1e3913"
      },
      "source": [
        "from datetime import date \n",
        "dt1 = date(2014, 7, 2)\n",
        "dt2 = date(2014, 7, 11)\n",
        "delta = dt2 - dt1 \n",
        "print(delta.days,  \"days\")\n"
      ],
      "execution_count": null,
      "outputs": [
        {
          "output_type": "stream",
          "text": [
            "9 days\n"
          ],
          "name": "stdout"
        }
      ]
    },
    {
      "cell_type": "markdown",
      "metadata": {
        "id": "lnjBOBxPnRUR"
      },
      "source": [
        "**15.Write a Python program to get the volume of a sphere with radius 6.**"
      ]
    },
    {
      "cell_type": "code",
      "metadata": {
        "colab": {
          "base_uri": "https://localhost:8080/"
        },
        "id": "U51gvyG4nZko",
        "outputId": "ac671b72-b517-41ba-9489-ebb006a5615f"
      },
      "source": [
        "# V = 4/3 πr³\n",
        "r = 6\n",
        "pi = 3.14\n",
        "v = 4.0/3.0 * pi * r**3\n",
        "print(\"the volume is: \", v)"
      ],
      "execution_count": null,
      "outputs": [
        {
          "output_type": "stream",
          "text": [
            "the volume is:  904.3199999999999\n"
          ],
          "name": "stdout"
        }
      ]
    },
    {
      "cell_type": "markdown",
      "metadata": {
        "id": "iAAhwDkPpNOJ"
      },
      "source": [
        "**16.Write a Python program to get the difference between a given number and 17, if the number is greater than 17 return double the absolute difference.**"
      ]
    },
    {
      "cell_type": "code",
      "metadata": {
        "id": "JdeDVFSmrdVo"
      },
      "source": [
        "# Getting the difference between a given number and 17, \n",
        "# If the number is greater than 17 return double the absolute difference.         completed comments and doc, but confuesed with asserts \n",
        "\n",
        "def difference(a:int) -> int:                                                   \n",
        "  \"\"\"\n",
        "  Gets the difference between a given number and 17.\n",
        "  If a > 17 - returns double the absolute difference.\n",
        "  \"\"\"\n",
        "  # implementation OK now)\n",
        "  if a > 17:\n",
        "    return (a - 17)*2\n",
        "  elif a <= 17:\n",
        "    return (17 - a)\n",
        "\n",
        "# TODO: instead of print statements, use asserts\n",
        "# NB: no message means it is OK\n",
        "assert difference(10) == 7\n",
        "assert difference(25) == 16\n",
        "assert difference(16) == 1"
      ],
      "execution_count": null,
      "outputs": []
    },
    {
      "cell_type": "markdown",
      "metadata": {
        "id": "4uE6-U7wv_KW"
      },
      "source": [
        "**17.Write a Python program to test whether a number is within 100 of 1000 or 2000.**"
      ]
    },
    {
      "cell_type": "code",
      "metadata": {
        "id": "ewOFYJpSxFdx"
      },
      "source": [
        "# TODO: use abs function (absolute value)                                          done\n",
        "def near_thousand(n: int) -> bool:\n",
        "  \"\"\"\n",
        "  Tests whether a number is within 100 of 1000 or 2000.                                                      \n",
        "  \"\"\"\n",
        "  if (abs(n-1000) >= 100) or (abs(n-2000) >= 100):\n",
        "    return True\n",
        "  else: \n",
        "    return False\n",
        "\n",
        "# use asserts to check if the function works\n",
        "# Should not be here -> just test it in a terminal \n",
        "# assert (abs(900-1000) >= 100) or (abs(900-2000) > 100) == True                   \n",
        "assert near_thousand(900)"
      ],
      "execution_count": null,
      "outputs": []
    },
    {
      "cell_type": "markdown",
      "metadata": {
        "id": "0GazbDb35lFM"
      },
      "source": [
        "**18.Write a Python program to calculate the sum of three given numbers, if the values are equal then return three times of their sum.**"
      ]
    },
    {
      "cell_type": "code",
      "metadata": {
        "id": "129dLaDa5xxL"
      },
      "source": [
        "# Calculation the sum of 3 given numbers. \n",
        "# If the values are equal - return three times of their sum.                      done     \n",
        "# OK\n",
        "def special_sum(n: int, n1: int, n2: int) -> int:\n",
        "  \"\"\"\n",
        "  Calculates the sum of 3 numbers. \n",
        "  If the values of arguments are equal - returns three times of their sum.                                          \n",
        "  \"\"\"  \n",
        "  # if n == n1 and n1 == n2: \n",
        "  if n == n1 == n2: \n",
        "    return (n+n1+n2)*3\n",
        "  else:\n",
        "   return (n+n1+n2)\n",
        "\n",
        "# TODO: use asserts here\n",
        "# print(special_sum(5, 5, 5)) \n",
        "# print(special_sum(1,2,3))\n",
        "\n",
        "assert special_sum(5, 5, 5) == 45\n",
        "assert special_sum(1,2,3) == 6"
      ],
      "execution_count": null,
      "outputs": []
    },
    {
      "cell_type": "markdown",
      "metadata": {
        "id": "-hetwjDE8dg3"
      },
      "source": [
        "**19.Write a Python program to get a new string from a given string where \"Is\" has been added to the front. If the given string already begins with \"Is\" then return the string unchanged.**"
      ]
    },
    {
      "cell_type": "code",
      "metadata": {
        "id": "F_uBgzA68l02"
      },
      "source": [
        "# Getting a new string with added \"Is\" to the front. \n",
        "# if the given string already begins with \"Is\" - return the string unchanged.     done\n",
        "\n",
        "# TODO: correct the signature (indicate the type of srt argument and rename 'str' in 's')\n",
        "# OK\n",
        "def ns(s: str) -> str:\n",
        "  \"\"\"\n",
        "  Adds \"Is\" to the front of given string.\n",
        "  If the string begins with \"Is\" - returns the string unchanged.\n",
        "  \"\"\"\n",
        "  # TODO: 'Is' is not 'is'                  \n",
        "  if len(s) >= 2  and s[:2] == \"Is\":\n",
        "    return s\n",
        "  return \"Is \" + s\n",
        "\n",
        "# TODO: use asserts\n",
        "assert ns(\"there is a boo\") == \"Is there is a boo\"\n",
        "assert ns(\"Is it a boo?\") == \"Is it a boo?\""
      ],
      "execution_count": null,
      "outputs": []
    },
    {
      "cell_type": "markdown",
      "metadata": {
        "id": "6iplYlNoAfcj"
      },
      "source": [
        "**20.Write a Python program to get a string which is n (non-negative integer) copies of a given string.**"
      ]
    },
    {
      "cell_type": "code",
      "metadata": {
        "id": "e9WkiCypAoWh"
      },
      "source": [
        "# Getting a string which is n (non-negative integer) copies of a given string.    done\n",
        "\n",
        "# TODO: rename str to s and indicate the type of the string\n",
        "def ns(s: str, n:int) -> str:\n",
        "  \"\"\"\n",
        "  Copies a string n times\n",
        "  \"\"\"\n",
        "  result = \"\"\n",
        "  \n",
        "  for i in range(n):\n",
        "    result = result + s\n",
        "  return result\n",
        "    \n",
        "# use assert here\n",
        "# what about edge case when n is 0                                                \n",
        "\n",
        "assert ns('boom', 0) == \"\"\n",
        "assert ns('boom', 4) == \"boomboomboomboom\""
      ],
      "execution_count": null,
      "outputs": []
    },
    {
      "cell_type": "markdown",
      "metadata": {
        "id": "gFFR_R14ShZ_"
      },
      "source": [
        "**21.Write a Python program to find whether a given number (accept from the user) is even or odd, print out an appropriate message to the user.**"
      ]
    },
    {
      "cell_type": "code",
      "metadata": {
        "colab": {
          "base_uri": "https://localhost:8080/",
          "height": 197
        },
        "id": "RfId8PXGSlpB",
        "outputId": "f297b09b-e076-42c0-d558-d1d285f6a22d"
      },
      "source": [
        "# TODO: rewrite by using a function is_odd(n: int) -> bool and asserts           done\n",
        "# Find whether a given number is odd.\n",
        "\n",
        "def is_odd(n: int) -> bool:\n",
        "  '''\n",
        "  Find whether a given number is odd. \n",
        "  '''\n",
        "  n = n % 2 \n",
        "  if n > 0:\n",
        "    return True\n",
        "  else:\n",
        "    return False \n",
        "\n",
        "assert is_odd(5) \n",
        "assert is_odd(6) "
      ],
      "execution_count": null,
      "outputs": [
        {
          "output_type": "error",
          "ename": "AssertionError",
          "evalue": "ignored",
          "traceback": [
            "\u001b[0;31m---------------------------------------------------------------------------\u001b[0m",
            "\u001b[0;31mAssertionError\u001b[0m                            Traceback (most recent call last)",
            "\u001b[0;32m<ipython-input-2-b9adfd9d99c7>\u001b[0m in \u001b[0;36m<module>\u001b[0;34m()\u001b[0m\n\u001b[1;32m     13\u001b[0m \u001b[0;34m\u001b[0m\u001b[0m\n\u001b[1;32m     14\u001b[0m \u001b[0;32massert\u001b[0m \u001b[0mis_odd\u001b[0m\u001b[0;34m(\u001b[0m\u001b[0;36m5\u001b[0m\u001b[0;34m)\u001b[0m\u001b[0;34m\u001b[0m\u001b[0;34m\u001b[0m\u001b[0m\n\u001b[0;32m---> 15\u001b[0;31m \u001b[0;32massert\u001b[0m \u001b[0mis_odd\u001b[0m\u001b[0;34m(\u001b[0m\u001b[0;36m6\u001b[0m\u001b[0;34m)\u001b[0m\u001b[0;34m\u001b[0m\u001b[0;34m\u001b[0m\u001b[0m\n\u001b[0m",
            "\u001b[0;31mAssertionError\u001b[0m: "
          ]
        }
      ]
    },
    {
      "cell_type": "markdown",
      "metadata": {
        "id": "SONMa8qXgDmH"
      },
      "source": [
        "**22.Write a Python program to count the number 4 in a given list.**"
      ]
    },
    {
      "cell_type": "code",
      "metadata": {
        "id": "pNiGBjemo_SF"
      },
      "source": [
        "# TODO: rewrite by using a function num_four(l: list) -> int and asserts          done\n",
        "# Count the number 4 in a given list.\n",
        "\n",
        "def num_four(l: list) -> int:\n",
        "  '''\n",
        "  Count the number 4 in a given list.\n",
        "  '''\n",
        "  x = 4\n",
        "  count = 0 \n",
        "  for i in l:\n",
        "    if i == x: \n",
        "      count = count +1  \n",
        "  return count\n",
        " \n",
        "assert num_four(l = [4,6,7,4,8,4]) == 3\n",
        "\n"
      ],
      "execution_count": null,
      "outputs": []
    },
    {
      "cell_type": "markdown",
      "metadata": {
        "id": "vW2X84vEqA07"
      },
      "source": [
        "**23. Write a Python program to get the n (non-negative integer) copies of the first 2 characters of a given string. Return the n copies of the whole string if the length is less than 2.**"
      ]
    },
    {
      "cell_type": "code",
      "metadata": {
        "id": "Plw2A5l8qSPr"
      },
      "source": [
        "# Getting the n copy of the first 2 characters of a given string.                done\n",
        "# Return the n copy of the whole string if the length is less than 2.\n",
        "\n",
        "# TODO: str -> s and indicate the type of s parameter\n",
        "def m(s: str, n: int) -> str:\n",
        "  \"\"\"\n",
        "  Copy n times the first 2 characters of a given string.\n",
        "  If the length < 2 - returns the n copies of the whole string.\n",
        "  \"\"\"\n",
        "  result = \"\"\n",
        "  if len(s) >= 2:\n",
        "    a = s[:2]   \n",
        "  # elif block may be removed                                               \n",
        "  else:\n",
        "    a = s\n",
        "   \n",
        "  for i in range(n):\n",
        "    result = result + a\n",
        "  return result\n",
        "\n",
        "\n",
        "# TODO: use asserts    \n",
        "assert m('abrakadabra', 5) == 'ababababab'\n",
        "assert m('a', 3) == 'aaa'\n",
        "assert m('a', 0) == \"\""
      ],
      "execution_count": null,
      "outputs": []
    },
    {
      "cell_type": "markdown",
      "metadata": {
        "id": "b7pNURUoGoN_"
      },
      "source": [
        "**24.Write a Python program to test whether a passed letter is a vowel or not.**"
      ]
    },
    {
      "cell_type": "code",
      "metadata": {
        "id": "fiNJ9FLTGxL1"
      },
      "source": [
        "# Test whether a passed letter is a vowel or not.                                 done\n",
        "\n",
        "def is_vowel(s:str) -> bool:\n",
        "  '''\n",
        "  Tests whether a passed letter is a vowel or not.\n",
        "  '''  \n",
        "  vowels = ['a','e','i','o','u']\n",
        "  return s in vowels\n",
        " \n",
        "# leave some new lines between the function code and the rest\n",
        "# TODO: use asserts \n",
        "# NB: no need to write == True and == False -> is_vowel('a') is already a boolean\n",
        "assert is_vowel('a') \n"
      ],
      "execution_count": null,
      "outputs": []
    },
    {
      "cell_type": "markdown",
      "metadata": {
        "id": "AaLO1TaPKKqc"
      },
      "source": [
        "**25.Write a Python program to check whether a specified value is contained in a group of values.**\n",
        "```\n",
        "Test Data :\n",
        "3 -> [1, 5, 8, 3] : True\n",
        "-1 -> [1, 5, 8, 3] : False\n",
        "```"
      ]
    },
    {
      "cell_type": "code",
      "metadata": {
        "id": "rqpCWvM_KSQN"
      },
      "source": [
        "# Check whether a specified value is contained in a group of values.              done\n",
        "\n",
        "def check(group:list, n:int) -> bool:\n",
        "  '''\n",
        "  Checks whether a specified value is contained in a group of values. \n",
        "  '''\n",
        "  for value in group:\n",
        "    if n == value:\n",
        "      return True\n",
        "  return False \n",
        "\n",
        "#print(check([1, 5, 8, 3], 3)) \n",
        "#print(check([1, 5, 8, 3], -1))\n",
        "\n",
        "assert check(group = [1, 5, 8, 3], n = 3)"
      ],
      "execution_count": null,
      "outputs": []
    },
    {
      "cell_type": "markdown",
      "metadata": {
        "id": "5O-3XjL0xobR"
      },
      "source": [
        "**26.Write a Python program to create a histogram from a given list of integers**"
      ]
    },
    {
      "cell_type": "code",
      "metadata": {
        "colab": {
          "base_uri": "https://localhost:8080/",
          "height": 265
        },
        "id": "Eb49DeQuidZr",
        "outputId": "6dce45cc-42a0-4ebe-bed8-b680f3ddf708"
      },
      "source": [
        "# Create a histogram from a given list of integers.  \n",
        "# OK\n",
        "# NB: y-axis may have integer graduations only\n",
        "\n",
        "import matplotlib.pyplot as plt\n",
        " \n",
        "x = [1,1,2,3,3,5,7,8,9,10,\n",
        "     10,11,11,13,13,15,16,17,18,18,\n",
        "     18,19,0,11,11,13,13,15,16,17,18,18,20,18,14,15\n",
        "     ]\n",
        "\n",
        "plt.hist(x, bins=20)\n",
        "plt.show()"
      ],
      "execution_count": null,
      "outputs": [
        {
          "output_type": "display_data",
          "data": {
            "image/png": "[encoded data removed]",
            "text/plain": [
              "<Figure size 432x288 with 1 Axes>"
            ]
          },
          "metadata": {
            "tags": []
          }
        }
      ]
    },
    {
      "cell_type": "markdown",
      "metadata": {
        "id": "3O2SXuRj-rAo"
      },
      "source": [
        "**27.Write a Python program to concatenate all elements in a list into a string and return it.**"
      ]
    },
    {
      "cell_type": "code",
      "metadata": {
        "colab": {
          "base_uri": "https://localhost:8080/"
        },
        "id": "4eqDYKlx-rrI",
        "outputId": "3e348df2-672e-4ae9-f29e-6c736d3e7eb2"
      },
      "source": [
        "# Concatenate all elements in a list into a string and return it.\n",
        "# OK                                                                                                 from here\n",
        "# NB: better to use l.join('')\n",
        "\n",
        "def elements(l: list) -> str:\n",
        "  '''\n",
        "  Concatenate all elements in a list into a string and return it\n",
        "  '''\n",
        "  result = \"\"\n",
        "  for element in l: \n",
        "    result += str(element)\n",
        "  return result \n",
        "\n",
        "print(elements([2,22,45,67])) "
      ],
      "execution_count": null,
      "outputs": [
        {
          "output_type": "stream",
          "text": [
            "2224567\n"
          ],
          "name": "stdout"
        }
      ]
    },
    {
      "cell_type": "code",
      "metadata": {
        "colab": {
          "base_uri": "https://localhost:8080/"
        },
        "id": "2yNsBJVCLLPl",
        "outputId": "e70e3d91-cf38-443b-ef5b-a9e358e20ff4"
      },
      "source": [
        "# Concatenate all elements in a list into a string and return it.                                      done\n",
        "elements = ['22', '33', '44']\n",
        "print(''.join(elements))"
      ],
      "execution_count": null,
      "outputs": [
        {
          "output_type": "stream",
          "text": [
            "223344\n"
          ],
          "name": "stdout"
        }
      ]
    },
    {
      "cell_type": "markdown",
      "metadata": {
        "id": "yzWotZboFLsL"
      },
      "source": [
        "**28.Write a Python program to print all even numbers from a given numbers list in the same order and stop the printing if any numbers that come after 237 in the sequence.**\n",
        "```\n",
        "Sample numbers list :\n",
        "\n",
        "numbers = [    \n",
        "    386, 462, 47, 418, 907, 344, 236, 375, 823, 566, 597, 978, 328, 615, 953, 345, \n",
        "    399, 162, 758, 219, 918, 237, 412, 566, 826, 248, 866, 950, 626, 949, 687, 217, \n",
        "    815, 67, 104, 58, 512, 24, 892, 894, 767, 553, 81, 379, 843, 831, 445, 742, 717, \n",
        "    958,743, 527\n",
        "    ]\n",
        "  ```\n"
      ]
    },
    {
      "cell_type": "code",
      "metadata": {
        "colab": {
          "base_uri": "https://localhost:8080/"
        },
        "id": "AzVQtEdpK5I1",
        "outputId": "1a648592-e9fe-4ca3-ee2b-f912d9759d54"
      },
      "source": [
        "# Print all even numbers from a given numbers list in the same order \n",
        "# Stop the printing if any numbers that come after 237 in the sequence.\n",
        "# OK\n",
        " \n",
        "numbers = [    \n",
        "    386, 462, 47, 418, 907, 344, 236, 375, 823, 566, 597, 978, 328, 615, 953, 345, \n",
        "    399, 162, 758, 219, 918, 237, 412, 566, 826, 248, 866, 950, 626, 949, 687, 217, \n",
        "    815, 67, 104, 58, 512, 24, 892, 894, 767, 553, 81, 379, 843, 831, 445, 742, 717, \n",
        "    958,743, 527\n",
        "    ]\n",
        "for n in numbers:\n",
        "  if n % 2 == 0:\n",
        "    print(n)\n",
        "  elif n == 237:\n",
        "    break;"
      ],
      "execution_count": null,
      "outputs": [
        {
          "output_type": "stream",
          "text": [
            "386\n",
            "462\n",
            "418\n",
            "344\n",
            "236\n",
            "566\n",
            "978\n",
            "328\n",
            "162\n",
            "758\n",
            "918\n"
          ],
          "name": "stdout"
        }
      ]
    },
    {
      "cell_type": "markdown",
      "metadata": {
        "id": "K7PGHJz2GX52"
      },
      "source": [
        "**29.Write a Python program to print out a set containing all the colors from color_list_1 which are not present in color_list_2.**\n",
        "```\n",
        "Test Data :\n",
        "color_list_1 = set([\"White\", \"Black\", \"Red\"])\n",
        "color_list_2 = set([\"Red\", \"Green\"])\n",
        "Expected Output :\n",
        "{'Black', 'White'}\n",
        "```"
      ]
    },
    {
      "cell_type": "code",
      "metadata": {
        "id": "IKnDgULhGkSJ"
      },
      "source": [
        "# Print out a set containing all the colors from color_list_1 which are not present in color_list_2.\n",
        "# OK\n",
        "\n",
        "color_list_1 = set([\"White\", \"Black\", \"Red\"])\n",
        "color_list_2 = set([\"Red\", \"Green\"])\n",
        "\n",
        "assert color_list_1.difference(color_list_2) == {'Black', 'White'}"
      ],
      "execution_count": null,
      "outputs": []
    },
    {
      "cell_type": "markdown",
      "metadata": {
        "id": "a_3X59CEwmoR"
      },
      "source": [
        "**30.Write a Python program that will accept the base and height of a triangle and compute the area.**"
      ]
    },
    {
      "cell_type": "code",
      "metadata": {
        "colab": {
          "base_uri": "https://localhost:8080/"
        },
        "id": "f-1csdRGwswk",
        "outputId": "1bba6113-2cc1-4ec7-aafd-dc40762b93a8"
      },
      "source": [
        "# Accept the base and height of a triangle and compute the area.\n",
        "# A = 1/2bh\n",
        "# OK\n",
        "\n",
        "b = int(input(\"Enter a base: \"))\n",
        "h = int(input(\"Enter a height: \"))\n",
        "\n",
        "A = b*h/2\n",
        "\n",
        "print(\"Area =\", A)"
      ],
      "execution_count": null,
      "outputs": [
        {
          "output_type": "stream",
          "text": [
            "Enter a base: 8\n",
            "Enter a height: 8\n",
            "Area = 32.0\n"
          ],
          "name": "stdout"
        }
      ]
    },
    {
      "cell_type": "markdown",
      "metadata": {
        "id": "f_Yl6glCzfyj"
      },
      "source": [
        "**31.Write a Python program to compute the greatest common divisor (GCD) of two positive integers.**"
      ]
    },
    {
      "cell_type": "code",
      "metadata": {
        "id": "BFky3IdwzpNz"
      },
      "source": [
        "# Compute the greatest common divisor (GCD) of two positive integers.\n",
        "\n",
        "def gcd (x: int, y: int) -> int:\n",
        "  '''\n",
        "  Compute the GCD of two positive integers.\n",
        "  '''\n",
        "  gcd = 1\n",
        "\n",
        "  if x > y:\n",
        "    val = y\n",
        "  else: \n",
        "    val = x\n",
        "\n",
        "  # TODO: to be improved. Start with a pen and write the algorith in pseudocode                       done\n",
        "  for n in range(1, val+1):\n",
        "    if x % n == 0 and y % n == 0:\n",
        "      gcd = n\n",
        "      \n",
        "  return gcd\n",
        "\n",
        "# TODO: add more asserts\n",
        "assert gcd(24, 12) == 12\n",
        "assert gcd(76, 8) == 4\n",
        "assert gcd(69, 5) == 1"
      ],
      "execution_count": null,
      "outputs": []
    },
    {
      "cell_type": "markdown",
      "metadata": {
        "id": "FdLMpAoC3rSy"
      },
      "source": [
        "**32.Write a Python program to get the least common multiple (LCM) of two positive integers.**"
      ]
    },
    {
      "cell_type": "code",
      "metadata": {
        "id": "mgTGlJ0P31Oh"
      },
      "source": [
        "# Get the least common multiple (LCM) of two positive integers.\n",
        "\n",
        "def lcm (x: int, y: int) -> int:\n",
        "  '''\n",
        "  compute the lcm of two positive integers.\n",
        "  '''\n",
        "  # TODO: use max function\n",
        "  if x > y:\n",
        "    max = x\n",
        "  else:\n",
        "    max = y\n",
        "\n",
        "  # TODO: to be improved. Start with a pen and write the algorith in pseudocode        done\n",
        "  while(True):\n",
        "    if max % x == 0 and max % y == 0:\n",
        "      lcm = max;\n",
        "      break;\n",
        "    max +=1 \n",
        "\n",
        "  return lcm\n",
        "\n",
        "assert lcm(4,9) == 36\n",
        "assert lcm(3,5) == 15"
      ],
      "execution_count": null,
      "outputs": []
    },
    {
      "cell_type": "markdown",
      "metadata": {
        "id": "k5WyP30xW3Ab"
      },
      "source": [
        "**33.Write a Python program to sum of three given integers. However, if two values are equal sum will be zero.**"
      ]
    },
    {
      "cell_type": "code",
      "metadata": {
        "id": "NuGnFO8OW8OK"
      },
      "source": [
        "# sum of three given integers. However, if two values are equal sum will be zero.\n",
        "# OK\n",
        "def sum(n: int, n1: int, n2: int) -> int:\n",
        "  '''\n",
        "  sum of three given integers. However, if two values are equal sum will be zero.\n",
        "  '''\n",
        "  if n == n1 or n1 == n2 or n == n2:\n",
        "    # sum = 0\n",
        "    return 0\n",
        "  else:\n",
        "    #sum = n+n1+n2\n",
        "    return n+n1+n2\n",
        "  #return sum\n",
        "\n",
        "assert sum(2,4,4) == 0\n",
        "assert sum(2,4,6) == 12"
      ],
      "execution_count": null,
      "outputs": []
    },
    {
      "cell_type": "markdown",
      "metadata": {
        "id": "uJw1bsgZbK_a"
      },
      "source": [
        "**34.Write a Python program to sum of two given integers. However, if the sum is between 15 to 20 it will return 20.**"
      ]
    },
    {
      "cell_type": "code",
      "metadata": {
        "id": "dh-_MGzKbRm1"
      },
      "source": [
        "# Sum of two given integers. However, if the sum is between 15 to 20 it will return 20.\n",
        "\n",
        "def sum(n: int, n1: int) -> int:\n",
        "  '''\n",
        "  Sum of two given integers. If the sum is between 15 to 20 it will return 20.\n",
        "  '''            \n",
        "  # use a different name than the function name or it gets confusing                          done\n",
        "  s = n+n1\n",
        "  \n",
        "  # TODO: to be rewritten\n",
        "  # Review the range function!                                                   15 - 19?\n",
        "  if s in range(15, 19):\n",
        "    return 20\n",
        "  else:\n",
        "    return s\n",
        "\n",
        "assert sum(15, 2) == 20\n",
        "assert sum(3, 4) == 7"
      ],
      "execution_count": null,
      "outputs": []
    },
    {
      "cell_type": "markdown",
      "metadata": {
        "id": "iugWB5Kc5zcL"
      },
      "source": [
        "**35.Write a Python program that will return true if the two given integer values are equal or their sum or difference is 5.**"
      ]
    },
    {
      "cell_type": "code",
      "metadata": {
        "id": "6toOikMC59H_"
      },
      "source": [
        "# Return true if the two given integer values are equal or their sum or difference is 5.\n",
        "\n",
        "# function OK\n",
        "# I  would call it differently thought: 'compare_integers' for example \n",
        "def compare_integers(n: int, n1: int) -> bool:\n",
        "  '''\n",
        "  Return true if the two given integer values are equal or their sum or difference is 5.\n",
        "  '''\n",
        "  if n == n1 or n+n1 == 5 or abs(n-n1) == 5:\n",
        "    return True\n",
        "  else:\n",
        "    return False\n",
        "\n",
        "# TODO assert ... == ...\n",
        "assert compare_integers(7, 2) == True\n",
        "assert compare_integers(3, 2) == True\n",
        "assert compare_integers(2, 2) == True"
      ],
      "execution_count": null,
      "outputs": []
    },
    {
      "cell_type": "markdown",
      "metadata": {
        "id": "kUS5pop478LJ"
      },
      "source": [
        "**36.Write a Python program to add two objects if both objects are an integer type.**"
      ]
    },
    {
      "cell_type": "code",
      "metadata": {
        "id": "WQUrlJOz8Ous"
      },
      "source": [
        "# Add two objects if both objects are an integer type.\n",
        "\n",
        "# NB: check the type of the 2 function parameters. If type is int return the sum, otherwise return 0\n",
        "# OK\n",
        "def is_integer(x: int, y: int) -> int:                                                  # done\n",
        "  if isinstance(x, int) and isinstance(y, int):\n",
        "    return x+y\n",
        "  else:                                                                          \n",
        "    return 0\n",
        "\n",
        "assert is_integer(13, 7) == 20\n"
      ],
      "execution_count": null,
      "outputs": []
    },
    {
      "cell_type": "markdown",
      "metadata": {
        "id": "RB3Jo1lD83hf"
      },
      "source": [
        "**37.Write a Python program to display your details like name, age, address in three different lines.**"
      ]
    },
    {
      "cell_type": "code",
      "metadata": {
        "id": "q_t_R8Ok9ANE"
      },
      "source": [
        "# Display your details like name, age, address in three different lines.\n",
        "\n",
        "# TODO: make it more generic and pass it a dictionary d like this one {'name':'test', 'age':22, 'address':'...' }\n",
        "# OK\n",
        "def print_details(person: dict) -> str:\n",
        "  '''\n",
        "  Display your details like name, age, address in three different lines.\n",
        "  '''\n",
        "  print(\"Name: {}\\nAge: {}\\nAddress: {}\\n\".format(d['name'], d['age'], d['address']))\n"
      ],
      "execution_count": null,
      "outputs": []
    },
    {
      "cell_type": "code",
      "metadata": {
        "colab": {
          "base_uri": "https://localhost:8080/"
        },
        "id": "DwLeLI-8Hsiq",
        "outputId": "3953ce1d-6bb4-4383-fa06-62a2ff32b19c"
      },
      "source": [
        "d:dict = {'name':'Evgeniya', 'age':'22', 'address':'Kyiv, Ukraine' }\n",
        "print_details(d)\n"
      ],
      "execution_count": null,
      "outputs": [
        {
          "output_type": "stream",
          "text": [
            "Name: Evgeniya\n",
            "Age: 22\n",
            "Address: Kyiv, Ukraine\n",
            "\n"
          ],
          "name": "stdout"
        }
      ]
    },
    {
      "cell_type": "markdown",
      "metadata": {
        "id": "tD-6mqhD_t7n"
      },
      "source": [
        "**38. Write a Python program to solve (x + y) * (x + y).**\n",
        "```\n",
        "Test Data : x = 4, y = 3\n",
        "Expected Output : (4 + 3) ^ 2) = 49\n",
        "```"
      ]
    },
    {
      "cell_type": "code",
      "metadata": {
        "colab": {
          "base_uri": "https://localhost:8080/"
        },
        "id": "efV8HBfT_9zM",
        "outputId": "308e9470-0d3b-4dee-aa3a-67efb577e559"
      },
      "source": [
        "# Solve (x + y) * (x + y).\n",
        "# OK\n",
        "\n",
        "x, y = 4, 3\n",
        "result = x**2 + 2*x*y + y**2\n",
        "print(\"({} + {}) ^ 2) = {}\".format(x,y,result))"
      ],
      "execution_count": null,
      "outputs": [
        {
          "output_type": "stream",
          "text": [
            "(4 + 3) ^ 2) = 49\n"
          ],
          "name": "stdout"
        }
      ]
    },
    {
      "cell_type": "markdown",
      "metadata": {
        "id": "g6nAD5PydNrq"
      },
      "source": [
        "**39.Write a Python program to compute the future value of a specified principal amount, rate of interest, and a number of years.**\n",
        "```\n",
        "Test Data : amt = 10000, int = 3.5, years = 7\n",
        "Expected Output : 12722.79\n",
        "```"
      ]
    },
    {
      "cell_type": "code",
      "metadata": {
        "id": "BMi6fTRqeGLi"
      },
      "source": [
        "# не понимаю                                                                    \n",
        "# NB: it is basic interest calculation. Given 10K$, how much you have after 7 years if interest rate is 3.5%?\n",
        "  \n",
        "# NB: the formula below is not correct\n",
        "# FV = P*(1+(0.01*r))**t\n",
        "# FV = the future value, P = the principal amount, r = rate of interest per year (expressed as a decimal) and t = the number of years\n",
        "                                                                             \n",
        "amt = 10000\n",
        "# !!! NEVER USE RESERVED WORDS to name variables !!! -> TODO rename                   ok, got it\n",
        "interest = 3.5                                                                        # done\n",
        "years = 7\n",
        "future_value = amt*(1+(0.01*interest))**years\n",
        "\n",
        "assert future_value == 12722.792627665729\n"
      ],
      "execution_count": null,
      "outputs": []
    },
    {
      "cell_type": "markdown",
      "metadata": {
        "id": "7PxKtyFMmOHK"
      },
      "source": [
        "**40.Write a Python program to compute the distance between the points (x1, y1) and (x2, y2).**"
      ]
    },
    {
      "cell_type": "code",
      "metadata": {
        "id": "P7yeb3ZGmVaF"
      },
      "source": [
        "# Compute the distance between the points (x1, y1) and (x2, y2).\n",
        "# OK\n",
        "# Better to write a function euclidean_distance(p:tuple, p2:tuple) -> float          #done\n",
        "\n",
        "def euclidean_distance(p:tuple, p2:tuple) -> float:\n",
        "  '''\n",
        "  Compute the distance between the points (x1, y1) and (x2, y2)\n",
        "  '''\n",
        "  return ((p[0]-p2[0])**2+(p[1]-p2[1])**2)**0.5\n",
        "\n",
        "p = (4,5)\n",
        "p2 = (6,3)\n",
        "\n",
        "# OK\n",
        "assert float(euclidean_distance(p,p2)) == 2.8284271247461903\n"
      ],
      "execution_count": null,
      "outputs": []
    },
    {
      "cell_type": "markdown",
      "metadata": {
        "id": "m-6iXbw0aaH1"
      },
      "source": [
        "**41.Write a Python program to check whether a file exists.**"
      ]
    },
    {
      "cell_type": "code",
      "metadata": {
        "colab": {
          "base_uri": "https://localhost:8080/",
          "height": 197
        },
        "id": "LvsFPB6zazRy",
        "outputId": "2337ae57-e3ce-47da-f54f-bcb24518b6cf"
      },
      "source": [
        "# Check whether a file exists.\n",
        "# OK\n",
        "# better to write a function does_file_exist(f:str) -> bool                         # i am not sure, but it works in terminal) \n",
        "\n",
        "import os\n",
        "def does_file_exist(f:str) -> bool:\n",
        "  '''\n",
        "  Check whether a file exists\n",
        "  '''\n",
        "  if os.path.isfile('abc.txt'):\n",
        "   return True\n",
        "  else:\n",
        "   False\n",
        "\n",
        "assert does_file_exist('abc.txt')"
      ],
      "execution_count": null,
      "outputs": [
        {
          "output_type": "error",
          "ename": "AssertionError",
          "evalue": "ignored",
          "traceback": [
            "\u001b[0;31m---------------------------------------------------------------------------\u001b[0m",
            "\u001b[0;31mAssertionError\u001b[0m                            Traceback (most recent call last)",
            "\u001b[0;32m<ipython-input-45-6d04c2070c08>\u001b[0m in \u001b[0;36m<module>\u001b[0;34m()\u001b[0m\n\u001b[1;32m     10\u001b[0m    \u001b[0;32mFalse\u001b[0m\u001b[0;34m\u001b[0m\u001b[0;34m\u001b[0m\u001b[0m\n\u001b[1;32m     11\u001b[0m \u001b[0;34m\u001b[0m\u001b[0m\n\u001b[0;32m---> 12\u001b[0;31m \u001b[0;32massert\u001b[0m \u001b[0mdoes_file_exist\u001b[0m\u001b[0;34m(\u001b[0m\u001b[0;34m'abc.txt'\u001b[0m\u001b[0;34m)\u001b[0m\u001b[0;34m\u001b[0m\u001b[0;34m\u001b[0m\u001b[0m\n\u001b[0m",
            "\u001b[0;31mAssertionError\u001b[0m: "
          ]
        }
      ]
    },
    {
      "cell_type": "markdown",
      "metadata": {
        "id": "3m7IKLzoh_Dg"
      },
      "source": [
        "**42.Write a Python program to determine if a Python shell is executing in 32bit or 64bit mode on OS.**"
      ]
    },
    {
      "cell_type": "code",
      "metadata": {
        "colab": {
          "base_uri": "https://localhost:8080/",
          "height": 197
        },
        "id": "3SoI3iWjiFj6",
        "outputId": "28bcc0cf-31a6-43ae-bca9-14959d1ad8e9"
      },
      "source": [
        "# Determine if a Python shell is executing in 32bit or 64bit mode on OS.\n",
        "# OK\n",
        "# better to write a function                                                               #done\n",
        "\n",
        "import struct\n",
        "\n",
        "# TODO: is_{...} should return a boolean def ...(..) -> bool:\n",
        "def is_python_64bit() -> bool:\n",
        "  '''\n",
        "  Determine if a Python shell is executing in 32bit or 64bit mode on OS.\n",
        "  '''\n",
        "  return (struct.calcsize(\"P\") * 8)\n",
        "\n",
        "assert is_python_64bit() == 64 "
      ],
      "execution_count": null,
      "outputs": [
        {
          "output_type": "error",
          "ename": "AssertionError",
          "evalue": "ignored",
          "traceback": [
            "\u001b[0;31m---------------------------------------------------------------------------\u001b[0m",
            "\u001b[0;31mAssertionError\u001b[0m                            Traceback (most recent call last)",
            "\u001b[0;32m<ipython-input-7-699907f12fe0>\u001b[0m in \u001b[0;36m<module>\u001b[0;34m()\u001b[0m\n\u001b[1;32m     12\u001b[0m   \u001b[0;32mreturn\u001b[0m \u001b[0;34m(\u001b[0m\u001b[0mstruct\u001b[0m\u001b[0;34m.\u001b[0m\u001b[0mcalcsize\u001b[0m\u001b[0;34m(\u001b[0m\u001b[0;34m\"P\"\u001b[0m\u001b[0;34m)\u001b[0m \u001b[0;34m*\u001b[0m \u001b[0;36m8\u001b[0m\u001b[0;34m)\u001b[0m\u001b[0;34m\u001b[0m\u001b[0;34m\u001b[0m\u001b[0m\n\u001b[1;32m     13\u001b[0m \u001b[0;34m\u001b[0m\u001b[0m\n\u001b[0;32m---> 14\u001b[0;31m \u001b[0;32massert\u001b[0m \u001b[0mis_python_64bit\u001b[0m\u001b[0;34m(\u001b[0m\u001b[0;36m64\u001b[0m\u001b[0;34m)\u001b[0m \u001b[0;34m==\u001b[0m \u001b[0;32mTrue\u001b[0m\u001b[0;34m\u001b[0m\u001b[0;34m\u001b[0m\u001b[0m\n\u001b[0m",
            "\u001b[0;31mAssertionError\u001b[0m: "
          ]
        }
      ]
    },
    {
      "cell_type": "markdown",
      "metadata": {
        "id": "D53hIOS65U2r"
      },
      "source": [
        "**43.Write a Python program to get OS name, platform and release information.**"
      ]
    },
    {
      "cell_type": "code",
      "metadata": {
        "colab": {
          "base_uri": "https://localhost:8080/"
        },
        "id": "Aw1wkjiM6AHY",
        "outputId": "89864e03-6875-4ccb-d146-28fb4726ed8f"
      },
      "source": [
        "# Get OS name, platform and release information.\n",
        "# OK\n",
        "# better to write a function                                                        #done\n",
        "\n",
        "import os\n",
        "\n",
        "# NB: could be called 'print_os_info()'\n",
        "def information() -> str:\n",
        "  '''\n",
        "  Get OS name, platform and release information.\n",
        "  '''\n",
        "  return os.uname()\n",
        "print(information())\n",
        "\n"
      ],
      "execution_count": null,
      "outputs": [
        {
          "output_type": "stream",
          "text": [
            "posix.uname_result(sysname='Linux', nodename='66be457b2145', release='4.19.112+', version='#1 SMP Thu Jul 23 08:00:38 PDT 2020', machine='x86_64')\n"
          ],
          "name": "stdout"
        }
      ]
    },
    {
      "cell_type": "markdown",
      "metadata": {
        "id": "yQx6mTU97Zgu"
      },
      "source": [
        "**44.Write a Python program to locate Python site-packages.**"
      ]
    },
    {
      "cell_type": "code",
      "metadata": {
        "colab": {
          "base_uri": "https://localhost:8080/"
        },
        "id": "yAb2VAnQ87vR",
        "outputId": "c22bae5f-3afa-4ccd-ffb3-47c2b1be94c9"
      },
      "source": [
        "# locate Python site-packages.\n",
        "# OK\n",
        "\n",
        "import site \n",
        "print(site.getsitepackages())"
      ],
      "execution_count": null,
      "outputs": [
        {
          "output_type": "stream",
          "text": [
            "['/usr/local/lib/python3.6/dist-packages', '/usr/lib/python3/dist-packages', '/usr/lib/python3.6/dist-packages']\n"
          ],
          "name": "stdout"
        }
      ]
    },
    {
      "cell_type": "markdown",
      "metadata": {
        "id": "7Ta_HI4SLJCW"
      },
      "source": [
        "**45.Write a python program to call an external command in Python.**"
      ]
    },
    {
      "cell_type": "code",
      "metadata": {
        "colab": {
          "base_uri": "https://localhost:8080/"
        },
        "id": "GTEXKJrtLPfu",
        "outputId": "900858c5-5785-4a8c-b152-0136f7d93431"
      },
      "source": [
        "# Call an external command in Python.\n",
        "# OK\n",
        "\n",
        "import subprocess\n",
        "subprocess.call([\"ls\", \"-l\"])"
      ],
      "execution_count": null,
      "outputs": [
        {
          "output_type": "execute_result",
          "data": {
            "text/plain": [
              "0"
            ]
          },
          "metadata": {
            "tags": []
          },
          "execution_count": 20
        }
      ]
    },
    {
      "cell_type": "markdown",
      "metadata": {
        "id": "y0b5euiJOXaV"
      },
      "source": [
        "**46.Write a python program to get the path and name of the file that is currently executing.**"
      ]
    },
    {
      "cell_type": "code",
      "metadata": {
        "id": "Ved0i6dsOfqE"
      },
      "source": [
        "#  get the path and name of the file that is currently executing.\n",
        "# OK\n",
        "\n",
        "import os.path  \n",
        "print(os.path.realpath(\"filename\")) "
      ],
      "execution_count": null,
      "outputs": []
    },
    {
      "cell_type": "markdown",
      "metadata": {
        "id": "_IA-hireP_Ef"
      },
      "source": [
        "**47.Write a Python program to find out the number of CPUs using.**"
      ]
    },
    {
      "cell_type": "code",
      "metadata": {
        "colab": {
          "base_uri": "https://localhost:8080/"
        },
        "id": "N8rV7lfHQHGC",
        "outputId": "ed08ee4c-ecd7-4cb3-9e01-ec404524840e"
      },
      "source": [
        "# Find out the number of CPUs using.\n",
        "# OK\n",
        "\n",
        "import multiprocessing \n",
        "multiprocessing.cpu_count()"
      ],
      "execution_count": null,
      "outputs": [
        {
          "output_type": "execute_result",
          "data": {
            "text/plain": [
              "2"
            ]
          },
          "metadata": {
            "tags": []
          },
          "execution_count": 21
        }
      ]
    },
    {
      "cell_type": "markdown",
      "metadata": {
        "id": "1TmHFbj-UbLF"
      },
      "source": [
        "**49.Write a Python program to list all files in a directory in Python.**"
      ]
    },
    {
      "cell_type": "code",
      "metadata": {
        "colab": {
          "base_uri": "https://localhost:8080/",
          "height": 299
        },
        "id": "6WnVedOwUjKQ",
        "outputId": "52c435d9-3094-491c-ac93-5590dcc2cb53"
      },
      "source": [
        "# List all files in a directory.\n",
        "# OK\n",
        "# better to write a function                                                          #done\n",
        "\n",
        "import os\n",
        "def files_list(d: str) -> str:\n",
        "  '''\n",
        "  List all files in a directory.\n",
        "  '''\n",
        "  # TODO: use the parameter d not the hard-coded string '.'\n",
        "  return os.listdir('d')\n",
        "print(files_list('d'))"
      ],
      "execution_count": null,
      "outputs": [
        {
          "output_type": "error",
          "ename": "FileNotFoundError",
          "evalue": "ignored",
          "traceback": [
            "\u001b[0;31m---------------------------------------------------------------------------\u001b[0m",
            "\u001b[0;31mFileNotFoundError\u001b[0m                         Traceback (most recent call last)",
            "\u001b[0;32m<ipython-input-1-4cdce56a1ce4>\u001b[0m in \u001b[0;36m<module>\u001b[0;34m()\u001b[0m\n\u001b[1;32m     10\u001b[0m   \u001b[0;31m# TODO: use the parameter d not the hard-coded string '.'\u001b[0m\u001b[0;34m\u001b[0m\u001b[0;34m\u001b[0m\u001b[0;34m\u001b[0m\u001b[0m\n\u001b[1;32m     11\u001b[0m   \u001b[0;32mreturn\u001b[0m \u001b[0mos\u001b[0m\u001b[0;34m.\u001b[0m\u001b[0mlistdir\u001b[0m\u001b[0;34m(\u001b[0m\u001b[0;34m'd'\u001b[0m\u001b[0;34m)\u001b[0m\u001b[0;34m\u001b[0m\u001b[0;34m\u001b[0m\u001b[0m\n\u001b[0;32m---> 12\u001b[0;31m \u001b[0mprint\u001b[0m\u001b[0;34m(\u001b[0m\u001b[0mfiles_list\u001b[0m\u001b[0;34m(\u001b[0m\u001b[0;34m'd'\u001b[0m\u001b[0;34m)\u001b[0m\u001b[0;34m)\u001b[0m\u001b[0;34m\u001b[0m\u001b[0;34m\u001b[0m\u001b[0m\n\u001b[0m",
            "\u001b[0;32m<ipython-input-1-4cdce56a1ce4>\u001b[0m in \u001b[0;36mfiles_list\u001b[0;34m(d)\u001b[0m\n\u001b[1;32m      9\u001b[0m   '''\n\u001b[1;32m     10\u001b[0m   \u001b[0;31m# TODO: use the parameter d not the hard-coded string '.'\u001b[0m\u001b[0;34m\u001b[0m\u001b[0;34m\u001b[0m\u001b[0;34m\u001b[0m\u001b[0m\n\u001b[0;32m---> 11\u001b[0;31m   \u001b[0;32mreturn\u001b[0m \u001b[0mos\u001b[0m\u001b[0;34m.\u001b[0m\u001b[0mlistdir\u001b[0m\u001b[0;34m(\u001b[0m\u001b[0;34m'd'\u001b[0m\u001b[0;34m)\u001b[0m\u001b[0;34m\u001b[0m\u001b[0;34m\u001b[0m\u001b[0m\n\u001b[0m\u001b[1;32m     12\u001b[0m \u001b[0mprint\u001b[0m\u001b[0;34m(\u001b[0m\u001b[0mfiles_list\u001b[0m\u001b[0;34m(\u001b[0m\u001b[0;34m'd'\u001b[0m\u001b[0;34m)\u001b[0m\u001b[0;34m)\u001b[0m\u001b[0;34m\u001b[0m\u001b[0;34m\u001b[0m\u001b[0m\n",
            "\u001b[0;31mFileNotFoundError\u001b[0m: [Errno 2] No such file or directory: 'd'"
          ]
        }
      ]
    },
    {
      "cell_type": "markdown",
      "metadata": {
        "id": "ojOBfKVjXSXe"
      },
      "source": [
        "**50.Write a Python program to print without newline or space.**"
      ]
    },
    {
      "cell_type": "code",
      "metadata": {
        "colab": {
          "base_uri": "https://localhost:8080/"
        },
        "id": "7T623PagXYgs",
        "outputId": "36cfde4b-0568-4b18-b3c7-8e2bd8cf1b28"
      },
      "source": [
        "# Print without newline or space.\n",
        "# OK\n",
        "\n",
        "import sys\n",
        "\n",
        "sys.stdout.write(\"blabla.\")\n",
        "sys.stdout.write(\"bla\")\n"
      ],
      "execution_count": null,
      "outputs": [
        {
          "output_type": "stream",
          "text": [
            "blabla.bla"
          ],
          "name": "stdout"
        }
      ]
    },
    {
      "cell_type": "code",
      "metadata": {
        "colab": {
          "base_uri": "https://localhost:8080/"
        },
        "id": "FI6IdPJKDSVS",
        "outputId": "6f8ca739-78d9-46ec-d8ac-05688a093a54"
      },
      "source": [
        "# Print without newline or space.\n",
        "# OK\n",
        "\n",
        "print(\"blabla.\", end = '')\n",
        "print(\"bla\")"
      ],
      "execution_count": null,
      "outputs": [
        {
          "output_type": "stream",
          "text": [
            "blabla.bla\n"
          ],
          "name": "stdout"
        }
      ]
    },
    {
      "cell_type": "markdown",
      "metadata": {
        "id": "iciyciRNDnL2"
      },
      "source": [
        "**51. Write a Python program to determine profiling of Python programs.**\n",
        "```\n",
        "Note: A profile is a set of statistics that describes how often and for how long various parts of the program executed. These statistics can be formatted into reports via the pstats module.\n",
        "```"
      ]
    },
    {
      "cell_type": "code",
      "metadata": {
        "colab": {
          "base_uri": "https://localhost:8080/"
        },
        "id": "wyJ7AanRyESl",
        "outputId": "dde1eb36-7b2b-4a99-d877-17d714236752"
      },
      "source": [
        "# Determine profiling of Python programs.\n",
        "# OK\n",
        "\n",
        "import cProfile\n",
        "\n",
        "def sum(a,b):\n",
        "  '''\n",
        "  Determine profiling of Python programs.\n",
        "  '''\n",
        "  return a+b\n",
        "\n",
        "cProfile.run ('sum(2,3)')"
      ],
      "execution_count": null,
      "outputs": [
        {
          "output_type": "stream",
          "text": [
            "         4 function calls in 0.000 seconds\n",
            "\n",
            "   Ordered by: standard name\n",
            "\n",
            "   ncalls  tottime  percall  cumtime  percall filename:lineno(function)\n",
            "        1    0.000    0.000    0.000    0.000 <ipython-input-16-88e222009ff0>:4(sum)\n",
            "        1    0.000    0.000    0.000    0.000 <string>:1(<module>)\n",
            "        1    0.000    0.000    0.000    0.000 {built-in method builtins.exec}\n",
            "        1    0.000    0.000    0.000    0.000 {method 'disable' of '_lsprof.Profiler' objects}\n",
            "\n",
            "\n"
          ],
          "name": "stdout"
        }
      ]
    },
    {
      "cell_type": "markdown",
      "metadata": {
        "id": "faaLFyWUGena"
      },
      "source": [
        "**52.Write a Python program to print to stderr.**"
      ]
    },
    {
      "cell_type": "code",
      "metadata": {
        "colab": {
          "base_uri": "https://localhost:8080/"
        },
        "id": "sC7PATGAGps2",
        "outputId": "e88eb63a-36ad-4140-95f3-03d3206a49e2"
      },
      "source": [
        "# Print to stderr.\n",
        "# https://realpython.com/python-kwargs-and-args/\n",
        "# OK\n",
        "\n",
        "from __future__ import print_function\n",
        "import sys\n",
        "\n",
        "def eprint(*args, **kwargs):\n",
        "  '''\n",
        "  Print to stderr.\n",
        "  '''\n",
        "    print(*args, file=sys.stderr, **kwargs)\n",
        "eprint(\"abc\", \"efg\", \"xyz\", sep=\"--\")"
      ],
      "execution_count": null,
      "outputs": [
        {
          "output_type": "stream",
          "text": [
            "abc--efg--xyz\n"
          ],
          "name": "stderr"
        }
      ]
    },
    {
      "cell_type": "markdown",
      "metadata": {
        "id": "-TTiK5RqNZFm"
      },
      "source": [
        "**53.Write a python program to access environment variables.**"
      ]
    },
    {
      "cell_type": "code",
      "metadata": {
        "colab": {
          "base_uri": "https://localhost:8080/"
        },
        "id": "bmegy6VUNakP",
        "outputId": "a9e12c38-bb4e-40cb-efce-f9b97b77440a"
      },
      "source": [
        "# Access environment variables.\n",
        "# TODO: print PATH value                                                                   # done\n",
        "\n",
        "import os\n",
        "print(os.environ['PATH'])"
      ],
      "execution_count": null,
      "outputs": [
        {
          "output_type": "stream",
          "text": [
            "/usr/local/nvidia/bin:/usr/local/cuda/bin:/usr/local/sbin:/usr/local/bin:/usr/sbin:/usr/bin:/sbin:/bin:/tools/node/bin:/tools/google-cloud-sdk/bin:/opt/bin\n"
          ],
          "name": "stdout"
        }
      ]
    },
    {
      "cell_type": "markdown",
      "metadata": {
        "id": "F7k50iiowFIH"
      },
      "source": [
        "**54.Write a Python program to get the current username**"
      ]
    },
    {
      "cell_type": "code",
      "metadata": {
        "colab": {
          "base_uri": "https://localhost:8080/"
        },
        "id": "cJEQtmHzwLox",
        "outputId": "39ecfecd-9e40-48a9-c08a-c9275af2e101"
      },
      "source": [
        "# Get the current username.\n",
        "# OK\n",
        "\n",
        "import getpass\n",
        "print(getpass.getuser())"
      ],
      "execution_count": null,
      "outputs": [
        {
          "output_type": "stream",
          "text": [
            "root\n"
          ],
          "name": "stdout"
        }
      ]
    },
    {
      "cell_type": "markdown",
      "metadata": {
        "id": "LFPFJttQwZty"
      },
      "source": [
        "**55.Write a Python to find local IP addresses using Python's stdlib.**"
      ]
    },
    {
      "cell_type": "code",
      "metadata": {
        "colab": {
          "base_uri": "https://localhost:8080/",
          "height": 35
        },
        "id": "JNgr1g2cxGmj",
        "outputId": "fd73b8d5-1237-4275-db15-cb4c3a2c348a"
      },
      "source": [
        "# Find local IP addresses using Python's stdlib.\n",
        "# OK\n",
        "\n",
        "import socket\n",
        "socket.gethostbyname(socket.gethostname())"
      ],
      "execution_count": null,
      "outputs": [
        {
          "output_type": "execute_result",
          "data": {
            "application/vnd.google.colaboratory.intrinsic+json": {
              "type": "string"
            },
            "text/plain": [
              "'172.28.0.2'"
            ]
          },
          "metadata": {
            "tags": []
          },
          "execution_count": 5
        }
      ]
    },
    {
      "cell_type": "markdown",
      "metadata": {
        "id": "apTgU5qqGUyC"
      },
      "source": [
        "**56.Write a Python program to get height and width of the console window.**"
      ]
    },
    {
      "cell_type": "code",
      "metadata": {
        "id": "WTBYaUW4GhXI"
      },
      "source": [
        "# Get height and width of the console window.\n",
        "\n",
        "# TODO\n",
        "# i'll back to this "
      ],
      "execution_count": null,
      "outputs": []
    },
    {
      "cell_type": "markdown",
      "metadata": {
        "id": "mPwCyBLMaEah"
      },
      "source": [
        "**57.Write a program to get execution time for a Python method.**"
      ]
    },
    {
      "cell_type": "code",
      "metadata": {
        "colab": {
          "base_uri": "https://localhost:8080/"
        },
        "id": "AHk1CDopaDNi",
        "outputId": "07eca103-7aa7-46d5-ab21-638623ae2ef7"
      },
      "source": [
        "# Get execution time.\n",
        "# TODO: check other functions to trace execution time?\n",
        "\n",
        "from datetime import datetime\n",
        "start_time = datetime.now()\n",
        "end_time = datetime.now()\n",
        "print('Duration: {}'.format(end_time - start_time))"
      ],
      "execution_count": null,
      "outputs": [
        {
          "output_type": "stream",
          "text": [
            "Duration: 0:00:00.000022\n"
          ],
          "name": "stdout"
        }
      ]
    },
    {
      "cell_type": "markdown",
      "metadata": {
        "id": "9dhkkj5pbjGv"
      },
      "source": [
        "**58.Write a python program to find the sum of the first n positive integer.**"
      ]
    },
    {
      "cell_type": "code",
      "metadata": {
        "id": "YDrA14YKbtt9"
      },
      "source": [
        "# Find the sum of the first n positive integer.\n",
        "# OK\n",
        "\n",
        "n = 5\n",
        "sum = (n*(n+1))/2\n",
        "\n",
        "assert sum == 15.0"
      ],
      "execution_count": null,
      "outputs": []
    },
    {
      "cell_type": "markdown",
      "metadata": {
        "id": "bdUV0nVpeckA"
      },
      "source": [
        "**59.Write a Python program to convert height (in feet and inches) to centimeters.**"
      ]
    },
    {
      "cell_type": "code",
      "metadata": {
        "id": "_p6IgP1jesUk"
      },
      "source": [
        "# Convert height (in feet and inches) to centimeters.\n",
        "# OK\n",
        "\n",
        "h_ft = 7\n",
        "h_inch = 9\n",
        "\n",
        "h_inch += h_ft * 12\n",
        "h_cm = float(h_inch * 2.54)\n",
        "\n",
        "assert h_cm == 236.22"
      ],
      "execution_count": null,
      "outputs": []
    },
    {
      "cell_type": "markdown",
      "metadata": {
        "id": "Jgg8Fz5p2yGU"
      },
      "source": [
        "**60.Write a Python program to calculate the hypotenuse of a right angled triangle.**"
      ]
    },
    {
      "cell_type": "code",
      "metadata": {
        "id": "_szUKCCy2roe"
      },
      "source": [
        "# Calculate the hypotenuse of a right angled triangle.\n",
        "# OK\n",
        "\n",
        "from math import sqrt\n",
        "a = 6\n",
        "b = 8\n",
        "c = sqrt(a**2 + b**2)\n",
        "assert c == 10.0"
      ],
      "execution_count": null,
      "outputs": []
    },
    {
      "cell_type": "code",
      "metadata": {
        "id": "jR2jCfAPo3F_"
      },
      "source": [
        "# Calculate the hypotenuse of a right angled triangle.\n",
        "\n",
        "def hypotenuse(a: int, b: int) -> int:\n",
        "  '''\n",
        "  Calculate the hypotenuse of a right angled triangle.\n",
        "  '''\n",
        "  return (a**2 + b**2)**0.5\n",
        "  \n",
        "a = 6\n",
        "b = 8\n",
        "assert hypotenuse(a,b) == 10.0"
      ],
      "execution_count": null,
      "outputs": []
    },
    {
      "cell_type": "markdown",
      "metadata": {
        "id": "xEQtLA90otQ-"
      },
      "source": [
        "**61.Write a Python program to convert the distance (in feet) to inches, yards, and miles.**"
      ]
    },
    {
      "cell_type": "code",
      "metadata": {
        "id": "TrX1TBW8oyC-"
      },
      "source": [
        "# Convert the distance (in feet) to inches, yards, and miles.\n",
        "\n",
        "d_feet = 100\n",
        "d_inch = d_feet * 12\n",
        "d_yards = d_feet / 3\n",
        "d_miles = d_feet / 5280.0\n",
        "\n",
        "assert d_inch == 1200\n",
        "assert d_yards == 33.333333333333336\n",
        "assert d_miles == 0.01893939393939394"
      ],
      "execution_count": null,
      "outputs": []
    },
    {
      "cell_type": "markdown",
      "metadata": {
        "id": "qWIGmW7RGqtM"
      },
      "source": [
        "**62.Write a Python program to convert all units of time into seconds.**"
      ]
    },
    {
      "cell_type": "code",
      "metadata": {
        "id": "mdYn9iYdGzgu"
      },
      "source": [
        "# Convert all units of time into seconds.\n",
        "# OK\n",
        "\n",
        "days = 13 * 3600 * 24\n",
        "hours = 13 * 3600\n",
        "minutes = 13 * 60\n",
        "seconds = 13\n",
        "\n",
        "time = days + hours + minutes + seconds\n",
        "\n",
        "assert time == 1170325"
      ],
      "execution_count": null,
      "outputs": []
    },
    {
      "cell_type": "markdown",
      "metadata": {
        "id": "A_YL4PjUGxgR"
      },
      "source": [
        "**63. Write a Python program to get an absolute file path.**"
      ]
    },
    {
      "cell_type": "code",
      "metadata": {
        "colab": {
          "base_uri": "https://localhost:8080/"
        },
        "id": "DmQm1sAlI-Gb",
        "outputId": "e48a5bbf-1b75-4be8-dc12-76870341327b"
      },
      "source": [
        "#  Get an absolute file path.\n",
        "# OK\n",
        "\n",
        "import os\n",
        "\n",
        "def abs_file_path(f:str) -> str:\n",
        "  '''\n",
        "  Get absolute file path.\n",
        "  '''\n",
        "  return os.path.abspath(f)\n",
        "\n",
        "print(abs_file_path(\"file_name\"))                                                                             "
      ],
      "execution_count": null,
      "outputs": [
        {
          "output_type": "stream",
          "text": [
            "/content/file_name\n"
          ],
          "name": "stdout"
        }
      ]
    },
    {
      "cell_type": "markdown",
      "metadata": {
        "id": "Eyn3R1LxKaW1"
      },
      "source": [
        "**64.Write a Python program to get file creation and modification date/times.**"
      ]
    },
    {
      "cell_type": "code",
      "metadata": {
        "colab": {
          "base_uri": "https://localhost:8080/",
          "height": 367
        },
        "id": "pmefUYviKhC0",
        "outputId": "bc81d974-a3c0-4469-d321-618ac3bbcb83"
      },
      "source": [
        "# Get file creation and modification date/times.\n",
        "\n",
        "import os\n",
        "import datetime\n",
        "\n",
        "file = \"abc.txt\"\n",
        "\n",
        "print(\"Created\")\n",
        "print(os.path.getctime(file))\n",
        "print(datetime.datetime.fromtimestamp(os.path.getctime(file)))\n",
        "\n",
        "print()\n",
        "\n",
        "print(\"Modified\")\n",
        "print(os.path.getmtime(file))\n",
        "print(datetime.datetime.fromtimestamp(os.path.getmtime(file)))"
      ],
      "execution_count": null,
      "outputs": [
        {
          "output_type": "stream",
          "text": [
            "Created\n"
          ],
          "name": "stdout"
        },
        {
          "output_type": "error",
          "ename": "FileNotFoundError",
          "evalue": "ignored",
          "traceback": [
            "\u001b[0;31m---------------------------------------------------------------------------\u001b[0m",
            "\u001b[0;31mFileNotFoundError\u001b[0m                         Traceback (most recent call last)",
            "\u001b[0;32m<ipython-input-18-8bda1a0572e2>\u001b[0m in \u001b[0;36m<module>\u001b[0;34m()\u001b[0m\n\u001b[1;32m      7\u001b[0m \u001b[0;34m\u001b[0m\u001b[0m\n\u001b[1;32m      8\u001b[0m \u001b[0mprint\u001b[0m\u001b[0;34m(\u001b[0m\u001b[0;34m\"Created\"\u001b[0m\u001b[0;34m)\u001b[0m\u001b[0;34m\u001b[0m\u001b[0;34m\u001b[0m\u001b[0m\n\u001b[0;32m----> 9\u001b[0;31m \u001b[0mprint\u001b[0m\u001b[0;34m(\u001b[0m\u001b[0mos\u001b[0m\u001b[0;34m.\u001b[0m\u001b[0mpath\u001b[0m\u001b[0;34m.\u001b[0m\u001b[0mgetctime\u001b[0m\u001b[0;34m(\u001b[0m\u001b[0mfile\u001b[0m\u001b[0;34m)\u001b[0m\u001b[0;34m)\u001b[0m\u001b[0;34m\u001b[0m\u001b[0;34m\u001b[0m\u001b[0m\n\u001b[0m\u001b[1;32m     10\u001b[0m \u001b[0mprint\u001b[0m\u001b[0;34m(\u001b[0m\u001b[0mdatetime\u001b[0m\u001b[0;34m.\u001b[0m\u001b[0mdatetime\u001b[0m\u001b[0;34m.\u001b[0m\u001b[0mfromtimestamp\u001b[0m\u001b[0;34m(\u001b[0m\u001b[0mos\u001b[0m\u001b[0;34m.\u001b[0m\u001b[0mpath\u001b[0m\u001b[0;34m.\u001b[0m\u001b[0mgetctime\u001b[0m\u001b[0;34m(\u001b[0m\u001b[0mfile\u001b[0m\u001b[0;34m)\u001b[0m\u001b[0;34m)\u001b[0m\u001b[0;34m)\u001b[0m\u001b[0;34m\u001b[0m\u001b[0;34m\u001b[0m\u001b[0m\n\u001b[1;32m     11\u001b[0m \u001b[0;34m\u001b[0m\u001b[0m\n",
            "\u001b[0;32m/usr/lib/python3.6/genericpath.py\u001b[0m in \u001b[0;36mgetctime\u001b[0;34m(filename)\u001b[0m\n\u001b[1;32m     63\u001b[0m \u001b[0;32mdef\u001b[0m \u001b[0mgetctime\u001b[0m\u001b[0;34m(\u001b[0m\u001b[0mfilename\u001b[0m\u001b[0;34m)\u001b[0m\u001b[0;34m:\u001b[0m\u001b[0;34m\u001b[0m\u001b[0;34m\u001b[0m\u001b[0m\n\u001b[1;32m     64\u001b[0m     \u001b[0;34m\"\"\"Return the metadata change time of a file, reported by os.stat().\"\"\"\u001b[0m\u001b[0;34m\u001b[0m\u001b[0;34m\u001b[0m\u001b[0m\n\u001b[0;32m---> 65\u001b[0;31m     \u001b[0;32mreturn\u001b[0m \u001b[0mos\u001b[0m\u001b[0;34m.\u001b[0m\u001b[0mstat\u001b[0m\u001b[0;34m(\u001b[0m\u001b[0mfilename\u001b[0m\u001b[0;34m)\u001b[0m\u001b[0;34m.\u001b[0m\u001b[0mst_ctime\u001b[0m\u001b[0;34m\u001b[0m\u001b[0;34m\u001b[0m\u001b[0m\n\u001b[0m\u001b[1;32m     66\u001b[0m \u001b[0;34m\u001b[0m\u001b[0m\n\u001b[1;32m     67\u001b[0m \u001b[0;34m\u001b[0m\u001b[0m\n",
            "\u001b[0;31mFileNotFoundError\u001b[0m: [Errno 2] No such file or directory: 'abc.txt'"
          ]
        }
      ]
    },
    {
      "cell_type": "markdown",
      "metadata": {
        "id": "OrXHFfMKaQjG"
      },
      "source": [
        "**65.Write a Python program to convert seconds to day, hour, minutes and seconds.**"
      ]
    },
    {
      "cell_type": "code",
      "metadata": {
        "colab": {
          "base_uri": "https://localhost:8080/"
        },
        "id": "ID2jqIWEHnqE",
        "outputId": "3814ca83-748b-4a13-d99d-69bbca127cd6"
      },
      "source": [
        "# Convert seconds to day, hour, minutes and seconds.\n",
        "\n",
        "# TODO:                                                                                                   done\n",
        "# rename function sec2Day\n",
        "# return a triplet of values (int, int, int)\n",
        "# print outside the function\n",
        "def sec2Day(n: int) -> list:\n",
        "  '''\n",
        "  Convert seconds to day, hour, minutes and seconds.\n",
        "  '''\n",
        "  day = n // (24 * 3600) \n",
        "  n = n % (24 * 3600) \n",
        "  hour = n // 3600\n",
        "  n %= 3600\n",
        "  minutes = n // 60\n",
        "  n %= 60\n",
        "  seconds = n \n",
        "  d = [\"{} day's' {} hours {} minutes {} seconds\".format(day, hour, minutes, seconds)]\n",
        "  return d\n",
        "\n",
        "  # TODO: print outside the function\n",
        "print(sec2Day(131313)) \n"
      ],
      "execution_count": null,
      "outputs": [
        {
          "output_type": "stream",
          "text": [
            "[\"1 day's' 12 hours 28 minutes 33 seconds\"]\n"
          ],
          "name": "stdout"
        }
      ]
    },
    {
      "cell_type": "markdown",
      "metadata": {
        "id": "pN3jg7igBYHX"
      },
      "source": [
        "**66.Write a Python program to calculate body mass index.**"
      ]
    },
    {
      "cell_type": "code",
      "metadata": {
        "colab": {
          "base_uri": "https://localhost:8080/"
        },
        "id": "xmv6YOuAKcK_",
        "outputId": "9c937aef-a02a-47e5-8716-0ec3e13ab2a2"
      },
      "source": [
        "# Calculate body mass index.\n",
        "# BMI = kg/m2\n",
        "\n",
        "# TODO: write a function                                                                              done\n",
        "# what are the units in the formula?\n",
        "\n",
        "def BMI(weight: int, height: int) -> int:\n",
        "  bmi = weight/(height**2)\n",
        "  return bmi\n",
        "\n",
        "bmi = BMI(80, 174)\n",
        "print(\"The BMI is\", bmi)\n"
      ],
      "execution_count": null,
      "outputs": [
        {
          "output_type": "stream",
          "text": [
            "The BMI is 0.002642356982428326\n"
          ],
          "name": "stdout"
        }
      ]
    },
    {
      "cell_type": "markdown",
      "metadata": {
        "id": "e-yAPaVYN413"
      },
      "source": [
        "**67.Write a Python program to convert pressure in kilopascals to pounds per square inch, a millimeter of mercury (mmHg) and atmosphere pressure.**"
      ]
    },
    {
      "cell_type": "code",
      "metadata": {
        "id": "z-NP9y4POC_9"
      },
      "source": [
        "# Convert pressure in kilopascals to pounds per square inch, a millimeter of mercury (mmHg) and atmosphere pressure.\n",
        "\n",
        "kpa = 5\n",
        "psi = kpa / 6.89475729\n",
        "mmhg = kpa * 760 / 101.325\n",
        "atm = kpa / 101.325\n",
        "\n",
        "assert psi == 0.7251886889842935\n",
        "assert mmhg == 37.50308413520849\n",
        "assert atm == 0.04934616333580064"
      ],
      "execution_count": null,
      "outputs": []
    },
    {
      "cell_type": "markdown",
      "metadata": {
        "id": "3JZKbqG4P0WZ"
      },
      "source": [
        "**68.Write a Python program to calculate the sum of the digits in an integer.**"
      ]
    },
    {
      "cell_type": "code",
      "metadata": {
        "id": "7W9yGfxzP8uy"
      },
      "source": [
        "# Calculate the sum of the digits in an integer.\n",
        "\n",
        "def sum_digits(n: int) -> int:\n",
        "  '''\n",
        "  Calculate the sum of the digits in an integer.                                              done\n",
        "  '''\n",
        "  # TODO: No -> use the function parameter n\n",
        "  # why it supports only 4 digit numbers?\n",
        "  sum = 0\n",
        "  while n:\n",
        "      sum += n % 10\n",
        "      n //= 10\n",
        "  return sum\n",
        "\n",
        "assert sum_digits(7654542345) == 45"
      ],
      "execution_count": null,
      "outputs": []
    },
    {
      "cell_type": "markdown",
      "metadata": {
        "id": "RIdOCzp0iB1A"
      },
      "source": [
        "## **Python Basic(Part-II)** \n",
        "Exercises: https://www.w3resource.com/python-exercises/basic/"
      ]
    },
    {
      "cell_type": "markdown",
      "metadata": {
        "id": "BVzeD7ZuiEk6"
      },
      "source": [
        "**1.Write a Python function that takes a sequence of numbers and determines whether all the numbers are different from each other.**"
      ]
    },
    {
      "cell_type": "code",
      "metadata": {
        "colab": {
          "base_uri": "https://localhost:8080/"
        },
        "id": "zzs_rblCiWXb",
        "outputId": "93ae3374-1533-44df-d380-18c2f62f5b8b"
      },
      "source": [
        "# Takes a sequence of numbers and determines whether all the numbers are different from each other.\n",
        "\n",
        "# TODO: implementation is not right                                                # why is not right?\n",
        "# \n",
        "#  Check Sets and add method (https://www.w3schools.com/python/python_sets.asp)    # \"Duplicate values will be ignored\"\n",
        "def numbers_equality(data: int) -> bool:                                           # so, if the length is different than amount of values in a set, it means that there are duplicate values. \n",
        "  '''                                                                              \n",
        "  Determines whether all the numbers are different from each other.\n",
        "  '''\n",
        "  if len(data) == len(set(data)):\n",
        "    return True\n",
        "  else:\n",
        "    return False\n",
        "\n",
        "print(numbers_equality([1,4,6,7,9]))\n",
        "print(numbers_equality([4,6,7,8,8,9,9]))"
      ],
      "execution_count": null,
      "outputs": [
        {
          "output_type": "stream",
          "text": [
            "True\n",
            "False\n"
          ],
          "name": "stdout"
        }
      ]
    },
    {
      "cell_type": "markdown",
      "metadata": {
        "id": "BmyugUcKpwo8"
      },
      "source": [
        "**2.Write a Python program to create all possible strings by using 'a', 'e', 'i', 'o', 'u'. Use the characters exactly once.**"
      ]
    },
    {
      "cell_type": "code",
      "metadata": {
        "colab": {
          "base_uri": "https://localhost:8080/"
        },
        "id": "YIVv3xfJp7IC",
        "outputId": "a4e43d4f-3bf6-4943-e7ad-14e614136de6"
      },
      "source": [
        "# Create all possible strings by using 'a', 'e', 'i', 'o', 'u'. Use the characters exactly once.\n",
        "#\n",
        "# TODO: implementation is not right\n",
        "# They ask ALL possible strings (in maths it is called permutations)                                            # done \n",
        "import copy\n",
        "def permutation(prefix,rest) -> str:\n",
        "  '''\n",
        "  Create all possible strings by using 'a', 'e', 'i', 'o', 'u'. \n",
        "  Use the characters exactly once.\n",
        "  '''\n",
        "  for char in rest:\n",
        "          new_rest=copy.copy(rest)\n",
        "          new_prefix=copy.copy(prefix)\n",
        "          new_prefix.append(char)\n",
        "          new_rest.remove(char)\n",
        "          if len(new_rest) == 0:\n",
        "                  print(new_prefix + new_rest)\n",
        "                  continue\n",
        "          permutation(new_prefix,new_rest)\n",
        "\n",
        "permutation([],['a', 'e', 'i', 'o', 'u'])\n"
      ],
      "execution_count": null,
      "outputs": [
        {
          "output_type": "stream",
          "text": [
            "['a', 'e', 'i', 'o', 'u']\n",
            "['a', 'e', 'i', 'u', 'o']\n",
            "['a', 'e', 'o', 'i', 'u']\n",
            "['a', 'e', 'o', 'u', 'i']\n",
            "['a', 'e', 'u', 'i', 'o']\n",
            "['a', 'e', 'u', 'o', 'i']\n",
            "['a', 'i', 'e', 'o', 'u']\n",
            "['a', 'i', 'e', 'u', 'o']\n",
            "['a', 'i', 'o', 'e', 'u']\n",
            "['a', 'i', 'o', 'u', 'e']\n",
            "['a', 'i', 'u', 'e', 'o']\n",
            "['a', 'i', 'u', 'o', 'e']\n",
            "['a', 'o', 'e', 'i', 'u']\n",
            "['a', 'o', 'e', 'u', 'i']\n",
            "['a', 'o', 'i', 'e', 'u']\n",
            "['a', 'o', 'i', 'u', 'e']\n",
            "['a', 'o', 'u', 'e', 'i']\n",
            "['a', 'o', 'u', 'i', 'e']\n",
            "['a', 'u', 'e', 'i', 'o']\n",
            "['a', 'u', 'e', 'o', 'i']\n",
            "['a', 'u', 'i', 'e', 'o']\n",
            "['a', 'u', 'i', 'o', 'e']\n",
            "['a', 'u', 'o', 'e', 'i']\n",
            "['a', 'u', 'o', 'i', 'e']\n",
            "['e', 'a', 'i', 'o', 'u']\n",
            "['e', 'a', 'i', 'u', 'o']\n",
            "['e', 'a', 'o', 'i', 'u']\n",
            "['e', 'a', 'o', 'u', 'i']\n",
            "['e', 'a', 'u', 'i', 'o']\n",
            "['e', 'a', 'u', 'o', 'i']\n",
            "['e', 'i', 'a', 'o', 'u']\n",
            "['e', 'i', 'a', 'u', 'o']\n",
            "['e', 'i', 'o', 'a', 'u']\n",
            "['e', 'i', 'o', 'u', 'a']\n",
            "['e', 'i', 'u', 'a', 'o']\n",
            "['e', 'i', 'u', 'o', 'a']\n",
            "['e', 'o', 'a', 'i', 'u']\n",
            "['e', 'o', 'a', 'u', 'i']\n",
            "['e', 'o', 'i', 'a', 'u']\n",
            "['e', 'o', 'i', 'u', 'a']\n",
            "['e', 'o', 'u', 'a', 'i']\n",
            "['e', 'o', 'u', 'i', 'a']\n",
            "['e', 'u', 'a', 'i', 'o']\n",
            "['e', 'u', 'a', 'o', 'i']\n",
            "['e', 'u', 'i', 'a', 'o']\n",
            "['e', 'u', 'i', 'o', 'a']\n",
            "['e', 'u', 'o', 'a', 'i']\n",
            "['e', 'u', 'o', 'i', 'a']\n",
            "['i', 'a', 'e', 'o', 'u']\n",
            "['i', 'a', 'e', 'u', 'o']\n",
            "['i', 'a', 'o', 'e', 'u']\n",
            "['i', 'a', 'o', 'u', 'e']\n",
            "['i', 'a', 'u', 'e', 'o']\n",
            "['i', 'a', 'u', 'o', 'e']\n",
            "['i', 'e', 'a', 'o', 'u']\n",
            "['i', 'e', 'a', 'u', 'o']\n",
            "['i', 'e', 'o', 'a', 'u']\n",
            "['i', 'e', 'o', 'u', 'a']\n",
            "['i', 'e', 'u', 'a', 'o']\n",
            "['i', 'e', 'u', 'o', 'a']\n",
            "['i', 'o', 'a', 'e', 'u']\n",
            "['i', 'o', 'a', 'u', 'e']\n",
            "['i', 'o', 'e', 'a', 'u']\n",
            "['i', 'o', 'e', 'u', 'a']\n",
            "['i', 'o', 'u', 'a', 'e']\n",
            "['i', 'o', 'u', 'e', 'a']\n",
            "['i', 'u', 'a', 'e', 'o']\n",
            "['i', 'u', 'a', 'o', 'e']\n",
            "['i', 'u', 'e', 'a', 'o']\n",
            "['i', 'u', 'e', 'o', 'a']\n",
            "['i', 'u', 'o', 'a', 'e']\n",
            "['i', 'u', 'o', 'e', 'a']\n",
            "['o', 'a', 'e', 'i', 'u']\n",
            "['o', 'a', 'e', 'u', 'i']\n",
            "['o', 'a', 'i', 'e', 'u']\n",
            "['o', 'a', 'i', 'u', 'e']\n",
            "['o', 'a', 'u', 'e', 'i']\n",
            "['o', 'a', 'u', 'i', 'e']\n",
            "['o', 'e', 'a', 'i', 'u']\n",
            "['o', 'e', 'a', 'u', 'i']\n",
            "['o', 'e', 'i', 'a', 'u']\n",
            "['o', 'e', 'i', 'u', 'a']\n",
            "['o', 'e', 'u', 'a', 'i']\n",
            "['o', 'e', 'u', 'i', 'a']\n",
            "['o', 'i', 'a', 'e', 'u']\n",
            "['o', 'i', 'a', 'u', 'e']\n",
            "['o', 'i', 'e', 'a', 'u']\n",
            "['o', 'i', 'e', 'u', 'a']\n",
            "['o', 'i', 'u', 'a', 'e']\n",
            "['o', 'i', 'u', 'e', 'a']\n",
            "['o', 'u', 'a', 'e', 'i']\n",
            "['o', 'u', 'a', 'i', 'e']\n",
            "['o', 'u', 'e', 'a', 'i']\n",
            "['o', 'u', 'e', 'i', 'a']\n",
            "['o', 'u', 'i', 'a', 'e']\n",
            "['o', 'u', 'i', 'e', 'a']\n",
            "['u', 'a', 'e', 'i', 'o']\n",
            "['u', 'a', 'e', 'o', 'i']\n",
            "['u', 'a', 'i', 'e', 'o']\n",
            "['u', 'a', 'i', 'o', 'e']\n",
            "['u', 'a', 'o', 'e', 'i']\n",
            "['u', 'a', 'o', 'i', 'e']\n",
            "['u', 'e', 'a', 'i', 'o']\n",
            "['u', 'e', 'a', 'o', 'i']\n",
            "['u', 'e', 'i', 'a', 'o']\n",
            "['u', 'e', 'i', 'o', 'a']\n",
            "['u', 'e', 'o', 'a', 'i']\n",
            "['u', 'e', 'o', 'i', 'a']\n",
            "['u', 'i', 'a', 'e', 'o']\n",
            "['u', 'i', 'a', 'o', 'e']\n",
            "['u', 'i', 'e', 'a', 'o']\n",
            "['u', 'i', 'e', 'o', 'a']\n",
            "['u', 'i', 'o', 'a', 'e']\n",
            "['u', 'i', 'o', 'e', 'a']\n",
            "['u', 'o', 'a', 'e', 'i']\n",
            "['u', 'o', 'a', 'i', 'e']\n",
            "['u', 'o', 'e', 'a', 'i']\n",
            "['u', 'o', 'e', 'i', 'a']\n",
            "['u', 'o', 'i', 'a', 'e']\n",
            "['u', 'o', 'i', 'e', 'a']\n"
          ],
          "name": "stdout"
        }
      ]
    },
    {
      "cell_type": "markdown",
      "metadata": {
        "id": "T_cnNHckr3dB"
      },
      "source": [
        "**3.Write a Python program to remove and print every third number from a list of numbers until the list becomes empty.**"
      ]
    },
    {
      "cell_type": "code",
      "metadata": {
        "colab": {
          "base_uri": "https://localhost:8080/"
        },
        "id": "zMRPR7l3THQu",
        "outputId": "fa70496e-6f09-4512-8260-d051e7c2fa2a"
      },
      "source": [
        "# Remove and print every third number from a list of numbers until the list becomes empty.\n",
        "#\n",
        "# I remember we discussed it together. \n",
        "# Do not like this exercice so much but the implementation looks correct now\n",
        "def remove_3rd(l: list): \n",
        "  '''\n",
        "  Remove and print every third number from a list of numbers until the list becomes empty.\n",
        "  '''\n",
        "  i = 0\n",
        "  pos = 3 - 1\n",
        "  a = (len(l))\n",
        "  while a > 0:\n",
        "    i = (pos + i) % a\n",
        "    print(l.pop(i))\n",
        "    a -= 1\n",
        "\n",
        "b = [1,2,3,4]\n",
        "remove_3rd(b)\n",
        "\n",
        "  #3,2,4,1"
      ],
      "execution_count": null,
      "outputs": [
        {
          "output_type": "stream",
          "text": [
            "3\n",
            "2\n",
            "4\n",
            "1\n"
          ],
          "name": "stdout"
        }
      ]
    },
    {
      "cell_type": "markdown",
      "metadata": {
        "id": "guYXVdgG3J26"
      },
      "source": [
        "**4.Write a Python program to find unique triplets whose three elements gives the sum of zero from an array of n integers.**"
      ]
    },
    {
      "cell_type": "code",
      "metadata": {
        "colab": {
          "base_uri": "https://localhost:8080/"
        },
        "id": "kxatb_4G5QCs",
        "outputId": "e8e63023-f9e2-4f1a-80e3-1ec2aaaf891d"
      },
      "source": [
        "# Find unique triplets whose three elements gives the sum of zero from an array of n integers.\n",
        "#\n",
        "# TODO: implementation is not correct\n",
        "# You can generate triplets of indexes randomly and test the sum is 0                                    # done\n",
        "#\n",
        "def triplets0(A, sum):\n",
        "  '''\n",
        "  Find unique triplets whose three elements gives the sum of zero from an array of n integers.\n",
        "  '''\n",
        "  A.sort()\n",
        "  n = len(A)\n",
        "  for i in range(n - 2):\n",
        "    k = sum - A[i]\n",
        "    (low, high) = (i + 1, n - 1)\n",
        "    while low < high:\n",
        "      if A[low] + A[high] < k:\n",
        "          low = low + 1  \n",
        "      elif A[low] + A[high] > k:\n",
        "                high = high - 1\n",
        "      else:\n",
        "          print((A[i], A[low], A[high]))\n",
        "          low = low + 1\n",
        "          high = high - 1 \n",
        "\n",
        "A = [-3, 1, 2, 4, 0, 1, 3]\n",
        "sum = 0\n",
        "triplets0(A, sum)"
      ],
      "execution_count": null,
      "outputs": [
        {
          "output_type": "stream",
          "text": [
            "(-3, 0, 3)\n",
            "(-3, 1, 2)\n"
          ],
          "name": "stdout"
        }
      ]
    },
    {
      "cell_type": "markdown",
      "metadata": {
        "id": "HkZeFEX8Es-W"
      },
      "source": [
        "**5.Write a Python program to create the combinations of 3 digit combo.**"
      ]
    },
    {
      "cell_type": "code",
      "metadata": {
        "colab": {
          "base_uri": "https://localhost:8080/"
        },
        "id": "suPZ-5aHE2F1",
        "outputId": "34f0a8b0-6bc5-48a4-83fe-379909b421a0"
      },
      "source": [
        "# Create the combinations of 3 digit combo.\n",
        "\n",
        "numbers=[]\n",
        "for num in range(1000):\n",
        "  num=str(num).zfill(3)\n",
        "print(num)\n",
        "numbers.append(num)"
      ],
      "execution_count": null,
      "outputs": [
        {
          "output_type": "stream",
          "text": [
            "999\n"
          ],
          "name": "stdout"
        }
      ]
    },
    {
      "cell_type": "markdown",
      "metadata": {
        "id": "E4IiVEwR33WF"
      },
      "source": [
        "**6.Write a Python program to print a long text, convert the string to a list and print all the words and their frequencies.**"
      ]
    },
    {
      "cell_type": "code",
      "metadata": {
        "colab": {
          "base_uri": "https://localhost:8080/"
        },
        "id": "eE7F9lmK4EwC",
        "outputId": "ab88a1fd-b193-4b85-f255-df4123471c71"
      },
      "source": [
        "# print a long text, convert the string to a list \n",
        "# and print all the words and their frequencies.\n",
        "\n",
        "word_string = ''' At some point the future becomes reality. And then it quickly becomes the past. \"1Q84\"'''\n",
        "word_list = word_string.split()\n",
        "word_freq = [word_list.count(n) for n in word_list]\n",
        "\n",
        "print(\"String:\\n {} \\n\".format(word_string))\n",
        "print(\"List:\\n {} \\n\".format(str(word_list)))\n",
        "print(\"Pairs Words and Frequencies:\\n {}\".format(str(list(zip(word_list, word_freq)))))"
      ],
      "execution_count": null,
      "outputs": [
        {
          "output_type": "stream",
          "text": [
            "String:\n",
            "  At some point the future becomes reality. And then it quickly becomes the past. \"1Q84\" \n",
            "\n",
            "List:\n",
            " ['At', 'some', 'point', 'the', 'future', 'becomes', 'reality.', 'And', 'then', 'it', 'quickly', 'becomes', 'the', 'past.', '\"1Q84\"'] \n",
            "\n",
            "Pairs Words and Frequencies:\n",
            " [('At', 1), ('some', 1), ('point', 1), ('the', 2), ('future', 1), ('becomes', 2), ('reality.', 1), ('And', 1), ('then', 1), ('it', 1), ('quickly', 1), ('becomes', 2), ('the', 2), ('past.', 1), ('\"1Q84\"', 1)]\n"
          ],
          "name": "stdout"
        }
      ]
    },
    {
      "cell_type": "markdown",
      "metadata": {
        "id": "Uxk8eZeTDA17"
      },
      "source": [
        "**7.Write a Python program to count the number of each character of a given text of a text file.**"
      ]
    },
    {
      "cell_type": "code",
      "metadata": {
        "colab": {
          "base_uri": "https://localhost:8080/"
        },
        "id": "t5a7SRGDK5tL",
        "outputId": "434e8320-b5ef-4680-badb-e76d23365148"
      },
      "source": [
        "text = \"Pipeline supports two syntaxes, Declarative (introduced in Pipeline 2.5) and Scripted Pipeline.\"\n",
        "data = text.split()\n",
        "number_of_characters = len(data)\n",
        "\n",
        "print('Number of characters in text file :', number_of_characters)"
      ],
      "execution_count": null,
      "outputs": [
        {
          "output_type": "stream",
          "text": [
            "Number of characters in text file : 12\n"
          ],
          "name": "stdout"
        }
      ]
    },
    {
      "cell_type": "markdown",
      "metadata": {
        "id": "XO4jppJKf6fi"
      },
      "source": [
        "**8.Write a Python program to get the top stories from Google news.**"
      ]
    },
    {
      "cell_type": "code",
      "metadata": {
        "colab": {
          "base_uri": "https://localhost:8080/"
        },
        "id": "VLFBefYkgFSh",
        "outputId": "346c4c57-fbf7-4069-97fe-6344d46d5588"
      },
      "source": [
        "# get the top stories from Google news.\n",
        "# install pygooglenews library.\n",
        "!pip install pygooglenews --upgrade\n",
        "\n",
        "from pygooglenews import GoogleNews\n",
        "gn = GoogleNews()\n",
        "top = gn.top_news()\n",
        "print(\"----------------------------------------------\")\n",
        "print(top['feed'].title)\n",
        "print(top['feed'].link)\n"
      ],
      "execution_count": null,
      "outputs": [
        {
          "output_type": "stream",
          "text": [
            "Collecting pygooglenews\n",
            "  Downloading https://files.pythonhosted.org/packages/59/cb/84f162888a07e501630f6be7c70997c5c8afd5ba4a40c3a079c321e97c29/pygooglenews-0.1.2-py3-none-any.whl\n",
            "Collecting dateparser<0.8.0,>=0.7.6\n",
            "\u001b[?25l  Downloading https://files.pythonhosted.org/packages/c1/d5/5a2e51bc0058f66b54669735f739d27afc3eb453ab00520623c7ab168e22/dateparser-0.7.6-py2.py3-none-any.whl (362kB)\n",
            "\u001b[K     |████████████████████████████████| 368kB 5.1MB/s \n",
            "\u001b[?25hCollecting beautifulsoup4<5.0.0,>=4.9.1\n",
            "\u001b[?25l  Downloading https://files.pythonhosted.org/packages/d1/41/e6495bd7d3781cee623ce23ea6ac73282a373088fcd0ddc809a047b18eae/beautifulsoup4-4.9.3-py3-none-any.whl (115kB)\n",
            "\u001b[K     |████████████████████████████████| 122kB 6.2MB/s \n",
            "\u001b[?25hCollecting feedparser<6.0.0,>=5.2.1\n",
            "\u001b[?25l  Downloading https://files.pythonhosted.org/packages/91/d8/7d37fec71ff7c9dbcdd80d2b48bcdd86d6af502156fc93846fb0102cb2c4/feedparser-5.2.1.tar.bz2 (192kB)\n",
            "\u001b[K     |████████████████████████████████| 194kB 7.8MB/s \n",
            "\u001b[?25hCollecting requests<3.0.0,>=2.24.0\n",
            "\u001b[?25l  Downloading https://files.pythonhosted.org/packages/29/c1/24814557f1d22c56d50280771a17307e6bf87b70727d975fd6b2ce6b014a/requests-2.25.1-py2.py3-none-any.whl (61kB)\n",
            "\u001b[K     |████████████████████████████████| 61kB 4.8MB/s \n",
            "\u001b[?25hRequirement already satisfied, skipping upgrade: tzlocal in /usr/local/lib/python3.7/dist-packages (from dateparser<0.8.0,>=0.7.6->pygooglenews) (1.5.1)\n",
            "Requirement already satisfied, skipping upgrade: pytz in /usr/local/lib/python3.7/dist-packages (from dateparser<0.8.0,>=0.7.6->pygooglenews) (2018.9)\n",
            "Requirement already satisfied, skipping upgrade: regex!=2019.02.19 in /usr/local/lib/python3.7/dist-packages (from dateparser<0.8.0,>=0.7.6->pygooglenews) (2019.12.20)\n",
            "Requirement already satisfied, skipping upgrade: python-dateutil in /usr/local/lib/python3.7/dist-packages (from dateparser<0.8.0,>=0.7.6->pygooglenews) (2.8.1)\n",
            "Collecting soupsieve>1.2; python_version >= \"3.0\"\n",
            "  Downloading https://files.pythonhosted.org/packages/41/e7/3617a4b988ed7744743fb0dbba5aa0a6e3f95a9557b43f8c4740d296b48a/soupsieve-2.2-py3-none-any.whl\n",
            "Requirement already satisfied, skipping upgrade: idna<3,>=2.5 in /usr/local/lib/python3.7/dist-packages (from requests<3.0.0,>=2.24.0->pygooglenews) (2.10)\n",
            "Requirement already satisfied, skipping upgrade: urllib3<1.27,>=1.21.1 in /usr/local/lib/python3.7/dist-packages (from requests<3.0.0,>=2.24.0->pygooglenews) (1.24.3)\n",
            "Requirement already satisfied, skipping upgrade: certifi>=2017.4.17 in /usr/local/lib/python3.7/dist-packages (from requests<3.0.0,>=2.24.0->pygooglenews) (2020.12.5)\n",
            "Requirement already satisfied, skipping upgrade: chardet<5,>=3.0.2 in /usr/local/lib/python3.7/dist-packages (from requests<3.0.0,>=2.24.0->pygooglenews) (3.0.4)\n",
            "Requirement already satisfied, skipping upgrade: six>=1.5 in /usr/local/lib/python3.7/dist-packages (from python-dateutil->dateparser<0.8.0,>=0.7.6->pygooglenews) (1.15.0)\n",
            "Building wheels for collected packages: feedparser\n",
            "  Building wheel for feedparser (setup.py) ... \u001b[?25l\u001b[?25hdone\n",
            "  Created wheel for feedparser: filename=feedparser-5.2.1-cp37-none-any.whl size=44940 sha256=dcdff31a5b2980d407a2bfd5007deed6b5092458af76e1f8bd03e422e7f8d088\n",
            "  Stored in directory: /root/.cache/pip/wheels/8c/69/b7/f52763c41c5471df57703a0ef718a32a5e81ee35dcf6d4f97f\n",
            "Successfully built feedparser\n",
            "\u001b[31mERROR: google-colab 1.0.0 has requirement requests~=2.23.0, but you'll have requests 2.25.1 which is incompatible.\u001b[0m\n",
            "\u001b[31mERROR: datascience 0.10.6 has requirement folium==0.2.1, but you'll have folium 0.8.3 which is incompatible.\u001b[0m\n",
            "Installing collected packages: dateparser, soupsieve, beautifulsoup4, feedparser, requests, pygooglenews\n",
            "  Found existing installation: beautifulsoup4 4.6.3\n",
            "    Uninstalling beautifulsoup4-4.6.3:\n",
            "      Successfully uninstalled beautifulsoup4-4.6.3\n",
            "  Found existing installation: requests 2.23.0\n",
            "    Uninstalling requests-2.23.0:\n",
            "      Successfully uninstalled requests-2.23.0\n",
            "Successfully installed beautifulsoup4-4.9.3 dateparser-0.7.6 feedparser-5.2.1 pygooglenews-0.1.2 requests-2.25.1 soupsieve-2.2\n",
            "----------------------------------------------\n",
            "Top stories - Google News\n",
            "https://news.google.com/?ceid=US:en&hl=en-US&gl=US\n"
          ],
          "name": "stdout"
        }
      ]
    },
    {
      "cell_type": "markdown",
      "metadata": {
        "id": "ROj2KcL-h-Gl"
      },
      "source": [
        "**9.Write a Python program to get a list of locally installed Python modules.**"
      ]
    },
    {
      "cell_type": "code",
      "metadata": {
        "colab": {
          "base_uri": "https://localhost:8080/"
        },
        "id": "4KW8-XfriEgH",
        "outputId": "c5a6a30d-d36c-4f98-e703-cdb11f71942a"
      },
      "source": [
        "# get a list of locally installed Python modules.\n",
        "\n",
        "import sys as s\n",
        "print(s.modules.keys())"
      ],
      "execution_count": null,
      "outputs": [
        {
          "output_type": "stream",
          "text": [
            "dict_keys(['builtins', 'sys', '_frozen_importlib', '_imp', '_warnings', '_thread', '_weakref', '_frozen_importlib_external', '_io', 'marshal', 'posix', 'zipimport', 'encodings', 'codecs', '_codecs', 'encodings.aliases', 'encodings.utf_8', '_signal', '__main__', 'encodings.latin_1', 'io', 'abc', '_weakrefset', '_bootlocale', '_locale', 'warnings', 're', 'enum', 'types', 'functools', '_functools', 'collections', '_collections_abc', 'operator', '_operator', 'keyword', 'heapq', '_heapq', 'itertools', 'reprlib', '_collections', 'weakref', 'collections.abc', 'sre_compile', '_sre', 'sre_parse', 'sre_constants', 'copyreg', 'site', 'os', 'errno', 'stat', '_stat', 'posixpath', 'genericpath', 'os.path', '_sitebuiltins', 'sysconfig', '_sysconfigdata_m_linux_x86_64-linux-gnu', 'importlib', 'importlib._bootstrap', 'importlib._bootstrap_external', 'importlib.util', 'importlib.abc', 'importlib.machinery', 'contextlib', 'google', 'google.cloud', 'google.logging', 'mpl_toolkits', 'sphinxcontrib', 'sitecustomize', 'runpy', 'pkgutil', 'ipykernel', 'ipykernel._version', 'ipykernel.connect', '__future__', 'json', 'json.decoder', 'json.scanner', '_json', 'json.encoder', 'subprocess', 'time', 'signal', '_posixsubprocess', 'select', 'selectors', 'math', 'threading', 'traceback', 'linecache', 'tokenize', 'token', 'IPython', 'IPython.core', 'IPython.core.getipython', 'IPython.core.release', 'IPython.core.application', 'atexit', 'copy', 'glob', 'fnmatch', 'logging', 'string', '_string', 'shutil', 'zlib', 'bz2', '_compression', '_bz2', 'lzma', '_lzma', 'pwd', 'grp', 'traitlets', 'traitlets.traitlets', 'inspect', 'ast', '_ast', 'dis', 'opcode', '_opcode', 'six', 'struct', '_struct', 'traitlets.utils', 'traitlets.utils.getargspec', 'traitlets.utils.importstring', 'ipython_genutils', 'ipython_genutils._version', 'ipython_genutils.py3compat', 'ipython_genutils.encoding', 'locale', 'platform', 'traitlets.utils.sentinel', 'traitlets.utils.bunch', 'traitlets._version', 'traitlets.config', 'traitlets.config.application', 'decorator', 'traitlets.config.configurable', 'traitlets.config.loader', 'argparse', 'textwrap', 'gettext', 'ipython_genutils.path', 'random', 'hashlib', '_hashlib', '_blake2', '_sha3', 'bisect', '_bisect', '_random', 'ipython_genutils.text', 'ipython_genutils.importstring', 'IPython.core.crashhandler', 'pprint', 'IPython.core.ultratb', 'pydoc', 'urllib', 'urllib.parse', 'IPython.core.debugger', 'bdb', 'IPython.utils', 'IPython.utils.PyColorize', 'IPython.utils.coloransi', 'IPython.utils.ipstruct', 'IPython.utils.py3compat', 'IPython.utils.encoding', 'IPython.utils.colorable', 'pygments', 'IPython.utils.ulinecache', 'IPython.utils.openpy', 'IPython.core.excolors', 'IPython.testing', 'IPython.testing.skipdoctest', 'pdb', 'cmd', 'code', 'codeop', 'IPython.core.display_trap', 'IPython.utils.path', 'IPython.utils.process', 'IPython.utils._process_posix', 'pexpect', 'pexpect.exceptions', 'pexpect.utils', 'pexpect.expect', 'pexpect.pty_spawn', 'pty', 'tty', 'termios', 'ptyprocess', 'ptyprocess.ptyprocess', 'fcntl', 'resource', 'ptyprocess.util', 'pexpect.spawnbase', 'pexpect.run', 'IPython.utils._process_common', 'shlex', 'IPython.utils.decorators', 'IPython.utils.data', 'IPython.utils.terminal', 'IPython.utils.sysinfo', 'IPython.utils._sysinfo', 'IPython.core.profiledir', 'IPython.paths', 'tempfile', 'IPython.utils.importstring', 'IPython.terminal', 'IPython.terminal.embed', 'IPython.core.compilerop', 'IPython.core.magic_arguments', 'IPython.core.error', 'IPython.utils.text', 'pathlib', 'ntpath', 'IPython.core.magic', 'getopt', 'IPython.core.oinspect', 'IPython.core.page', 'IPython.core.display', 'base64', 'binascii', 'mimetypes', 'IPython.lib', 'IPython.lib.security', 'getpass', 'IPython.lib.pretty', 'datetime', '_datetime', 'IPython.utils.dir2', 'IPython.utils.wildcard', 'IPython.utils.signatures', 'pygments.lexers', 'pygments.lexers._mapping', 'pygments.modeline', 'pygments.plugin', 'pygments.util', 'pygments.lexers.python', 'pygments.lexer', 'pygments.filter', 'pygments.filters', 'pygments.token', 'pygments.regexopt', 'pygments.unistring', 'pygments.formatters', 'pygments.formatters._mapping', 'pygments.formatters.html', 'pygments.formatter', 'pygments.styles', 'IPython.core.inputsplitter', 'IPython.core.inputtransformer', 'IPython.core.splitinput', 'IPython.utils.tokenize2', 'IPython.utils._tokenize_py3', 'IPython.core.interactiveshell', 'pickleshare', 'pickle', '_compat_pickle', '_pickle', 'IPython.core.prefilter', 'IPython.core.autocall', 'IPython.core.macro', 'IPython.core.shadowns', 'IPython.core.alias', 'IPython.core.builtin_trap', 'IPython.core.events', 'IPython.core.displayhook', 'IPython.core.displaypub', 'IPython.core.extensions', 'IPython.core.formatters', 'IPython.utils.sentinel', 'IPython.core.history', 'sqlite3', 'sqlite3.dbapi2', '_sqlite3', 'IPython.core.logger', 'IPython.core.payload', 'IPython.core.usage', 'IPython.display', 'IPython.lib.display', 'IPython.utils.io', 'IPython.utils.capture', 'IPython.utils.strdispatch', 'IPython.core.hooks', 'IPython.utils.syspathcontext', 'IPython.utils.tempdir', 'IPython.utils.contexts', 'IPython.terminal.interactiveshell', 'prompt_toolkit', 'prompt_toolkit.interface', 'prompt_toolkit.application', 'prompt_toolkit.buffer', 'prompt_toolkit.auto_suggest', 'prompt_toolkit.filters', 'prompt_toolkit.filters.base', 'prompt_toolkit.utils', 'wcwidth', 'wcwidth.wcwidth', 'wcwidth.table_wide', 'wcwidth.table_zero', 'wcwidth.unicode_versions', 'six.moves', 'prompt_toolkit.filters.cli', 'prompt_toolkit.enums', 'prompt_toolkit.key_binding', 'prompt_toolkit.key_binding.vi_state', 'prompt_toolkit.cache', 'prompt_toolkit.filters.types', 'prompt_toolkit.filters.utils', 'prompt_toolkit.clipboard', 'prompt_toolkit.clipboard.base', 'prompt_toolkit.selection', 'prompt_toolkit.clipboard.in_memory', 'prompt_toolkit.completion', 'prompt_toolkit.document', 'prompt_toolkit.history', 'prompt_toolkit.search_state', 'prompt_toolkit.validation', 'prompt_toolkit.buffer_mapping', 'prompt_toolkit.key_binding.bindings', 'prompt_toolkit.key_binding.bindings.basic', 'prompt_toolkit.keys', 'prompt_toolkit.layout', 'prompt_toolkit.layout.containers', 'prompt_toolkit.layout.controls', 'prompt_toolkit.mouse_events', 'prompt_toolkit.token', 'prompt_toolkit.layout.lexers', 'prompt_toolkit.layout.utils', 'prompt_toolkit.layout.processors', 'prompt_toolkit.reactive', 'prompt_toolkit.layout.screen', 'prompt_toolkit.layout.dimension', 'prompt_toolkit.layout.margins', 'prompt_toolkit.renderer', 'prompt_toolkit.layout.mouse_handlers', 'prompt_toolkit.output', 'prompt_toolkit.styles', 'prompt_toolkit.styles.base', 'prompt_toolkit.styles.defaults', 'prompt_toolkit.styles.from_dict', 'prompt_toolkit.styles.utils', 'prompt_toolkit.styles.from_pygments', 'pygments.style', 'pygments.styles.default', 'prompt_toolkit.key_binding.bindings.named_commands', 'prompt_toolkit.key_binding.bindings.completion', 'prompt_toolkit.key_binding.registry', 'prompt_toolkit.key_binding.input_processor', 'prompt_toolkit.key_binding.bindings.emacs', 'prompt_toolkit.key_binding.bindings.scroll', 'prompt_toolkit.key_binding.bindings.vi', 'prompt_toolkit.key_binding.digraphs', 'prompt_toolkit.key_binding.defaults', 'prompt_toolkit.eventloop', 'prompt_toolkit.eventloop.base', 'prompt_toolkit.eventloop.callbacks', 'prompt_toolkit.input', 'prompt_toolkit.terminal', 'prompt_toolkit.terminal.vt100_input', 'prompt_toolkit.shortcuts', 'prompt_toolkit.layout.menus', 'prompt_toolkit.layout.prompt', 'prompt_toolkit.layout.toolbars', 'prompt_toolkit.terminal.vt100_output', 'array', 'prompt_toolkit.key_binding.manager', 'IPython.terminal.debugger', 'IPython.core.completer', 'unicodedata', 'IPython.core.latex_symbols', 'IPython.utils.generics', 'simplegeneric', 'IPython.terminal.ptutils', 'IPython.terminal.shortcuts', 'IPython.terminal.magics', 'IPython.lib.clipboard', 'IPython.terminal.pt_inputhooks', 'IPython.terminal.prompts', 'pkg_resources', 'zipfile', 'plistlib', 'xml', 'xml.parsers', 'xml.parsers.expat', 'pyexpat.errors', 'pyexpat.model', 'pyexpat', 'xml.parsers.expat.model', 'xml.parsers.expat.errors', 'email', 'email.parser', 'email.feedparser', 'email.errors', 'email._policybase', 'email.header', 'email.quoprimime', 'email.base64mime', 'email.charset', 'email.encoders', 'quopri', 'email.utils', 'socket', '_socket', 'email._parseaddr', 'calendar', 'pkg_resources.extern', 'pkg_resources._vendor', 'pkg_resources._vendor.appdirs', 'pkg_resources.extern.appdirs', 'pkg_resources._vendor.packaging', 'pkg_resources._vendor.packaging.__about__', 'pkg_resources.extern.packaging', 'pkg_resources.extern.packaging.version', 'pkg_resources.extern.packaging._structures', 'pkg_resources.extern.packaging._typing', 'pkg_resources.extern.packaging.specifiers', 'pkg_resources.extern.packaging._compat', 'pkg_resources.extern.packaging.utils', 'pkg_resources.extern.packaging.requirements', 'pkg_resources._vendor.pyparsing', 'pkg_resources.extern.pyparsing', 'pkg_resources.extern.packaging.markers', 'IPython.terminal.ipapp', 'IPython.core.magics', 'IPython.core.magics.auto', 'IPython.core.magics.basic', 'IPython.core.magics.code', 'IPython.core.magics.config', 'IPython.core.magics.display', 'IPython.core.magics.execution', 'gc', 'timeit', 'cProfile', '_lsprof', 'profile', 'optparse', 'pstats', 'IPython.utils.module_paths', 'imp', 'IPython.utils.timing', 'IPython.core.magics.extension', 'IPython.core.magics.history', 'IPython.core.magics.logging', 'IPython.core.magics.namespace', 'IPython.core.magics.osm', 'IPython.core.magics.pylab', 'IPython.core.pylabtools', 'IPython.core.magics.script', 'IPython.lib.backgroundjobs', 'IPython.core.shellapp', 'IPython.extensions', 'IPython.extensions.storemagic', 'IPython.utils.frame', 'jupyter_client', 'jupyter_client._version', 'jupyter_client.connect', 'zmq', 'ctypes', '_ctypes', 'ctypes._endian', 'zmq.backend', 'zmq.backend.select', 'typing', 'typing.io', 'typing.re', 'zmq.backend.cython', 'zmq.backend.cython.constants', 'cython_runtime', 'zmq.backend.cython.error', '_cython_0_29_21', 'zmq.backend.cython.message', 'zmq.error', 'zmq.backend.cython.context', 'zmq.backend.cython.socket', 'zmq.backend.cython.utils', 'zmq.backend.cython._poll', 'zmq.backend.cython._version', 'zmq.backend.cython._device', 'zmq.backend.cython._proxy_steerable', 'zmq.sugar', 'zmq.sugar.constants', 'zmq.utils', 'zmq.utils.constant_names', 'zmq.sugar.context', 'zmq.sugar.attrsettr', 'zmq.sugar.socket', 'zmq.sugar.poll', 'zmq.utils.jsonapi', 'zmq.utils.strtypes', 'zmq.sugar.frame', 'zmq.sugar.tracker', 'zmq.sugar.version', 'zmq.sugar.stopwatch', 'jupyter_client.localinterfaces', 'jupyter_core', 'jupyter_core.version', 'jupyter_core.paths', 'jupyter_client.launcher', 'traitlets.log', 'jupyter_client.client', 'jupyter_client.channels', 'jupyter_client.channelsabc', 'jupyter_client.clientabc', 'jupyter_client.manager', 'jupyter_client.kernelspec', 'jupyter_client.managerabc', 'jupyter_client.blocking', 'jupyter_client.blocking.client', 'queue', 'jupyter_client.blocking.channels', 'jupyter_client.multikernelmanager', 'uuid', 'ctypes.util', 'ipykernel.kernelapp', 'tornado', 'tornado.ioloop', 'numbers', 'tornado.concurrent', 'tornado.log', 'logging.handlers', 'tornado.escape', 'tornado.util', 'tornado.speedups', 'html', 'html.entities', 'curses', '_curses', 'tornado.stack_context', 'concurrent', 'concurrent.futures', 'concurrent.futures._base', 'concurrent.futures.process', 'multiprocessing', 'multiprocessing.context', 'multiprocessing.process', 'multiprocessing.reduction', '__mp_main__', 'multiprocessing.connection', '_multiprocessing', 'multiprocessing.util', 'concurrent.futures.thread', 'asyncio', 'asyncio.base_events', 'asyncio.compat', 'asyncio.coroutines', 'asyncio.constants', 'asyncio.events', 'asyncio.base_futures', 'asyncio.log', 'asyncio.futures', 'asyncio.base_tasks', '_asyncio', 'asyncio.tasks', 'asyncio.locks', 'asyncio.protocols', 'asyncio.queues', 'asyncio.streams', 'asyncio.subprocess', 'asyncio.transports', 'asyncio.unix_events', 'asyncio.base_subprocess', 'asyncio.selector_events', 'ssl', 'ipaddress', '_ssl', 'asyncio.sslproto', 'tornado.platform', 'tornado.platform.auto', 'tornado.platform.posix', 'tornado.platform.common', 'tornado.platform.interface', 'zmq.eventloop', 'zmq.eventloop.ioloop', 'tornado.platform.asyncio', 'tornado.gen', 'zmq.eventloop.zmqstream', 'ipykernel.iostream', 'jupyter_client.session', 'hmac', 'jupyter_client.jsonutil', 'dateutil', 'dateutil._version', 'dateutil.parser', 'dateutil.parser._parser', 'decimal', '_decimal', 'dateutil.relativedelta', 'dateutil._common', 'dateutil.tz', 'dateutil.tz.tz', 'dateutil.tz._common', 'dateutil.tz._factories', 'dateutil.parser.isoparser', '_strptime', 'jupyter_client.adapter', 'ipykernel.heartbeat', 'ipykernel.ipkernel', 'IPython.utils.tokenutil', 'ipykernel.comm', 'ipykernel.comm.manager', 'ipykernel.comm.comm', 'ipykernel.kernelbase', 'ipykernel.jsonutil', 'ipykernel.zmqshell', 'IPython.core.payloadpage', 'ipykernel.displayhook', 'ipykernel.parentpoller', 'google.colab', 'google.colab._import_hooks', 'google.colab._import_hooks._altair', 'google.colab._import_hooks._bokeh', 'google.colab._import_hooks._cv2', 'google.colab._import_magics', 'google.colab._installation_commands', 'google.colab._reprs', 'IPython.utils.traitlets', 'google.colab._shell_customizations', 'google.colab._ipython', 'google.colab._system_commands', 'google.colab._message', 'google.colab.errors', 'google.colab.output', 'google.colab.output._area', 'google.colab.output._js_builder', 'google.colab.output._js', 'google.colab.output._publish', 'google.colab.output._tags', 'google.colab.output._util', 'google.colab._tensorflow_magics', 'google.colab.auth', 'google.colab.data_table', 'google.colab._interactive_table_helper', 'pandas', 'numpy', 'numpy._globals', 'numpy.__config__', 'numpy.version', 'numpy._distributor_init', 'numpy.core', 'numpy.core.multiarray', 'numpy.core.overrides', 'numpy.core._multiarray_umath', 'numpy.compat', 'numpy.compat._inspect', 'numpy.compat.py3k', 'numpy.core.umath', 'numpy.core.numerictypes', 'numpy.core._string_helpers', 'numpy.core._type_aliases', 'numpy.core._dtype', 'numpy.core.numeric', 'numpy.core.shape_base', 'numpy.core._asarray', 'numpy.core.fromnumeric', 'numpy.core._methods', 'numpy.core._exceptions', 'numpy.core._ufunc_config', 'numpy.core.arrayprint', 'numpy.core.defchararray', 'numpy.core.records', 'numpy.core.memmap', 'numpy.core.function_base', 'numpy.core.machar', 'numpy.core.getlimits', 'numpy.core.einsumfunc', 'numpy.core._add_newdocs', 'numpy.core._multiarray_tests', 'numpy.core._dtype_ctypes', 'numpy.core._internal', 'numpy._pytesttester', 'numpy.lib', 'numpy.lib.mixins', 'numpy.lib.scimath', 'numpy.lib.type_check', 'numpy.lib.ufunclike', 'numpy.lib.index_tricks', 'numpy.matrixlib', 'numpy.matrixlib.defmatrix', 'numpy.linalg', 'numpy.linalg.linalg', 'numpy.lib.twodim_base', 'numpy.linalg.lapack_lite', 'numpy.linalg._umath_linalg', 'numpy.lib.function_base', 'numpy.lib.histograms', 'numpy.lib.stride_tricks', 'numpy.lib.nanfunctions', 'numpy.lib.shape_base', 'numpy.lib.polynomial', 'numpy.lib.utils', 'numpy.lib.arraysetops', 'numpy.lib.npyio', 'numpy.lib.format', 'numpy.lib._datasource', 'numpy.lib._iotools', 'numpy.lib.financial', 'numpy.lib.arrayterator', 'numpy.lib.arraypad', 'numpy.lib._version', 'numpy.fft', 'numpy.fft._pocketfft', 'numpy.fft._pocketfft_internal', 'numpy.fft.helper', 'numpy.polynomial', 'numpy.polynomial.polynomial', 'numpy.polynomial.polyutils', 'numpy.polynomial._polybase', 'numpy.polynomial.chebyshev', 'numpy.polynomial.legendre', 'numpy.polynomial.hermite', 'numpy.polynomial.hermite_e', 'numpy.polynomial.laguerre', 'numpy.random', 'numpy.random._pickle', 'numpy.random.mtrand', 'numpy.random.bit_generator', 'numpy.random._common', 'secrets', 'numpy.random._bounded_integers', 'numpy.random._mt19937', 'numpy.random._philox', 'numpy.random._pcg64', 'numpy.random._sfc64', 'numpy.random._generator', 'numpy.ctypeslib', 'numpy.ma', 'numpy.ma.core', 'numpy.ma.extras', 'numpy.testing', 'unittest', 'unittest.result', 'unittest.util', 'unittest.case', 'difflib', 'unittest.suite', 'unittest.loader', 'unittest.main', 'unittest.runner', 'unittest.signals', 'numpy.testing._private', 'numpy.testing._private.utils', 'numpy.testing._private.decorators', 'numpy.testing._private.nosetester', 'pytz', 'pytz.exceptions', 'pytz.lazy', 'pytz.tzinfo', 'pytz.tzfile', 'pandas.compat', 'pandas._typing', 'pandas.compat.numpy', 'distutils', 'distutils.version', 'pandas._libs', 'pandas._libs.interval', 'pandas._libs.hashtable', 'pandas._libs.missing', 'pandas._libs.tslibs', 'pandas._libs.tslibs.dtypes', 'pandas._libs.tslibs.conversion', 'pandas._libs.tslibs.base', 'pandas._libs.tslibs.nattype', 'pandas._libs.tslibs.np_datetime', 'pandas._libs.tslibs.timezones', 'pandas._libs.tslibs.tzconversion', 'pandas._libs.tslibs.ccalendar', 'pandas._libs.tslibs.parsing', 'pandas._libs.tslibs.offsets', 'pandas._libs.tslibs.timedeltas', 'pandas._libs.tslibs.timestamps', 'pandas._libs.tslibs.fields', 'pandas._config', 'pandas._config.config', 'pandas._config.dates', 'pandas._config.display', 'pandas._config.localization', 'pandas._libs.tslibs.strptime', 'dateutil.easter', 'pandas._libs.properties', 'pandas._libs.tslibs.period', 'pandas._libs.tslibs.vectorized', 'pandas._libs.ops_dispatch', 'pandas._libs.algos', 'pandas._libs.lib', 'pandas._libs.tslib', 'pandas.core', 'pandas.core.config_init', 'pandas.core.api', 'pandas.core.dtypes', 'pandas.core.dtypes.dtypes', 'pandas.core.dtypes.base', 'pandas.errors', 'pandas.core.dtypes.generic', 'pandas.core.dtypes.inference', 'pandas.core.dtypes.missing', 'pandas.core.dtypes.common', 'pandas.core.algorithms', 'pandas.util', 'pandas.util._decorators', 'pandas.core.util', 'pandas.core.util.hashing', 'pandas._libs.hashing', 'pandas.core.dtypes.cast', 'pandas.util._validators', 'pandas.core.construction', 'pandas.core.common', 'pandas.core.indexers', 'pandas.core.arrays', 'pandas.core.arrays.base', 'pandas.compat.numpy.function', 'pandas.core.ops', 'pandas.core.ops.array_ops', 'pandas._libs.ops', 'pandas.core.ops.missing', 'pandas.core.ops.roperator', 'pandas.core.ops.dispatch', 'pandas.core.ops.invalid', 'pandas.core.ops.common', 'pandas.core.ops.docstrings', 'pandas.core.ops.mask_ops', 'pandas.core.ops.methods', 'pandas.core.missing', 'pandas.compat._optional', 'pandas.core.sorting', 'pandas.core.arrays.boolean', 'pandas.core.arrays.masked', 'pandas.core.nanops', 'bottleneck', 'bottleneck.reduce', 'bottleneck.nonreduce', 'bottleneck.nonreduce_axis', 'bottleneck.move', 'bottleneck.slow', 'bottleneck.slow.reduce', 'bottleneck.slow.nonreduce', 'bottleneck.slow.nonreduce_axis', 'bottleneck.slow.move', 'bottleneck.benchmark', 'bottleneck.benchmark.bench', 'bottleneck.benchmark.autotimeit', 'bottleneck.benchmark.bench_detailed', 'bottleneck.tests', 'bottleneck.tests.util', 'bottleneck._pytesttester', 'bottleneck._version', 'pandas.core.array_algos', 'pandas.core.array_algos.masked_reductions', 'pandas.core.arrays.categorical', 'csv', '_csv', 'pandas.core.accessor', 'pandas.core.array_algos.transforms', 'pandas.core.arrays._mixins', 'pandas.core.base', 'pandas.io', 'pandas.io.formats', 'pandas.io.formats.console', 'pandas.core.arrays.datetimes', 'pandas.core.arrays.datetimelike', 'pandas.tseries', 'pandas.tseries.frequencies', 'pandas.core.arrays._ranges', 'pandas.tseries.offsets', 'pandas.core.arrays.integer', 'pandas.core.tools', 'pandas.core.tools.numeric', 'pandas.core.arrays.interval', 'pandas.core.indexes', 'pandas.core.indexes.base', 'pandas._libs.index', 'pandas._libs.join', 'pandas.core.dtypes.concat', 'pandas.core.arrays.sparse', 'pandas.core.arrays.sparse.accessor', 'pandas.core.arrays.sparse.array', 'pandas._libs.sparse', 'pandas.core.arrays.sparse.dtype', 'pandas.io.formats.printing', 'pandas.core.indexes.frozen', 'pandas.core.strings', 'pandas.core.arrays.numpy_', 'pandas.core.arrays.period', 'pandas.core.arrays.string_', 'pandas.core.arrays.timedeltas', 'pandas.core.groupby', 'pandas.core.groupby.generic', 'pandas.core.aggregation', 'pandas.core.indexes.api', 'pandas.core.indexes.category', 'pandas.core.indexes.extension', 'pandas.core.indexes.datetimes', 'pandas.core.indexes.datetimelike', 'pandas.core.indexes.numeric', 'pandas.core.tools.timedeltas', 'pandas.core.tools.times', 'pandas.core.indexes.interval', 'pandas.util._exceptions', 'pandas.core.indexes.multi', 'pandas.core.indexes.timedeltas', 'pandas.core.indexes.period', 'pandas.core.indexes.range', 'pandas.core.series', 'pandas._libs.reshape', 'pandas.core.generic', 'pandas.core.indexing', 'pandas._libs.indexing', 'pandas.core.internals', 'pandas.core.internals.blocks', 'pandas._libs.writers', 'pandas._libs.internals', 'pandas.core.internals.concat', 'pandas.core.internals.managers', 'pandas.core.internals.ops', 'pandas.core.shared_docs', 'pandas.io.formats.format', 'pandas.io.common', 'gzip', 'mmap', 'pandas.core.indexes.accessors', 'pandas.core.tools.datetimes', 'pandas.arrays', 'pandas.plotting', 'pandas.plotting._core', 'pandas.plotting._misc', 'pandas.core.window', 'pandas.core.window.ewm', 'pandas._libs.window', 'pandas._libs.window.aggregations', 'pandas.core.window.common', 'pandas.core.groupby.base', 'pandas.core.window.rolling', 'pandas.core.util.numba_', 'pandas.core.window.indexers', 'pandas._libs.window.indexers', 'pandas.core.window.numba_', 'pandas.core.window.expanding', 'pandas.core.frame', 'pandas.core.internals.construction', 'pandas.core.reshape', 'pandas.core.reshape.melt', 'pandas.core.reshape.concat', 'pandas.core.reshape.util', 'pandas.io.formats.info', 'pandas.core.groupby.groupby', 'pandas._libs.groupby', 'pandas.core.groupby.ops', 'pandas._libs.reduction', 'pandas.core.groupby.grouper', 'pandas.core.groupby.categorical', 'pandas.tseries.api', 'pandas.core.computation', 'pandas.core.computation.api', 'pandas.core.computation.eval', 'pandas.core.computation.engines', 'pandas.core.computation.align', 'pandas.core.computation.common', 'pandas.core.computation.ops', 'pandas.core.computation.scope', 'pandas.compat.chainmap', 'pandas.core.computation.expr', 'pandas.core.computation.parsing', 'pandas.core.reshape.api', 'pandas.core.reshape.merge', 'pandas.core.reshape.pivot', 'pandas.core.reshape.reshape', 'pandas.core.reshape.tile', 'pandas.api', 'pandas.api.extensions', 'pandas.api.indexers', 'pandas.api.types', 'pandas.core.dtypes.api', 'pandas.util._print_versions', 'pandas.io.api', 'pandas.io.clipboards', 'pandas.io.excel', 'pandas.io.excel._base', 'pandas._libs.parsers', 'pandas.io.excel._util', 'pandas.io.parsers', 'pandas.io.date_converters', 'pandas.io.excel._odfreader', 'pandas.io.excel._openpyxl', 'pandas.io.excel._pyxlsb', 'pandas.io.excel._xlrd', 'pandas.io.excel._odswriter', 'pandas._libs.json', 'pandas.io.formats.excel', 'pandas.io.formats.css', 'pandas.io.excel._xlsxwriter', 'pandas.io.excel._xlwt', 'pandas.io.feather_format', 'pandas.io.gbq', 'pandas.io.html', 'pandas.io.json', 'pandas.io.json._json', 'pandas.io.json._normalize', 'pandas.io.json._table_schema', 'pandas.io.orc', 'pandas.io.parquet', 'pandas.io.pickle', 'pandas.compat.pickle_compat', 'pandas.io.pytables', 'pandas.core.computation.pytables', 'pandas.io.sas', 'pandas.io.sas.sasreader', 'pandas.io.spss', 'pandas.io.sql', 'pandas.io.stata', 'pandas.util._tester', 'pandas.testing', 'pandas._testing', 'pandas._libs.testing', 'pandas._version', 'google.colab.drive', 'pexpect.popen_spawn', 'google.colab.files', 'http', 'http.server', 'http.client', 'email.message', 'uu', 'email._encoded_words', 'email.iterators', 'socketserver', 'six.moves.urllib', 'google.colab.snippets', 'google.colab.widgets', 'google.colab.widgets._grid', 'google.colab.widgets._widget', 'google.colab.widgets._tabbar', 'google.colab._kernel', 'google.colab._shell', 'google.colab._event_manager', 'google.colab._history', 'google.colab._inspector', 'astor', 'astor.code_gen', 'astor.op_util', 'astor.node_util', 'astor.string_repr', 'astor.source_repr', 'astor.file_util', 'astor.tree_walk', 'google.colab._pip', 'encodings.idna', 'stringprep', 'faulthandler', 'ipykernel.datapub', 'ipykernel.serialize', 'ipykernel.pickleutil', 'ipykernel.codeutil', 'IPython.lib.deepreload', 'IPython.core.completerlib', 'matplotlib', 'matplotlib.cbook', 'matplotlib.cbook.deprecation', 'matplotlib.rcsetup', 'matplotlib.fontconfig_pattern', 'pyparsing', 'matplotlib.colors', 'matplotlib.docstring', 'matplotlib._color_data', 'cycler', 'matplotlib._version', 'matplotlib.ft2font', 'kiwisolver', 'matplotlib.pyplot', 'matplotlib.colorbar', 'matplotlib.artist', 'matplotlib.path', 'matplotlib._path', 'matplotlib.transforms', 'matplotlib.collections', 'matplotlib.cm', 'matplotlib._cm', 'matplotlib._cm_listed', 'matplotlib.lines', 'matplotlib.markers', 'matplotlib.contour', 'matplotlib.ticker', 'matplotlib.font_manager', 'matplotlib.afm', 'matplotlib._mathtext_data', 'matplotlib.text', 'matplotlib.patches', 'matplotlib.bezier', 'matplotlib.textpath', 'matplotlib._text_layout', 'matplotlib.dviread', 'matplotlib.mathtext', 'matplotlib.texmanager', 'matplotlib.blocking_input', 'matplotlib.gridspec', 'matplotlib._pylab_helpers', 'matplotlib.tight_layout', 'matplotlib._layoutbox', 'matplotlib._constrained_layout', 'matplotlib.image', 'matplotlib.backend_bases', 'matplotlib.backend_tools', 'matplotlib.tight_bbox', 'matplotlib.widgets', 'PIL', 'PIL._version', 'matplotlib._image', 'matplotlib.style', 'matplotlib.style.core', 'matplotlib.figure', 'matplotlib.backends', 'matplotlib.projections', 'matplotlib.axes', 'matplotlib.axes._subplots', 'matplotlib.axes._axes', 'matplotlib.category', 'matplotlib.units', 'matplotlib.dates', 'dateutil.rrule', 'matplotlib.legend', 'matplotlib.offsetbox', 'matplotlib.container', 'matplotlib.legend_handler', 'matplotlib.mlab', 'matplotlib.quiver', 'matplotlib.stackplot', 'matplotlib.streamplot', 'matplotlib.table', 'matplotlib.tri', 'matplotlib.tri.triangulation', 'matplotlib.tri.tricontour', 'matplotlib.tri.tritools', 'matplotlib.tri.trifinder', 'matplotlib.tri.triinterpolate', 'matplotlib.tri.trirefine', 'matplotlib.tri.tripcolor', 'matplotlib.tri.triplot', 'matplotlib.axes._base', 'matplotlib.axis', 'matplotlib.scale', 'matplotlib.spines', 'matplotlib.axes._secondary_axes', 'matplotlib.projections.geo', 'matplotlib.projections.polar', 'mpl_toolkits.mplot3d', 'mpl_toolkits.mplot3d.axes3d', 'mpl_toolkits.mplot3d.art3d', 'mpl_toolkits.mplot3d.proj3d', 'mpl_toolkits.mplot3d.axis3d', 'ipykernel.pylab', 'ipykernel.pylab.backend_inline', 'matplotlib.backends.backend_agg', 'matplotlib.backends._backend_agg', 'PIL.Image', 'PIL.ImageMode', 'PIL.TiffTags', 'PIL._binary', 'PIL._util', 'PIL._imaging', 'cffi', 'cffi.api', 'cffi.lock', 'cffi.error', 'cffi.model', 'ipykernel.pylab.config', 'ipykernel.eventloops', 'storemagic', 'ipywidgets', 'ipywidgets._version', 'ipywidgets.widgets', 'ipywidgets.widgets.widget', 'ipywidgets.widgets.domwidget', 'ipywidgets.widgets.trait_types', 'ipywidgets.widgets.util', 'ipywidgets.widgets.widget_layout', 'ipywidgets.widgets.widget_style', 'ipywidgets.widgets.valuewidget', 'ipywidgets.widgets.widget_core', 'ipywidgets.widgets.widget_bool', 'ipywidgets.widgets.widget_description', 'ipywidgets.widgets.widget_button', 'ipywidgets.widgets.widget_box', 'ipywidgets.widgets.docutils', 'ipywidgets.widgets.widget_float', 'ipywidgets.widgets.widget_int', 'ipywidgets.widgets.widget_color', 'ipywidgets.widgets.widget_date', 'ipywidgets.widgets.widget_output', 'ipywidgets.widgets.widget_selection', 'ipywidgets.widgets.widget_selectioncontainer', 'ipywidgets.widgets.widget_string', 'ipywidgets.widgets.widget_controller', 'ipywidgets.widgets.interaction', 'ipywidgets.widgets.widget_link', 'ipywidgets.widgets.widget_media', 'ipywidgets.widgets.widget_templates', 'ipywidgets.widgets.widget_upload', 'pygooglenews', 'feedparser', 'cgi', 'urllib.request', 'urllib.error', 'urllib.response', 'xml.sax', 'xml.sax.xmlreader', 'xml.sax.handler', 'xml.sax._exceptions', 'xml.sax.saxutils', 'xml.sax.expatreader', 'chardet', 'chardet.compat', 'chardet.universaldetector', 'chardet.charsetgroupprober', 'chardet.enums', 'chardet.charsetprober', 'chardet.escprober', 'chardet.codingstatemachine', 'chardet.escsm', 'chardet.latin1prober', 'chardet.mbcsgroupprober', 'chardet.utf8prober', 'chardet.mbcssm', 'chardet.sjisprober', 'chardet.mbcharsetprober', 'chardet.chardistribution', 'chardet.euctwfreq', 'chardet.euckrfreq', 'chardet.gb2312freq', 'chardet.big5freq', 'chardet.jisfreq', 'chardet.jpcntx', 'chardet.eucjpprober', 'chardet.gb2312prober', 'chardet.euckrprober', 'chardet.cp949prober', 'chardet.big5prober', 'chardet.euctwprober', 'chardet.sbcsgroupprober', 'chardet.sbcharsetprober', 'chardet.langcyrillicmodel', 'chardet.langgreekmodel', 'chardet.langbulgarianmodel', 'chardet.langthaimodel', 'chardet.langhebrewmodel', 'chardet.hebrewprober', 'chardet.langturkishmodel', 'chardet.version', 'bs4', 'bs4.builder', 'bs4.element', 'soupsieve', 'soupsieve.__meta__', 'soupsieve.css_parser', 'soupsieve.util', 'soupsieve.css_match', 'soupsieve.css_types', 'bs4.formatter', 'bs4.dammit', 'bs4.builder._htmlparser', 'html.parser', '_markupbase', 'bs4.builder._html5lib', 'html5lib', 'html5lib.html5parser', 'html5lib._inputstream', 'webencodings', 'webencodings.labels', 'encodings.utf_16_le', 'encodings.utf_16_be', 'html5lib.constants', 'html5lib._utils', 'xml.etree', 'xml.etree.cElementTree', 'xml.etree.ElementTree', 'xml.etree.ElementPath', '_elementtree', 'html5lib._tokenizer', 'html5lib._trie', 'html5lib._trie.py', 'html5lib._trie._base', 'html5lib.treebuilders', 'html5lib.treebuilders.base', 'html5lib.treewalkers', 'html5lib.serializer', 'bs4.builder._lxml', 'lxml', 'lxml.etree', '_cython_0_29_2', 'lxml._elementpath', 'dateparser', 'dateparser.date', 'regex', 'regex.regex', 'regex._regex_core', 'regex._regex', 'dateparser.date_parser', 'tzlocal', 'tzlocal.unix', 'dateparser.timezone_parser', 'dateparser.timezones', 'dateparser.utils', 'dateparser.conf', 'dateparser_data', 'dateparser_data.settings', 'dateparser.parser', 'dateparser.utils.strptime', 'strptime_patched', 'calendar_patched', 'dateparser.freshness_date_parser', 'dateparser.languages', 'dateparser.languages.locale', 'dateparser.languages.dictionary', 'dateparser.languages.loader', 'dateparser.data', 'dateparser.data.date_translation_data', 'dateparser.data.numeral_translation_data', 'dateparser.data.languages_info', 'requests', 'urllib3', 'urllib3.connectionpool', 'urllib3.exceptions', 'urllib3.packages', 'urllib3.packages.ssl_match_hostname', 'urllib3.packages.six', 'urllib3.packages.six.moves', 'urllib3.packages.six.moves.http_client', 'urllib3.connection', 'urllib3.util', 'urllib3.util.connection', 'urllib3.util.wait', 'urllib3.contrib', 'urllib3.contrib._appengine_environ', 'urllib3.util.request', 'urllib3.util.response', 'urllib3.util.ssl_', 'urllib3.util.timeout', 'urllib3.util.retry', 'urllib3.util.url', 'urllib3.packages.six.moves.urllib', 'urllib3.packages.six.moves.urllib.parse', 'urllib3._collections', 'urllib3.request', 'urllib3.filepost', 'urllib3.fields', 'urllib3.response', 'urllib3.util.queue', 'urllib3.poolmanager', 'requests.exceptions', 'requests.__version__', 'requests.utils', 'requests.certs', 'certifi', 'certifi.core', 'requests._internal_utils', 'requests.compat', 'http.cookiejar', 'http.cookies', 'requests.cookies', 'requests.structures', 'requests.packages', 'requests.packages.urllib3', 'requests.packages.urllib3.connectionpool', 'requests.packages.urllib3.exceptions', 'requests.packages.urllib3.packages', 'requests.packages.urllib3.packages.ssl_match_hostname', 'requests.packages.urllib3.packages.six', 'requests.packages.urllib3.packages.six.moves', 'requests.packages.urllib3.packages.six.moves.http_client', 'requests.packages.urllib3.connection', 'requests.packages.urllib3.util', 'requests.packages.urllib3.util.connection', 'requests.packages.urllib3.util.wait', 'requests.packages.urllib3.contrib', 'requests.packages.urllib3.contrib._appengine_environ', 'requests.packages.urllib3.util.request', 'requests.packages.urllib3.util.response', 'requests.packages.urllib3.util.ssl_', 'requests.packages.urllib3.util.timeout', 'requests.packages.urllib3.util.retry', 'requests.packages.urllib3.util.url', 'requests.packages.urllib3.packages.six.moves.urllib', 'requests.packages.urllib3.packages.six.moves.urllib.parse', 'requests.packages.urllib3._collections', 'requests.packages.urllib3.request', 'requests.packages.urllib3.filepost', 'requests.packages.urllib3.fields', 'requests.packages.urllib3.response', 'requests.packages.urllib3.util.queue', 'requests.packages.urllib3.poolmanager', 'idna', 'idna.package_data', 'idna.core', 'idna.idnadata', 'idna.intranges', 'requests.packages.idna', 'requests.packages.idna.package_data', 'requests.packages.idna.core', 'requests.packages.idna.idnadata', 'requests.packages.idna.intranges', 'requests.packages.chardet', 'requests.packages.chardet.compat', 'requests.packages.chardet.universaldetector', 'requests.packages.chardet.charsetgroupprober', 'requests.packages.chardet.enums', 'requests.packages.chardet.charsetprober', 'requests.packages.chardet.escprober', 'requests.packages.chardet.codingstatemachine', 'requests.packages.chardet.escsm', 'requests.packages.chardet.latin1prober', 'requests.packages.chardet.mbcsgroupprober', 'requests.packages.chardet.utf8prober', 'requests.packages.chardet.mbcssm', 'requests.packages.chardet.sjisprober', 'requests.packages.chardet.mbcharsetprober', 'requests.packages.chardet.chardistribution', 'requests.packages.chardet.euctwfreq', 'requests.packages.chardet.euckrfreq', 'requests.packages.chardet.gb2312freq', 'requests.packages.chardet.big5freq', 'requests.packages.chardet.jisfreq', 'requests.packages.chardet.jpcntx', 'requests.packages.chardet.eucjpprober', 'requests.packages.chardet.gb2312prober', 'requests.packages.chardet.euckrprober', 'requests.packages.chardet.cp949prober', 'requests.packages.chardet.big5prober', 'requests.packages.chardet.euctwprober', 'requests.packages.chardet.sbcsgroupprober', 'requests.packages.chardet.sbcharsetprober', 'requests.packages.chardet.langcyrillicmodel', 'requests.packages.chardet.langgreekmodel', 'requests.packages.chardet.langbulgarianmodel', 'requests.packages.chardet.langthaimodel', 'requests.packages.chardet.langhebrewmodel', 'requests.packages.chardet.hebrewprober', 'requests.packages.chardet.langturkishmodel', 'requests.packages.chardet.version', 'requests.models', 'requests.hooks', 'requests.auth', 'requests.status_codes', 'requests.api', 'requests.sessions', 'requests.adapters', 'urllib3.contrib.socks', 'socks', 'netrc', 'zmq.utils.garbage'])\n"
          ],
          "name": "stdout"
        }
      ]
    },
    {
      "cell_type": "markdown",
      "metadata": {
        "id": "g3UTtHCskpCA"
      },
      "source": [
        "**10.Write a Python program to display some information about the OS where the script is running.**"
      ]
    },
    {
      "cell_type": "code",
      "metadata": {
        "colab": {
          "base_uri": "https://localhost:8080/"
        },
        "id": "ZMnUj94ClHZb",
        "outputId": "01456dbe-57b1-41b4-bad3-dab71ac0d55b"
      },
      "source": [
        "# display some information about the OS where the script is running.\n",
        "\n",
        "import os \n",
        "print(os.uname())"
      ],
      "execution_count": null,
      "outputs": [
        {
          "output_type": "stream",
          "text": [
            "posix.uname_result(sysname='Linux', nodename='db7367a371e0', release='4.19.112+', version='#1 SMP Thu Jul 23 08:00:38 PDT 2020', machine='x86_64')\n"
          ],
          "name": "stdout"
        }
      ]
    },
    {
      "cell_type": "markdown",
      "metadata": {
        "id": "AoSz9IFBlkM_"
      },
      "source": [
        "**11.Write a Python program to check the sum of three elements (each from an array) from three arrays is equal to a target value. Print all those three-element combinations.**\n",
        "```\n",
        "Sample data:\n",
        "/*\n",
        "X = [10, 20, 20, 20]\n",
        "Y = [10, 20, 30, 40]\n",
        "Z = [10, 30, 40, 20]\n",
        "target = 70\n",
        "*/\n",
        "```"
      ]
    },
    {
      "cell_type": "code",
      "metadata": {
        "id": "mwC0K5nJlxtR"
      },
      "source": [
        "# Check the sum of three elements (each from an array) from three arrays is equal to a target value.\n",
        "\n",
        "# stuck with this one\n",
        "# Docs: https://docs.python.org/3/library/itertools.html#itertools.starmap\n",
        "#       https://docs.python.org/3/library/functools.html        \n",
        "\n",
        "x = [10, 20, 20, 20]\n",
        "y = [10, 20, 30, 40]\n",
        "z = [10, 30, 40, 20]\n",
        "target = 70\n",
        "\n",
        "def sum_of_three()\n",
        "\n",
        "\n"
      ],
      "execution_count": null,
      "outputs": []
    },
    {
      "cell_type": "markdown",
      "metadata": {
        "id": "ZVEeQzJujZ9Q"
      },
      "source": [
        "**12.Write a Python program to create all possible permutations from a given collection of distinct numbers.**"
      ]
    },
    {
      "cell_type": "code",
      "metadata": {
        "colab": {
          "base_uri": "https://localhost:8080/"
        },
        "id": "udN_9Ypglzbw",
        "outputId": "cb1d846d-fdbb-4442-dedc-5580d6c94a5e"
      },
      "source": [
        "# Create all possible permutations from a given collection of distinct numbers.\n",
        "\n",
        "import itertools\n",
        "nums = [7,8,6]\n",
        "set(itertools.permutations(nums))"
      ],
      "execution_count": null,
      "outputs": [
        {
          "output_type": "execute_result",
          "data": {
            "text/plain": [
              "{(6, 7, 8), (6, 8, 7), (7, 6, 8), (7, 8, 6), (8, 6, 7), (8, 7, 6)}"
            ]
          },
          "metadata": {
            "tags": []
          },
          "execution_count": 14
        }
      ]
    },
    {
      "cell_type": "markdown",
      "metadata": {
        "id": "7dHtMYHFvkbB"
      },
      "source": [
        "**13.Write a Python program to get all possible two digit letter combinations from a digit (1 to 9) string.**\n",
        "```\n",
        "string_maps = {\n",
        "\"1\": \"abc\",\n",
        "\"2\": \"def\",\n",
        "\"3\": \"ghi\",\n",
        "\"4\": \"jkl\",\n",
        "\"5\": \"mno\",\n",
        "\"6\": \"pqrs\",\n",
        "\"7\": \"tuv\",\n",
        "\"8\": \"wxy\",\n",
        "\"9\": \"z\"\n",
        "}\n",
        "```"
      ]
    },
    {
      "cell_type": "code",
      "metadata": {
        "colab": {
          "base_uri": "https://localhost:8080/"
        },
        "id": "Yvn0jEzTvu6-",
        "outputId": "98ee1898-ebc1-4dcf-99eb-247d193684ed"
      },
      "source": [
        "# Get all possible two digit letter combinations from a digit (1 to 9) string.\n",
        "\n",
        "def letter_comb(digits) -> str:\n",
        "  '''\n",
        "  Get all possible two digit letter combinations from a digit (1 to 9) string.\n",
        "  '''\n",
        "  if digits == \"\":\n",
        "    return []\n",
        "  string_maps = {\n",
        "      \"1\": \"abc\",\n",
        "      \"2\": \"def\",\n",
        "      \"3\": \"ghi\",\n",
        "      \"4\": \"jkl\",\n",
        "      \"5\": \"mno\",\n",
        "      \"6\": \"pqrs\",\n",
        "      \"7\": \"tuv\",\n",
        "      \"8\": \"wxy\",\n",
        "      \"9\": \"z\"\n",
        "  }\n",
        "  result = [\"\"]\n",
        "  for num in digits:\n",
        "    temp = []\n",
        "    for i in result:\n",
        "      for char in string_maps[num]:\n",
        "        temp.append(i+char)\n",
        "      result = temp\n",
        "  return result\n",
        "print(letter_comb(\"42\"))\n",
        "print(letter_comb(\"57\"))\n",
        "\n"
      ],
      "execution_count": null,
      "outputs": [
        {
          "output_type": "stream",
          "text": [
            "['jd', 'je', 'jf', 'kd', 'ke', 'kf', 'ld', 'le', 'lf']\n",
            "['mt', 'mu', 'mv', 'nt', 'nu', 'nv', 'ot', 'ou', 'ov']\n"
          ],
          "name": "stdout"
        }
      ]
    },
    {
      "cell_type": "markdown",
      "metadata": {
        "id": "WGCXaqELOvdh"
      },
      "source": [
        "**14.Write a Python program to add two positive integers without using the '+' operator..**\n",
        "```\n",
        "Note: Use bitwise operations to add two numbers\n",
        "```"
      ]
    },
    {
      "cell_type": "code",
      "metadata": {
        "colab": {
          "base_uri": "https://localhost:8080/"
        },
        "id": "iMEURrP6Z94A",
        "outputId": "8a247e84-cee1-4a25-9e84-3aabae5f5e26"
      },
      "source": [
        "# Add two positive integers without using the '+' operator.\n",
        "# Docs: https://docs.python.org/3.8/reference/expressions.html?highlight=bitwise\n",
        "# https://realpython.com/python-bitwise-operators/\n",
        "\n",
        "def add_int(a: int, b: int) -> int:\n",
        "  '''\n",
        "  Add two positive integers without using the '+' operator.\n",
        "  '''\n",
        "  while b != 0:\n",
        "    carry = a & b\n",
        "    a = a ^ b\n",
        "    b = carry << 1\n",
        "  return a \n",
        "add_int(3,15)"
      ],
      "execution_count": null,
      "outputs": [
        {
          "output_type": "execute_result",
          "data": {
            "text/plain": [
              "18"
            ]
          },
          "metadata": {
            "tags": []
          },
          "execution_count": 1
        }
      ]
    },
    {
      "cell_type": "markdown",
      "metadata": {
        "id": "11T2br7ff8mF"
      },
      "source": [
        "**16.Write a Python program to get the third side of right angled triangle from two given sides.**"
      ]
    },
    {
      "cell_type": "code",
      "metadata": {
        "id": "-Yz5tw5ZgIeb"
      },
      "source": [
        "# Get the third side of right angled triangle from two given sides.\n",
        "# Pythagoras theorem: a2 + b2 = c2 \n",
        "# a2 = c2 - b2\n",
        "# b2 = c2 - a2\n",
        "\n",
        "\n",
        "def third_side(a, b, c) -> int:\n",
        "  '''\n",
        "  Get the third side of right angled triangle from two given sides.\n",
        "  '''\n",
        "  if a == str('x'):\n",
        "    return ((c*c - b*b)**0.5)\n",
        "  elif b == str('x'):\n",
        "    return ((c*c - a*a)**0.5)\n",
        "  else: \n",
        "    return ((a*a + b*b)**0.5)\n",
        "\n",
        "assert round(third_side('x',5,10),2) == 8.66\n",
        "assert round(third_side(5,'x',10),2) == 8.66\n",
        "assert round(third_side(5,5,'x'),2) == 7.07\n"
      ],
      "execution_count": null,
      "outputs": []
    },
    {
      "cell_type": "markdown",
      "metadata": {
        "id": "l5SMrHipmccN"
      },
      "source": [
        "**17.Write a Python program to get all strobogrammatic numbers that are of length n.\n",
        "A strobogrammatic number is a number whose numeral is rotationally symmetric, so that it appears the same when rotated 180 degrees. In other words, the numeral looks the same right-side up and upside down (e.g., 69, 96, 1001).**\n",
        "\n",
        "```\n",
        "For example:\n",
        "Given n = 2, return [\"11\", \"69\", \"88\", \"96\"].\n",
        "Given n = 3, return ['818', '111', '916', '619', '808', '101', '906', '609', '888', '181', '986', '689']\n",
        "```"
      ]
    },
    {
      "cell_type": "code",
      "metadata": {
        "colab": {
          "base_uri": "https://localhost:8080/"
        },
        "id": "ZyeRwUWimc1O",
        "outputId": "34b5e3db-1c18-4c94-8448-47cbd73bdead"
      },
      "source": [
        "# Get all strobogrammatic numbers that are of length n. \n",
        "\n",
        "def strobogrammatic_num(n: int):\n",
        "  '''\n",
        "  Get all strobogrammatic numbers that are of length n. \n",
        "  '''\n",
        "  result = []\n",
        "  char_list = ['0', '1', '6', '8', '9']\n",
        "  st_dict = {'0':'0', '1':'1', '6':'9', '8':'8', '9':'6'}\n",
        "  def strob_def(tmp, st_tmp):\n",
        "    if len(tmp) == n:\n",
        "      if tmp == st_tmp[::-1]:\n",
        "        if str(int(tmp)) == tmp:\n",
        "          result.append(tmp)\n",
        "      return\n",
        "    for i in range(len(char_list)):\n",
        "      strob_def(tmp+char_list[i], st_tmp+st_dict[char_list[i]])\n",
        "  strob_def(\"\",\"\")\n",
        "  return (result)\n",
        "\n",
        "strobogrammatic_num(10)"
      ],
      "execution_count": null,
      "outputs": [
        {
          "output_type": "execute_result",
          "data": {
            "text/plain": [
              "['1000000001',\n",
              " '1000110001',\n",
              " '1000690001',\n",
              " '1000880001',\n",
              " '1000960001',\n",
              " '1001001001',\n",
              " '1001111001',\n",
              " '1001691001',\n",
              " '1001881001',\n",
              " '1001961001',\n",
              " '1006009001',\n",
              " '1006119001',\n",
              " '1006699001',\n",
              " '1006889001',\n",
              " '1006969001',\n",
              " '1008008001',\n",
              " '1008118001',\n",
              " '1008698001',\n",
              " '1008888001',\n",
              " '1008968001',\n",
              " '1009006001',\n",
              " '1009116001',\n",
              " '1009696001',\n",
              " '1009886001',\n",
              " '1009966001',\n",
              " '1010000101',\n",
              " '1010110101',\n",
              " '1010690101',\n",
              " '1010880101',\n",
              " '1010960101',\n",
              " '1011001101',\n",
              " '1011111101',\n",
              " '1011691101',\n",
              " '1011881101',\n",
              " '1011961101',\n",
              " '1016009101',\n",
              " '1016119101',\n",
              " '1016699101',\n",
              " '1016889101',\n",
              " '1016969101',\n",
              " '1018008101',\n",
              " '1018118101',\n",
              " '1018698101',\n",
              " '1018888101',\n",
              " '1018968101',\n",
              " '1019006101',\n",
              " '1019116101',\n",
              " '1019696101',\n",
              " '1019886101',\n",
              " '1019966101',\n",
              " '1060000901',\n",
              " '1060110901',\n",
              " '1060690901',\n",
              " '1060880901',\n",
              " '1060960901',\n",
              " '1061001901',\n",
              " '1061111901',\n",
              " '1061691901',\n",
              " '1061881901',\n",
              " '1061961901',\n",
              " '1066009901',\n",
              " '1066119901',\n",
              " '1066699901',\n",
              " '1066889901',\n",
              " '1066969901',\n",
              " '1068008901',\n",
              " '1068118901',\n",
              " '1068698901',\n",
              " '1068888901',\n",
              " '1068968901',\n",
              " '1069006901',\n",
              " '1069116901',\n",
              " '1069696901',\n",
              " '1069886901',\n",
              " '1069966901',\n",
              " '1080000801',\n",
              " '1080110801',\n",
              " '1080690801',\n",
              " '1080880801',\n",
              " '1080960801',\n",
              " '1081001801',\n",
              " '1081111801',\n",
              " '1081691801',\n",
              " '1081881801',\n",
              " '1081961801',\n",
              " '1086009801',\n",
              " '1086119801',\n",
              " '1086699801',\n",
              " '1086889801',\n",
              " '1086969801',\n",
              " '1088008801',\n",
              " '1088118801',\n",
              " '1088698801',\n",
              " '1088888801',\n",
              " '1088968801',\n",
              " '1089006801',\n",
              " '1089116801',\n",
              " '1089696801',\n",
              " '1089886801',\n",
              " '1089966801',\n",
              " '1090000601',\n",
              " '1090110601',\n",
              " '1090690601',\n",
              " '1090880601',\n",
              " '1090960601',\n",
              " '1091001601',\n",
              " '1091111601',\n",
              " '1091691601',\n",
              " '1091881601',\n",
              " '1091961601',\n",
              " '1096009601',\n",
              " '1096119601',\n",
              " '1096699601',\n",
              " '1096889601',\n",
              " '1096969601',\n",
              " '1098008601',\n",
              " '1098118601',\n",
              " '1098698601',\n",
              " '1098888601',\n",
              " '1098968601',\n",
              " '1099006601',\n",
              " '1099116601',\n",
              " '1099696601',\n",
              " '1099886601',\n",
              " '1099966601',\n",
              " '1100000011',\n",
              " '1100110011',\n",
              " '1100690011',\n",
              " '1100880011',\n",
              " '1100960011',\n",
              " '1101001011',\n",
              " '1101111011',\n",
              " '1101691011',\n",
              " '1101881011',\n",
              " '1101961011',\n",
              " '1106009011',\n",
              " '1106119011',\n",
              " '1106699011',\n",
              " '1106889011',\n",
              " '1106969011',\n",
              " '1108008011',\n",
              " '1108118011',\n",
              " '1108698011',\n",
              " '1108888011',\n",
              " '1108968011',\n",
              " '1109006011',\n",
              " '1109116011',\n",
              " '1109696011',\n",
              " '1109886011',\n",
              " '1109966011',\n",
              " '1110000111',\n",
              " '1110110111',\n",
              " '1110690111',\n",
              " '1110880111',\n",
              " '1110960111',\n",
              " '1111001111',\n",
              " '1111111111',\n",
              " '1111691111',\n",
              " '1111881111',\n",
              " '1111961111',\n",
              " '1116009111',\n",
              " '1116119111',\n",
              " '1116699111',\n",
              " '1116889111',\n",
              " '1116969111',\n",
              " '1118008111',\n",
              " '1118118111',\n",
              " '1118698111',\n",
              " '1118888111',\n",
              " '1118968111',\n",
              " '1119006111',\n",
              " '1119116111',\n",
              " '1119696111',\n",
              " '1119886111',\n",
              " '1119966111',\n",
              " '1160000911',\n",
              " '1160110911',\n",
              " '1160690911',\n",
              " '1160880911',\n",
              " '1160960911',\n",
              " '1161001911',\n",
              " '1161111911',\n",
              " '1161691911',\n",
              " '1161881911',\n",
              " '1161961911',\n",
              " '1166009911',\n",
              " '1166119911',\n",
              " '1166699911',\n",
              " '1166889911',\n",
              " '1166969911',\n",
              " '1168008911',\n",
              " '1168118911',\n",
              " '1168698911',\n",
              " '1168888911',\n",
              " '1168968911',\n",
              " '1169006911',\n",
              " '1169116911',\n",
              " '1169696911',\n",
              " '1169886911',\n",
              " '1169966911',\n",
              " '1180000811',\n",
              " '1180110811',\n",
              " '1180690811',\n",
              " '1180880811',\n",
              " '1180960811',\n",
              " '1181001811',\n",
              " '1181111811',\n",
              " '1181691811',\n",
              " '1181881811',\n",
              " '1181961811',\n",
              " '1186009811',\n",
              " '1186119811',\n",
              " '1186699811',\n",
              " '1186889811',\n",
              " '1186969811',\n",
              " '1188008811',\n",
              " '1188118811',\n",
              " '1188698811',\n",
              " '1188888811',\n",
              " '1188968811',\n",
              " '1189006811',\n",
              " '1189116811',\n",
              " '1189696811',\n",
              " '1189886811',\n",
              " '1189966811',\n",
              " '1190000611',\n",
              " '1190110611',\n",
              " '1190690611',\n",
              " '1190880611',\n",
              " '1190960611',\n",
              " '1191001611',\n",
              " '1191111611',\n",
              " '1191691611',\n",
              " '1191881611',\n",
              " '1191961611',\n",
              " '1196009611',\n",
              " '1196119611',\n",
              " '1196699611',\n",
              " '1196889611',\n",
              " '1196969611',\n",
              " '1198008611',\n",
              " '1198118611',\n",
              " '1198698611',\n",
              " '1198888611',\n",
              " '1198968611',\n",
              " '1199006611',\n",
              " '1199116611',\n",
              " '1199696611',\n",
              " '1199886611',\n",
              " '1199966611',\n",
              " '1600000091',\n",
              " '1600110091',\n",
              " '1600690091',\n",
              " '1600880091',\n",
              " '1600960091',\n",
              " '1601001091',\n",
              " '1601111091',\n",
              " '1601691091',\n",
              " '1601881091',\n",
              " '1601961091',\n",
              " '1606009091',\n",
              " '1606119091',\n",
              " '1606699091',\n",
              " '1606889091',\n",
              " '1606969091',\n",
              " '1608008091',\n",
              " '1608118091',\n",
              " '1608698091',\n",
              " '1608888091',\n",
              " '1608968091',\n",
              " '1609006091',\n",
              " '1609116091',\n",
              " '1609696091',\n",
              " '1609886091',\n",
              " '1609966091',\n",
              " '1610000191',\n",
              " '1610110191',\n",
              " '1610690191',\n",
              " '1610880191',\n",
              " '1610960191',\n",
              " '1611001191',\n",
              " '1611111191',\n",
              " '1611691191',\n",
              " '1611881191',\n",
              " '1611961191',\n",
              " '1616009191',\n",
              " '1616119191',\n",
              " '1616699191',\n",
              " '1616889191',\n",
              " '1616969191',\n",
              " '1618008191',\n",
              " '1618118191',\n",
              " '1618698191',\n",
              " '1618888191',\n",
              " '1618968191',\n",
              " '1619006191',\n",
              " '1619116191',\n",
              " '1619696191',\n",
              " '1619886191',\n",
              " '1619966191',\n",
              " '1660000991',\n",
              " '1660110991',\n",
              " '1660690991',\n",
              " '1660880991',\n",
              " '1660960991',\n",
              " '1661001991',\n",
              " '1661111991',\n",
              " '1661691991',\n",
              " '1661881991',\n",
              " '1661961991',\n",
              " '1666009991',\n",
              " '1666119991',\n",
              " '1666699991',\n",
              " '1666889991',\n",
              " '1666969991',\n",
              " '1668008991',\n",
              " '1668118991',\n",
              " '1668698991',\n",
              " '1668888991',\n",
              " '1668968991',\n",
              " '1669006991',\n",
              " '1669116991',\n",
              " '1669696991',\n",
              " '1669886991',\n",
              " '1669966991',\n",
              " '1680000891',\n",
              " '1680110891',\n",
              " '1680690891',\n",
              " '1680880891',\n",
              " '1680960891',\n",
              " '1681001891',\n",
              " '1681111891',\n",
              " '1681691891',\n",
              " '1681881891',\n",
              " '1681961891',\n",
              " '1686009891',\n",
              " '1686119891',\n",
              " '1686699891',\n",
              " '1686889891',\n",
              " '1686969891',\n",
              " '1688008891',\n",
              " '1688118891',\n",
              " '1688698891',\n",
              " '1688888891',\n",
              " '1688968891',\n",
              " '1689006891',\n",
              " '1689116891',\n",
              " '1689696891',\n",
              " '1689886891',\n",
              " '1689966891',\n",
              " '1690000691',\n",
              " '1690110691',\n",
              " '1690690691',\n",
              " '1690880691',\n",
              " '1690960691',\n",
              " '1691001691',\n",
              " '1691111691',\n",
              " '1691691691',\n",
              " '1691881691',\n",
              " '1691961691',\n",
              " '1696009691',\n",
              " '1696119691',\n",
              " '1696699691',\n",
              " '1696889691',\n",
              " '1696969691',\n",
              " '1698008691',\n",
              " '1698118691',\n",
              " '1698698691',\n",
              " '1698888691',\n",
              " '1698968691',\n",
              " '1699006691',\n",
              " '1699116691',\n",
              " '1699696691',\n",
              " '1699886691',\n",
              " '1699966691',\n",
              " '1800000081',\n",
              " '1800110081',\n",
              " '1800690081',\n",
              " '1800880081',\n",
              " '1800960081',\n",
              " '1801001081',\n",
              " '1801111081',\n",
              " '1801691081',\n",
              " '1801881081',\n",
              " '1801961081',\n",
              " '1806009081',\n",
              " '1806119081',\n",
              " '1806699081',\n",
              " '1806889081',\n",
              " '1806969081',\n",
              " '1808008081',\n",
              " '1808118081',\n",
              " '1808698081',\n",
              " '1808888081',\n",
              " '1808968081',\n",
              " '1809006081',\n",
              " '1809116081',\n",
              " '1809696081',\n",
              " '1809886081',\n",
              " '1809966081',\n",
              " '1810000181',\n",
              " '1810110181',\n",
              " '1810690181',\n",
              " '1810880181',\n",
              " '1810960181',\n",
              " '1811001181',\n",
              " '1811111181',\n",
              " '1811691181',\n",
              " '1811881181',\n",
              " '1811961181',\n",
              " '1816009181',\n",
              " '1816119181',\n",
              " '1816699181',\n",
              " '1816889181',\n",
              " '1816969181',\n",
              " '1818008181',\n",
              " '1818118181',\n",
              " '1818698181',\n",
              " '1818888181',\n",
              " '1818968181',\n",
              " '1819006181',\n",
              " '1819116181',\n",
              " '1819696181',\n",
              " '1819886181',\n",
              " '1819966181',\n",
              " '1860000981',\n",
              " '1860110981',\n",
              " '1860690981',\n",
              " '1860880981',\n",
              " '1860960981',\n",
              " '1861001981',\n",
              " '1861111981',\n",
              " '1861691981',\n",
              " '1861881981',\n",
              " '1861961981',\n",
              " '1866009981',\n",
              " '1866119981',\n",
              " '1866699981',\n",
              " '1866889981',\n",
              " '1866969981',\n",
              " '1868008981',\n",
              " '1868118981',\n",
              " '1868698981',\n",
              " '1868888981',\n",
              " '1868968981',\n",
              " '1869006981',\n",
              " '1869116981',\n",
              " '1869696981',\n",
              " '1869886981',\n",
              " '1869966981',\n",
              " '1880000881',\n",
              " '1880110881',\n",
              " '1880690881',\n",
              " '1880880881',\n",
              " '1880960881',\n",
              " '1881001881',\n",
              " '1881111881',\n",
              " '1881691881',\n",
              " '1881881881',\n",
              " '1881961881',\n",
              " '1886009881',\n",
              " '1886119881',\n",
              " '1886699881',\n",
              " '1886889881',\n",
              " '1886969881',\n",
              " '1888008881',\n",
              " '1888118881',\n",
              " '1888698881',\n",
              " '1888888881',\n",
              " '1888968881',\n",
              " '1889006881',\n",
              " '1889116881',\n",
              " '1889696881',\n",
              " '1889886881',\n",
              " '1889966881',\n",
              " '1890000681',\n",
              " '1890110681',\n",
              " '1890690681',\n",
              " '1890880681',\n",
              " '1890960681',\n",
              " '1891001681',\n",
              " '1891111681',\n",
              " '1891691681',\n",
              " '1891881681',\n",
              " '1891961681',\n",
              " '1896009681',\n",
              " '1896119681',\n",
              " '1896699681',\n",
              " '1896889681',\n",
              " '1896969681',\n",
              " '1898008681',\n",
              " '1898118681',\n",
              " '1898698681',\n",
              " '1898888681',\n",
              " '1898968681',\n",
              " '1899006681',\n",
              " '1899116681',\n",
              " '1899696681',\n",
              " '1899886681',\n",
              " '1899966681',\n",
              " '1900000061',\n",
              " '1900110061',\n",
              " '1900690061',\n",
              " '1900880061',\n",
              " '1900960061',\n",
              " '1901001061',\n",
              " '1901111061',\n",
              " '1901691061',\n",
              " '1901881061',\n",
              " '1901961061',\n",
              " '1906009061',\n",
              " '1906119061',\n",
              " '1906699061',\n",
              " '1906889061',\n",
              " '1906969061',\n",
              " '1908008061',\n",
              " '1908118061',\n",
              " '1908698061',\n",
              " '1908888061',\n",
              " '1908968061',\n",
              " '1909006061',\n",
              " '1909116061',\n",
              " '1909696061',\n",
              " '1909886061',\n",
              " '1909966061',\n",
              " '1910000161',\n",
              " '1910110161',\n",
              " '1910690161',\n",
              " '1910880161',\n",
              " '1910960161',\n",
              " '1911001161',\n",
              " '1911111161',\n",
              " '1911691161',\n",
              " '1911881161',\n",
              " '1911961161',\n",
              " '1916009161',\n",
              " '1916119161',\n",
              " '1916699161',\n",
              " '1916889161',\n",
              " '1916969161',\n",
              " '1918008161',\n",
              " '1918118161',\n",
              " '1918698161',\n",
              " '1918888161',\n",
              " '1918968161',\n",
              " '1919006161',\n",
              " '1919116161',\n",
              " '1919696161',\n",
              " '1919886161',\n",
              " '1919966161',\n",
              " '1960000961',\n",
              " '1960110961',\n",
              " '1960690961',\n",
              " '1960880961',\n",
              " '1960960961',\n",
              " '1961001961',\n",
              " '1961111961',\n",
              " '1961691961',\n",
              " '1961881961',\n",
              " '1961961961',\n",
              " '1966009961',\n",
              " '1966119961',\n",
              " '1966699961',\n",
              " '1966889961',\n",
              " '1966969961',\n",
              " '1968008961',\n",
              " '1968118961',\n",
              " '1968698961',\n",
              " '1968888961',\n",
              " '1968968961',\n",
              " '1969006961',\n",
              " '1969116961',\n",
              " '1969696961',\n",
              " '1969886961',\n",
              " '1969966961',\n",
              " '1980000861',\n",
              " '1980110861',\n",
              " '1980690861',\n",
              " '1980880861',\n",
              " '1980960861',\n",
              " '1981001861',\n",
              " '1981111861',\n",
              " '1981691861',\n",
              " '1981881861',\n",
              " '1981961861',\n",
              " '1986009861',\n",
              " '1986119861',\n",
              " '1986699861',\n",
              " '1986889861',\n",
              " '1986969861',\n",
              " '1988008861',\n",
              " '1988118861',\n",
              " '1988698861',\n",
              " '1988888861',\n",
              " '1988968861',\n",
              " '1989006861',\n",
              " '1989116861',\n",
              " '1989696861',\n",
              " '1989886861',\n",
              " '1989966861',\n",
              " '1990000661',\n",
              " '1990110661',\n",
              " '1990690661',\n",
              " '1990880661',\n",
              " '1990960661',\n",
              " '1991001661',\n",
              " '1991111661',\n",
              " '1991691661',\n",
              " '1991881661',\n",
              " '1991961661',\n",
              " '1996009661',\n",
              " '1996119661',\n",
              " '1996699661',\n",
              " '1996889661',\n",
              " '1996969661',\n",
              " '1998008661',\n",
              " '1998118661',\n",
              " '1998698661',\n",
              " '1998888661',\n",
              " '1998968661',\n",
              " '1999006661',\n",
              " '1999116661',\n",
              " '1999696661',\n",
              " '1999886661',\n",
              " '1999966661',\n",
              " '6000000009',\n",
              " '6000110009',\n",
              " '6000690009',\n",
              " '6000880009',\n",
              " '6000960009',\n",
              " '6001001009',\n",
              " '6001111009',\n",
              " '6001691009',\n",
              " '6001881009',\n",
              " '6001961009',\n",
              " '6006009009',\n",
              " '6006119009',\n",
              " '6006699009',\n",
              " '6006889009',\n",
              " '6006969009',\n",
              " '6008008009',\n",
              " '6008118009',\n",
              " '6008698009',\n",
              " '6008888009',\n",
              " '6008968009',\n",
              " '6009006009',\n",
              " '6009116009',\n",
              " '6009696009',\n",
              " '6009886009',\n",
              " '6009966009',\n",
              " '6010000109',\n",
              " '6010110109',\n",
              " '6010690109',\n",
              " '6010880109',\n",
              " '6010960109',\n",
              " '6011001109',\n",
              " '6011111109',\n",
              " '6011691109',\n",
              " '6011881109',\n",
              " '6011961109',\n",
              " '6016009109',\n",
              " '6016119109',\n",
              " '6016699109',\n",
              " '6016889109',\n",
              " '6016969109',\n",
              " '6018008109',\n",
              " '6018118109',\n",
              " '6018698109',\n",
              " '6018888109',\n",
              " '6018968109',\n",
              " '6019006109',\n",
              " '6019116109',\n",
              " '6019696109',\n",
              " '6019886109',\n",
              " '6019966109',\n",
              " '6060000909',\n",
              " '6060110909',\n",
              " '6060690909',\n",
              " '6060880909',\n",
              " '6060960909',\n",
              " '6061001909',\n",
              " '6061111909',\n",
              " '6061691909',\n",
              " '6061881909',\n",
              " '6061961909',\n",
              " '6066009909',\n",
              " '6066119909',\n",
              " '6066699909',\n",
              " '6066889909',\n",
              " '6066969909',\n",
              " '6068008909',\n",
              " '6068118909',\n",
              " '6068698909',\n",
              " '6068888909',\n",
              " '6068968909',\n",
              " '6069006909',\n",
              " '6069116909',\n",
              " '6069696909',\n",
              " '6069886909',\n",
              " '6069966909',\n",
              " '6080000809',\n",
              " '6080110809',\n",
              " '6080690809',\n",
              " '6080880809',\n",
              " '6080960809',\n",
              " '6081001809',\n",
              " '6081111809',\n",
              " '6081691809',\n",
              " '6081881809',\n",
              " '6081961809',\n",
              " '6086009809',\n",
              " '6086119809',\n",
              " '6086699809',\n",
              " '6086889809',\n",
              " '6086969809',\n",
              " '6088008809',\n",
              " '6088118809',\n",
              " '6088698809',\n",
              " '6088888809',\n",
              " '6088968809',\n",
              " '6089006809',\n",
              " '6089116809',\n",
              " '6089696809',\n",
              " '6089886809',\n",
              " '6089966809',\n",
              " '6090000609',\n",
              " '6090110609',\n",
              " '6090690609',\n",
              " '6090880609',\n",
              " '6090960609',\n",
              " '6091001609',\n",
              " '6091111609',\n",
              " '6091691609',\n",
              " '6091881609',\n",
              " '6091961609',\n",
              " '6096009609',\n",
              " '6096119609',\n",
              " '6096699609',\n",
              " '6096889609',\n",
              " '6096969609',\n",
              " '6098008609',\n",
              " '6098118609',\n",
              " '6098698609',\n",
              " '6098888609',\n",
              " '6098968609',\n",
              " '6099006609',\n",
              " '6099116609',\n",
              " '6099696609',\n",
              " '6099886609',\n",
              " '6099966609',\n",
              " '6100000019',\n",
              " '6100110019',\n",
              " '6100690019',\n",
              " '6100880019',\n",
              " '6100960019',\n",
              " '6101001019',\n",
              " '6101111019',\n",
              " '6101691019',\n",
              " '6101881019',\n",
              " '6101961019',\n",
              " '6106009019',\n",
              " '6106119019',\n",
              " '6106699019',\n",
              " '6106889019',\n",
              " '6106969019',\n",
              " '6108008019',\n",
              " '6108118019',\n",
              " '6108698019',\n",
              " '6108888019',\n",
              " '6108968019',\n",
              " '6109006019',\n",
              " '6109116019',\n",
              " '6109696019',\n",
              " '6109886019',\n",
              " '6109966019',\n",
              " '6110000119',\n",
              " '6110110119',\n",
              " '6110690119',\n",
              " '6110880119',\n",
              " '6110960119',\n",
              " '6111001119',\n",
              " '6111111119',\n",
              " '6111691119',\n",
              " '6111881119',\n",
              " '6111961119',\n",
              " '6116009119',\n",
              " '6116119119',\n",
              " '6116699119',\n",
              " '6116889119',\n",
              " '6116969119',\n",
              " '6118008119',\n",
              " '6118118119',\n",
              " '6118698119',\n",
              " '6118888119',\n",
              " '6118968119',\n",
              " '6119006119',\n",
              " '6119116119',\n",
              " '6119696119',\n",
              " '6119886119',\n",
              " '6119966119',\n",
              " '6160000919',\n",
              " '6160110919',\n",
              " '6160690919',\n",
              " '6160880919',\n",
              " '6160960919',\n",
              " '6161001919',\n",
              " '6161111919',\n",
              " '6161691919',\n",
              " '6161881919',\n",
              " '6161961919',\n",
              " '6166009919',\n",
              " '6166119919',\n",
              " '6166699919',\n",
              " '6166889919',\n",
              " '6166969919',\n",
              " '6168008919',\n",
              " '6168118919',\n",
              " '6168698919',\n",
              " '6168888919',\n",
              " '6168968919',\n",
              " '6169006919',\n",
              " '6169116919',\n",
              " '6169696919',\n",
              " '6169886919',\n",
              " '6169966919',\n",
              " '6180000819',\n",
              " '6180110819',\n",
              " '6180690819',\n",
              " '6180880819',\n",
              " '6180960819',\n",
              " '6181001819',\n",
              " '6181111819',\n",
              " '6181691819',\n",
              " '6181881819',\n",
              " '6181961819',\n",
              " '6186009819',\n",
              " '6186119819',\n",
              " '6186699819',\n",
              " '6186889819',\n",
              " '6186969819',\n",
              " '6188008819',\n",
              " '6188118819',\n",
              " '6188698819',\n",
              " '6188888819',\n",
              " '6188968819',\n",
              " '6189006819',\n",
              " '6189116819',\n",
              " '6189696819',\n",
              " '6189886819',\n",
              " '6189966819',\n",
              " '6190000619',\n",
              " '6190110619',\n",
              " '6190690619',\n",
              " '6190880619',\n",
              " '6190960619',\n",
              " '6191001619',\n",
              " '6191111619',\n",
              " '6191691619',\n",
              " '6191881619',\n",
              " '6191961619',\n",
              " '6196009619',\n",
              " '6196119619',\n",
              " '6196699619',\n",
              " '6196889619',\n",
              " '6196969619',\n",
              " '6198008619',\n",
              " '6198118619',\n",
              " '6198698619',\n",
              " '6198888619',\n",
              " '6198968619',\n",
              " '6199006619',\n",
              " '6199116619',\n",
              " '6199696619',\n",
              " '6199886619',\n",
              " '6199966619',\n",
              " '6600000099',\n",
              " '6600110099',\n",
              " '6600690099',\n",
              " '6600880099',\n",
              " '6600960099',\n",
              " '6601001099',\n",
              " '6601111099',\n",
              " '6601691099',\n",
              " '6601881099',\n",
              " '6601961099',\n",
              " '6606009099',\n",
              " '6606119099',\n",
              " '6606699099',\n",
              " '6606889099',\n",
              " '6606969099',\n",
              " '6608008099',\n",
              " '6608118099',\n",
              " '6608698099',\n",
              " '6608888099',\n",
              " '6608968099',\n",
              " '6609006099',\n",
              " '6609116099',\n",
              " '6609696099',\n",
              " '6609886099',\n",
              " '6609966099',\n",
              " '6610000199',\n",
              " '6610110199',\n",
              " '6610690199',\n",
              " '6610880199',\n",
              " '6610960199',\n",
              " '6611001199',\n",
              " '6611111199',\n",
              " '6611691199',\n",
              " '6611881199',\n",
              " '6611961199',\n",
              " '6616009199',\n",
              " '6616119199',\n",
              " '6616699199',\n",
              " '6616889199',\n",
              " '6616969199',\n",
              " '6618008199',\n",
              " '6618118199',\n",
              " '6618698199',\n",
              " '6618888199',\n",
              " '6618968199',\n",
              " '6619006199',\n",
              " '6619116199',\n",
              " '6619696199',\n",
              " '6619886199',\n",
              " '6619966199',\n",
              " '6660000999',\n",
              " '6660110999',\n",
              " '6660690999',\n",
              " '6660880999',\n",
              " '6660960999',\n",
              " '6661001999',\n",
              " '6661111999',\n",
              " '6661691999',\n",
              " '6661881999',\n",
              " '6661961999',\n",
              " '6666009999',\n",
              " '6666119999',\n",
              " '6666699999',\n",
              " '6666889999',\n",
              " '6666969999',\n",
              " '6668008999',\n",
              " '6668118999',\n",
              " '6668698999',\n",
              " '6668888999',\n",
              " '6668968999',\n",
              " '6669006999',\n",
              " '6669116999',\n",
              " '6669696999',\n",
              " '6669886999',\n",
              " '6669966999',\n",
              " '6680000899',\n",
              " '6680110899',\n",
              " '6680690899',\n",
              " '6680880899',\n",
              " '6680960899',\n",
              " '6681001899',\n",
              " '6681111899',\n",
              " '6681691899',\n",
              " '6681881899',\n",
              " '6681961899',\n",
              " '6686009899',\n",
              " '6686119899',\n",
              " '6686699899',\n",
              " '6686889899',\n",
              " '6686969899',\n",
              " '6688008899',\n",
              " '6688118899',\n",
              " '6688698899',\n",
              " '6688888899',\n",
              " '6688968899',\n",
              " '6689006899',\n",
              " '6689116899',\n",
              " '6689696899',\n",
              " '6689886899',\n",
              " '6689966899',\n",
              " '6690000699',\n",
              " '6690110699',\n",
              " '6690690699',\n",
              " '6690880699',\n",
              " '6690960699',\n",
              " '6691001699',\n",
              " '6691111699',\n",
              " '6691691699',\n",
              " '6691881699',\n",
              " '6691961699',\n",
              " '6696009699',\n",
              " '6696119699',\n",
              " '6696699699',\n",
              " '6696889699',\n",
              " '6696969699',\n",
              " '6698008699',\n",
              " '6698118699',\n",
              " '6698698699',\n",
              " '6698888699',\n",
              " '6698968699',\n",
              " '6699006699',\n",
              " '6699116699',\n",
              " '6699696699',\n",
              " '6699886699',\n",
              " '6699966699',\n",
              " ...]"
            ]
          },
          "metadata": {
            "tags": []
          },
          "execution_count": 4
        }
      ]
    },
    {
      "cell_type": "markdown",
      "metadata": {
        "id": "qgspYKPY7HfC"
      },
      "source": [
        "**18.Write a Python program to find the median among three given numbers.**"
      ]
    },
    {
      "cell_type": "code",
      "metadata": {
        "id": "hp5ee_Rs7Kzy"
      },
      "source": [
        "# Find the median among three given numbers.\n",
        "\n",
        "def median(a: int, b: int, c: int) -> int:\n",
        "  '''\n",
        "  Find the median among three given numbers.\n",
        "  '''\n",
        "  if a<=b and b<=c: return b # abc\n",
        "  elif b<=c and c<=a: return c # acb\n",
        "  elif b<=a and a<=c: return a # bac\n",
        "  elif b<=c and c<=a: return c # bca\n",
        "  elif c<=b and b<=a: return b # cba\n",
        "  else: return a #cab\n",
        "  \n",
        "  assert median(41,57,12) == 41"
      ],
      "execution_count": null,
      "outputs": []
    },
    {
      "cell_type": "markdown",
      "metadata": {
        "id": "ayDXO3h-A3Mz"
      },
      "source": [
        "**19.Write a Python program to find the value of n where n degrees of number 2 are written sequentially in a line without spaces.**"
      ]
    },
    {
      "cell_type": "code",
      "metadata": {
        "id": "WDE--IkhBDjk"
      },
      "source": [
        "# Find the value of n where n degrees of number 2 are written sequentially in a line without spaces.\n",
        "# \n",
        "def value_of_n(nums: str) -> int:\n",
        "  '''\n",
        "  Find the value of n where n degrees of number 2 are written sequentially in a line without spaces.\n",
        "  '''\n",
        "  ans = True\n",
        "  n, tmp, i = 2, 2, 2\n",
        "  while ans: \n",
        "    if str(tmp) in nums: \n",
        "      i += 1\n",
        "      tmp = pow(n, i)\n",
        "    else:\n",
        "      ans = False \n",
        "  return i-1;\n",
        "\n",
        "assert value_of_n(\"248163264128\") == 7 \n",
        "   "
      ],
      "execution_count": null,
      "outputs": []
    },
    {
      "cell_type": "markdown",
      "metadata": {
        "id": "NgnhrU31U7Sn"
      },
      "source": [
        "**20.Write a Python program to find the number of zeros at the end of a factorial of a given positive number.** \n",
        "```\n",
        "Range of the number(n): (1 <= n <= 2*109).\n",
        "```"
      ]
    },
    {
      "cell_type": "code",
      "metadata": {
        "id": "r9v85JjSVRQW"
      },
      "source": [
        "#  Find the number of zeros at the end of a factorial of a given positive number.\n",
        "\n",
        "def find_zeros(n: int) -> int:\n",
        "  '''\n",
        "   Find the number of zeros at the end of a factorial of a given positive number.\n",
        "  '''\n",
        "  count = 0\n",
        "  while (n>=5):\n",
        "    n //= 5\n",
        "    count += n\n",
        "  return count\n",
        "\n",
        "assert find_zeros(100) == 24\n"
      ],
      "execution_count": null,
      "outputs": []
    },
    {
      "cell_type": "markdown",
      "metadata": {
        "id": "0zyHLyYBACR1"
      },
      "source": [
        "**21.Write a Python program to find the number of notes (Sample of notes: 10, 20, 50, 100, 200 and 500 ) against a given amount.**\n",
        "``` \n",
        "Range - Number of notes(n) : n (1 <= n <= 1000000).\n",
        "```"
      ]
    },
    {
      "cell_type": "code",
      "metadata": {
        "id": "rTRsHz91AQkz"
      },
      "source": [
        "# Find the number of notes against a given amount.\n",
        "\n",
        "def num_notes(x: int) -> int:\n",
        "  '''\n",
        "  Find the number of notes against a given amount.\n",
        "  '''\n",
        "  notes = [500, 200, 100, 50, 20, 10]\n",
        "  count = 0\n",
        "  \n",
        "  for i in range(6):\n",
        "    y = notes[i]\n",
        "    count += int(x/y)\n",
        "    x = int(x%y)\n",
        "  if x > 0:\n",
        "    count -= 1\n",
        "  return count\n",
        "\n",
        "assert num_notes(660) == 4"
      ],
      "execution_count": null,
      "outputs": []
    },
    {
      "cell_type": "markdown",
      "metadata": {
        "id": "vjGqCsOSDk7N"
      },
      "source": [
        "**22.Write a Python program to create a sequence where the first four members of the sequence are equal to one, and each successive term of the sequence is equal to the sum of the four previous ones. Find the Nth member of the sequence.**"
      ]
    },
    {
      "cell_type": "code",
      "metadata": {
        "id": "Mfx5aQOhEceM"
      },
      "source": [
        ""
      ],
      "execution_count": null,
      "outputs": []
    },
    {
      "cell_type": "markdown",
      "metadata": {
        "id": "0pr4D3k-uFq5"
      },
      "source": [
        "**23.Write a Python program that accept a positive number and subtract from this number the sum of its digits and so on. Continues this operation until the number is positive.**"
      ]
    },
    {
      "cell_type": "code",
      "metadata": {
        "id": "Ro_enXnEuUZY"
      },
      "source": [
        "# Subtract from positive number the sum of its digits and so on. \n",
        "# Continues this operation until the number is positive.\n",
        "def sum_of_digits(n):\n",
        "  '''\n",
        "  Subtract from positive number the sum of its digits.\n",
        "  '''\n",
        "  s = 0\n",
        "  n_str = str(n)\n",
        "  while (n > 0):\n",
        "    n -= sum([int(i) for i in list(n_str)])\n",
        "    n_str = list(str(n))\n",
        "    s += 1\n",
        "  return s\n",
        "\n",
        "assert sum_of_digits(76) == 8"
      ],
      "execution_count": null,
      "outputs": []
    },
    {
      "cell_type": "markdown",
      "metadata": {
        "id": "Tur_Lifj_acU"
      },
      "source": [
        "**24.Write a Python program to find the number of divisors of a given integer is even or odd.**"
      ]
    },
    {
      "cell_type": "code",
      "metadata": {
        "colab": {
          "base_uri": "https://localhost:8080/"
        },
        "id": "yrOIB7Ah_lDi",
        "outputId": "f746e135-72f5-4ca4-ace3-df0f8cf81d9f"
      },
      "source": [
        "# Find the number of divisors of a given integer is even or odd.\n",
        "\n",
        "def divisor(n: int):\n",
        "  '''\n",
        "  Find the number of divisors of a given integer is even or odd.\n",
        "  '''\n",
        "  for i in range(n):\n",
        "    x = len([i for i in range(1, n+1) if not n%i])\n",
        "  return x\n",
        "  \n",
        "assert divisor(18) == 6"
      ],
      "execution_count": null,
      "outputs": [
        {
          "output_type": "stream",
          "text": [
            "6\n"
          ],
          "name": "stdout"
        }
      ]
    },
    {
      "cell_type": "markdown",
      "metadata": {
        "id": "_Fv7-AyhmxDS"
      },
      "source": [
        "**25.Write a Python program to find the digits which are absent in a given mobile number.**"
      ]
    },
    {
      "cell_type": "code",
      "metadata": {
        "id": "ALpxVRC-m5B1",
        "colab": {
          "base_uri": "https://localhost:8080/"
        },
        "outputId": "97b228ee-12ff-4f06-b5b0-e07c56acd599"
      },
      "source": [
        "# Find the digits which are absent in a given mobile number.\n",
        "\n",
        "phone_num = [2,3,4,4,5,6,7,8,8,0]\n",
        "nums = [0,1,2,3,4,5,6,7,8,9]\n",
        "\n",
        "absent_digits = []\n",
        "for i in nums:\n",
        "  if i not in phone_num:\n",
        "    absent_digits.append(i)\n",
        "    \n",
        "print(absent_digits) "
      ],
      "execution_count": null,
      "outputs": [
        {
          "output_type": "stream",
          "text": [
            "[1, 9]\n"
          ],
          "name": "stdout"
        }
      ]
    },
    {
      "cell_type": "markdown",
      "metadata": {
        "id": "j6aofUt8jUKK"
      },
      "source": [
        "**26.Write a Python program to compute the summation of the absolute difference of all distinct pairs in a given array (non-decreasing order).** \n",
        "```\n",
        "Sample array: [1, 2, 3]\n",
        "Then all the distinct pairs will be:\n",
        "1 2\n",
        "1 3\n",
        "2 3\n",
        "```"
      ]
    },
    {
      "cell_type": "code",
      "metadata": {
        "colab": {
          "base_uri": "https://localhost:8080/"
        },
        "id": "cvgY68Wwjm82",
        "outputId": "85b666b1-a475-407a-ac5e-bb5bfb361cc6"
      },
      "source": [
        "# Compute the summation of the absolute difference of all distinct pairs in a given array (non-decreasing order).\n",
        "\n",
        "def sum_pairs(arr, n): \n",
        "  '''\n",
        "  Compute the summation of the absolute difference of all distinct pairs in a given array.\n",
        "  '''\n",
        "  result = 0\n",
        "  i = 0\n",
        "\n",
        "  while i < len(arr):\n",
        "    for i in range (n-1, -1, -1):\n",
        "      result += i*arr[i] - (n-i-1)*arr[i]\n",
        "    return result\n",
        "arr = [1,2,3]\n",
        "n = len(arr)\n",
        "print(sum_pairs(arr, n))"
      ],
      "execution_count": null,
      "outputs": [
        {
          "output_type": "stream",
          "text": [
            "4\n"
          ],
          "name": "stdout"
        }
      ]
    },
    {
      "cell_type": "markdown",
      "metadata": {
        "id": "_3YW0Pzmu1DN"
      },
      "source": [
        "**27. Write a Python program to find the type of the progression (arithmetic progression/geometric progression) and the next successive member of a given three successive members of a sequence.**\n",
        "\n",
        "According to Wikipedia, an arithmetic progression (AP) is a sequence of numbers such that the difference of any two successive members of the sequence is a constant. For instance, the sequence 3, 5, 7, 9, 11, 13, . . . is an arithmetic progression with common difference 2. For this problem, we will limit ourselves to arithmetic progression whose common difference is a non-zero integer.\n",
        "On the other hand, a geometric progression (GP) is a sequence of numbers where each term after the first is found by multiplying the previous one by a fixed non-zero number called the common ratio. For example, the sequence 2, 6, 18, 54, . . . is a geometric progression with common ratio 3. For this problem, we will limit ourselves to geometric progression whose common ratio is a non-zero integer."
      ]
    },
    {
      "cell_type": "code",
      "metadata": {
        "id": "DortcGfjvMFe",
        "colab": {
          "base_uri": "https://localhost:8080/"
        },
        "outputId": "d7440d7b-b408-4341-d000-8d1043064224"
      },
      "source": [
        "# Find the type of the progression and the next successive member\n",
        "# of a given three successive members of a sequence.\n",
        "\n",
        "def progression(arr):\n",
        "  '''\n",
        "  Find the type of the progression and the next successive member.\n",
        "  '''\n",
        "  if arr[0] == arr[1] == arr[2]:\n",
        "    print (\"Wrong numbers\")\n",
        "  else:\n",
        "\n",
        "    if arr[1]-arr[0] == arr[2]-arr[1]:\n",
        "      n=2*arr[2]-arr[1]\n",
        "      print(\"AP\", n)\n",
        "    else:\n",
        "      n=arr[2]**2/arr[1]\n",
        "      print(\"GP\", n)\n",
        "progression([2,6,18])\n",
        "progression([2,4,6])\n",
        "progression([2,2,2])"
      ],
      "execution_count": null,
      "outputs": [
        {
          "output_type": "stream",
          "text": [
            "GP 54.0\n",
            "AP 8\n",
            "Wrong numbers\n"
          ],
          "name": "stdout"
        }
      ]
    },
    {
      "cell_type": "markdown",
      "metadata": {
        "id": "fDoMqIopK9Ng"
      },
      "source": [
        "**28.Write a Python program to print the length of the series and the series from the given 3rd term, 3rd last term and the sum of a series.**\n",
        "```\n",
        "Sample Data:\n",
        "Input third term of the series: 3\n",
        "Input 3rd last term: 3\n",
        "Sum of the series: 15\n",
        "Length of the series: 5\n",
        "Series:\n",
        "1 2 3 4 5\n",
        "```"
      ]
    },
    {
      "cell_type": "code",
      "metadata": {
        "id": "zkrmutuLLFp2"
      },
      "source": [
        "# Print the length of the series and the series from \n",
        "# the given 3rd term, 3rd last term and the sum of a series.\n",
        "\n",
        "a = int(input(\"Input third term of the series: \"))\n",
        "b = int(input(\"Input 3rd last term: \"))\n",
        "c = int(input(\"Sum of the series: \"))\n",
        "d = int(input(\"Length of the series: \"))\n",
        "\n",
        "\n",
        "\n",
        "\n",
        "\n",
        "\n"
      ],
      "execution_count": null,
      "outputs": []
    }
  ]
}